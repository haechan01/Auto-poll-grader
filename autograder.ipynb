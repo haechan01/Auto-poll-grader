{
 "cells": [
  {
   "cell_type": "code",
   "execution_count": 1,
   "id": "6ae0d122",
   "metadata": {},
   "outputs": [
    {
     "name": "stdout",
     "output_type": "stream",
     "text": [
      "<!DOCTYPE html>\n",
      "<html>\n",
      "<head>\n",
      "<title>Forum</title>\n",
      "<meta content=\"width=device-width, initial-scale=1, shrink-to-fit=no\" name=\"viewport\"/>\n",
      "<link href=\"//d2qj01d6trgsqb.cloudfront.net/favicon.ico\" rel=\"shortcut icon\" type=\"image/x-icon\"/>\n",
      "<link href=\"//d2qj01d6trgsqb.cloudfront.net/favicon.ico\" rel=\"icon\" type=\"image/x-icon\"/>\n",
      "<link href=\"https://cloud.typography.com/6350032/630642/css/fonts.css\" rel=\"stylesheet\"/>\n",
      "<script src=\"https://use.typekit.net/vuu5fkn.js\"></script>\n",
      "<script>\n",
      "      try {\n",
      "        Typekit.load({ async: true });\n",
      "      } catch (e) {}\n",
      "    </script>\n",
      "<script crossorigin=\"anonymous\" integrity=\"sha256-FgpCb/KJQlLNfOu91ta32o/NMZxltwRo8QtmkMRdAu8=\" src=\"https://code.jquery.com/jquery-3.3.1.min.js\"></script>\n",
      "<script type=\"text/javascript\">\n",
      "    const urlPrefix = \"https://assets.minerva.edu/static/\";\n",
      "    const manifest = {\"admin/js/vendor/select2/i18n/ar.js\": \"admin/js/vendor/select2/i18n/ar.a8bb27ec698c.js\", \"admin/js/vendor/select2/i18n/az.js\": \"admin/js/vendor/select2/i18n/az.498dc667b34e.js\", \"admin/js/vendor/select2/i18n/bg.js\": \"admin/js/vendor/select2/i18n/bg.89cba4df3c86.js\", \"admin/js/vendor/select2/i18n/ca.js\": \"admin/js/vendor/select2/i18n/ca.2eaad4eb1950.js\", \"admin/js/vendor/select2/i18n/cs.js\": \"admin/js/vendor/select2/i18n/cs.a68bcd293adc.js\", \"admin/js/vendor/select2/i18n/da.js\": \"admin/js/vendor/select2/i18n/da.cbf897a0ae53.js\", \"admin/js/vendor/select2/i18n/de.js\": \"admin/js/vendor/select2/i18n/de.366d0aacb55f.js\", \"admin/js/vendor/select2/i18n/el.js\": \"admin/js/vendor/select2/i18n/el.5629ce65500f.js\", \"admin/js/vendor/select2/i18n/en.js\": \"admin/js/vendor/select2/i18n/en.05649b26c086.js\", \"admin/js/vendor/select2/i18n/es.js\": \"admin/js/vendor/select2/i18n/es.dc9dbf9d65df.js\", \"admin/js/vendor/select2/i18n/et.js\": \"admin/js/vendor/select2/i18n/et.c3953fb90b6b.js\", \"admin/js/vendor/select2/i18n/eu.js\": \"admin/js/vendor/select2/i18n/eu.11b925456433.js\", \"admin/js/vendor/select2/i18n/fa.js\": \"admin/js/vendor/select2/i18n/fa.98e52839b583.js\", \"admin/js/vendor/select2/i18n/fi.js\": \"admin/js/vendor/select2/i18n/fi.659847deefdc.js\", \"admin/js/vendor/select2/i18n/fr.js\": \"admin/js/vendor/select2/i18n/fr.b06a3340de45.js\", \"admin/js/vendor/select2/i18n/gl.js\": \"admin/js/vendor/select2/i18n/gl.78a87f7c0a51.js\", \"admin/js/vendor/select2/i18n/he.js\": \"admin/js/vendor/select2/i18n/he.222d90ee0344.js\", \"admin/js/vendor/select2/i18n/hi.js\": \"admin/js/vendor/select2/i18n/hi.116a90b7111b.js\", \"admin/js/vendor/select2/i18n/hr.js\": \"admin/js/vendor/select2/i18n/hr.e1d2c70b4df5.js\", \"admin/js/vendor/select2/i18n/hu.js\": \"admin/js/vendor/select2/i18n/hu.db45641f10b2.js\", \"admin/js/vendor/select2/i18n/id.js\": \"admin/js/vendor/select2/i18n/id.6ee6c9c64b94.js\", \"admin/js/vendor/select2/i18n/is.js\": \"admin/js/vendor/select2/i18n/is.808c7d47acb5.js\", \"admin/js/vendor/select2/i18n/it.js\": \"admin/js/vendor/select2/i18n/it.bae1661dbb77.js\", \"admin/js/vendor/select2/i18n/ja.js\": \"admin/js/vendor/select2/i18n/ja.19cf1ce8a03d.js\", \"admin/js/vendor/select2/i18n/km.js\": \"admin/js/vendor/select2/i18n/km.6074a9c5575c.js\", \"admin/js/vendor/select2/i18n/ko.js\": \"admin/js/vendor/select2/i18n/ko.74b17541834f.js\", \"admin/js/vendor/select2/i18n/lt.js\": \"admin/js/vendor/select2/i18n/lt.a0783b1bd159.js\", \"admin/js/vendor/select2/i18n/lv.js\": \"admin/js/vendor/select2/i18n/lv.07fe2a580d17.js\", \"admin/js/vendor/select2/i18n/mk.js\": \"admin/js/vendor/select2/i18n/mk.4986d7fc3ff3.js\", \"admin/js/vendor/select2/i18n/ms.js\": \"admin/js/vendor/select2/i18n/ms.23e7b4369579.js\", \"admin/js/vendor/select2/i18n/nb.js\": \"admin/js/vendor/select2/i18n/nb.137e184004aa.js\", \"admin/js/vendor/select2/i18n/nl.js\": \"admin/js/vendor/select2/i18n/nl.c363ace8aa05.js\", \"admin/js/vendor/select2/i18n/pl.js\": \"admin/js/vendor/select2/i18n/pl.76465b54a6b0.js\", \"admin/js/vendor/select2/i18n/pt-BR.js\": \"admin/js/vendor/select2/i18n/pt-BR.9efbbac4fda8.js\", \"admin/js/vendor/select2/i18n/pt.js\": \"admin/js/vendor/select2/i18n/pt.5d6ccc53b347.js\", \"admin/js/vendor/select2/i18n/ro.js\": \"admin/js/vendor/select2/i18n/ro.1ddc2b9980dc.js\", \"admin/js/vendor/select2/i18n/ru.js\": \"admin/js/vendor/select2/i18n/ru.d83609abf2e0.js\", \"admin/js/vendor/select2/i18n/sk.js\": \"admin/js/vendor/select2/i18n/sk.a0f1a818d092.js\", \"admin/js/vendor/select2/i18n/sr-Cyrl.js\": \"admin/js/vendor/select2/i18n/sr-Cyrl.2f3047aad49e.js\", \"admin/js/vendor/select2/i18n/sr.js\": \"admin/js/vendor/select2/i18n/sr.157bc6eb978e.js\", \"admin/js/vendor/select2/i18n/sv.js\": \"admin/js/vendor/select2/i18n/sv.2b21bb3f6110.js\", \"admin/js/vendor/select2/i18n/th.js\": \"admin/js/vendor/select2/i18n/th.2a4ece4c4355.js\", \"admin/js/vendor/select2/i18n/tr.js\": \"admin/js/vendor/select2/i18n/tr.c1925d8817db.js\", \"admin/js/vendor/select2/i18n/uk.js\": \"admin/js/vendor/select2/i18n/uk.3d56f311192d.js\", \"admin/js/vendor/select2/i18n/vi.js\": \"admin/js/vendor/select2/i18n/vi.3520aa7bdea8.js\", \"admin/js/vendor/select2/i18n/zh-CN.js\": \"admin/js/vendor/select2/i18n/zh-CN.419002d3c6c1.js\", \"admin/js/vendor/select2/i18n/zh-TW.js\": \"admin/js/vendor/select2/i18n/zh-TW.c021537edf2c.js\", \"admin/css/vendor/select2/LICENSE-SELECT2.md\": \"admin/css/vendor/select2/LICENSE-SELECT2.7cf1de939f3b.md\", \"admin/css/vendor/select2/select2.css\": \"admin/css/vendor/select2/select2.3805311d5fc1.css\", \"admin/css/vendor/select2/select2.min.css\": \"admin/css/vendor/select2/select2.min.d44571114a90.css\", \"admin/js/vendor/jquery/LICENSE.txt\": \"admin/js/vendor/jquery/LICENSE.75308107741f.txt\", \"admin/js/vendor/jquery/jquery.js\": \"admin/js/vendor/jquery/jquery.23c7c5d2d131.js\", \"admin/js/vendor/jquery/jquery.min.js\": \"admin/js/vendor/jquery/jquery.min.dc5e7f18c8d3.js\", \"admin/js/vendor/select2/LICENSE.md\": \"admin/js/vendor/select2/LICENSE.7cf1de939f3b.md\", \"admin/js/vendor/select2/select2.full.js\": \"admin/js/vendor/select2/select2.full.a95323cb4760.js\", \"admin/js/vendor/select2/select2.full.min.js\": \"admin/js/vendor/select2/select2.full.min.da607360bcc6.js\", \"admin/js/vendor/xregexp/LICENSE.txt\": \"admin/js/vendor/xregexp/LICENSE.d64cecf4f157.txt\", \"admin/js/vendor/xregexp/xregexp.js\": \"admin/js/vendor/xregexp/xregexp.1865b1cf5085.js\", \"admin/js/vendor/xregexp/xregexp.min.js\": \"admin/js/vendor/xregexp/xregexp.min.c95393b8ca4d.js\", \"images/custom-inputs/assessment/checkbox_selected.png\": \"images/custom-inputs/assessment/checkbox_selected.197854685f56.png\", \"images/custom-inputs/assessment/checkbox_unselected.png\": \"images/custom-inputs/assessment/checkbox_unselected.c27d42ef9ad3.png\", \"javascripts/lib/bcmaps/78-EUC-H.bcmap\": \"javascripts/lib/bcmaps/78-EUC-H.6d23b789047f.bcmap\", \"javascripts/lib/bcmaps/78-EUC-V.bcmap\": \"javascripts/lib/bcmaps/78-EUC-V.5d7d0e488fb5.bcmap\", \"javascripts/lib/bcmaps/78-H.bcmap\": \"javascripts/lib/bcmaps/78-H.1185e3229597.bcmap\", \"javascripts/lib/bcmaps/78-RKSJ-H.bcmap\": \"javascripts/lib/bcmaps/78-RKSJ-H.a3820f0a3029.bcmap\", \"javascripts/lib/bcmaps/78-RKSJ-V.bcmap\": \"javascripts/lib/bcmaps/78-RKSJ-V.5c65c928ce1d.bcmap\", \"javascripts/lib/bcmaps/78-V.bcmap\": \"javascripts/lib/bcmaps/78-V.0d300f0f9e60.bcmap\", \"javascripts/lib/bcmaps/78ms-RKSJ-H.bcmap\": \"javascripts/lib/bcmaps/78ms-RKSJ-H.fe0b824fd3c0.bcmap\", \"javascripts/lib/bcmaps/78ms-RKSJ-V.bcmap\": \"javascripts/lib/bcmaps/78ms-RKSJ-V.4a0fc4d9e4b2.bcmap\", \"javascripts/lib/bcmaps/83pv-RKSJ-H.bcmap\": \"javascripts/lib/bcmaps/83pv-RKSJ-H.94b942a27404.bcmap\", \"javascripts/lib/bcmaps/90ms-RKSJ-H.bcmap\": \"javascripts/lib/bcmaps/90ms-RKSJ-H.f004fca8008b.bcmap\", \"javascripts/lib/bcmaps/90ms-RKSJ-V.bcmap\": \"javascripts/lib/bcmaps/90ms-RKSJ-V.04d52a362bd8.bcmap\", \"javascripts/lib/bcmaps/90msp-RKSJ-H.bcmap\": \"javascripts/lib/bcmaps/90msp-RKSJ-H.155fc53b2991.bcmap\", \"javascripts/lib/bcmaps/90msp-RKSJ-V.bcmap\": \"javascripts/lib/bcmaps/90msp-RKSJ-V.22e09450e898.bcmap\", \"javascripts/lib/bcmaps/90pv-RKSJ-H.bcmap\": \"javascripts/lib/bcmaps/90pv-RKSJ-H.87fe105691f6.bcmap\", \"javascripts/lib/bcmaps/90pv-RKSJ-V.bcmap\": \"javascripts/lib/bcmaps/90pv-RKSJ-V.a6bea88d2434.bcmap\", \"javascripts/lib/bcmaps/Add-H.bcmap\": \"javascripts/lib/bcmaps/Add-H.f6efdbb61d3d.bcmap\", \"javascripts/lib/bcmaps/Add-RKSJ-H.bcmap\": \"javascripts/lib/bcmaps/Add-RKSJ-H.efcdf16f5fd9.bcmap\", \"javascripts/lib/bcmaps/Add-RKSJ-V.bcmap\": \"javascripts/lib/bcmaps/Add-RKSJ-V.0caedf6b6009.bcmap\", \"javascripts/lib/bcmaps/Add-V.bcmap\": \"javascripts/lib/bcmaps/Add-V.f70574fdd480.bcmap\", \"javascripts/lib/bcmaps/Adobe-CNS1-0.bcmap\": \"javascripts/lib/bcmaps/Adobe-CNS1-0.175673c4e9ae.bcmap\", \"javascripts/lib/bcmaps/Adobe-CNS1-1.bcmap\": \"javascripts/lib/bcmaps/Adobe-CNS1-1.1706915b9e35.bcmap\", \"javascripts/lib/bcmaps/Adobe-CNS1-2.bcmap\": \"javascripts/lib/bcmaps/Adobe-CNS1-2.c32fa54e54bd.bcmap\", \"javascripts/lib/bcmaps/Adobe-CNS1-3.bcmap\": \"javascripts/lib/bcmaps/Adobe-CNS1-3.68996101860e.bcmap\", \"javascripts/lib/bcmaps/Adobe-CNS1-4.bcmap\": \"javascripts/lib/bcmaps/Adobe-CNS1-4.52f19088dd3f.bcmap\", \"javascripts/lib/bcmaps/Adobe-CNS1-5.bcmap\": \"javascripts/lib/bcmaps/Adobe-CNS1-5.6f7e75c26fd0.bcmap\", \"javascripts/lib/bcmaps/Adobe-CNS1-6.bcmap\": \"javascripts/lib/bcmaps/Adobe-CNS1-6.50690e841492.bcmap\", \"javascripts/lib/bcmaps/Adobe-CNS1-UCS2.bcmap\": \"javascripts/lib/bcmaps/Adobe-CNS1-UCS2.6a32d36d3701.bcmap\", \"javascripts/lib/bcmaps/Adobe-GB1-0.bcmap\": \"javascripts/lib/bcmaps/Adobe-GB1-0.f2997b05ae8a.bcmap\", \"javascripts/lib/bcmaps/Adobe-GB1-1.bcmap\": \"javascripts/lib/bcmaps/Adobe-GB1-1.8cb590d42c29.bcmap\", \"javascripts/lib/bcmaps/Adobe-GB1-2.bcmap\": \"javascripts/lib/bcmaps/Adobe-GB1-2.4b816ff568b2.bcmap\", \"javascripts/lib/bcmaps/Adobe-GB1-3.bcmap\": \"javascripts/lib/bcmaps/Adobe-GB1-3.be5c8267c6fe.bcmap\", \"javascripts/lib/bcmaps/Adobe-GB1-4.bcmap\": \"javascripts/lib/bcmaps/Adobe-GB1-4.e21e5a23751a.bcmap\", \"javascripts/lib/bcmaps/Adobe-GB1-5.bcmap\": \"javascripts/lib/bcmaps/Adobe-GB1-5.4fe4c440c3f0.bcmap\", \"javascripts/lib/bcmaps/Adobe-GB1-UCS2.bcmap\": \"javascripts/lib/bcmaps/Adobe-GB1-UCS2.af9f90c0950e.bcmap\", \"javascripts/lib/bcmaps/Adobe-Japan1-0.bcmap\": \"javascripts/lib/bcmaps/Adobe-Japan1-0.a066edf925d6.bcmap\", \"javascripts/lib/bcmaps/Adobe-Japan1-1.bcmap\": \"javascripts/lib/bcmaps/Adobe-Japan1-1.2296cdd2b9e9.bcmap\", \"javascripts/lib/bcmaps/Adobe-Japan1-2.bcmap\": \"javascripts/lib/bcmaps/Adobe-Japan1-2.a935e26eb051.bcmap\", \"javascripts/lib/bcmaps/Adobe-Japan1-3.bcmap\": \"javascripts/lib/bcmaps/Adobe-Japan1-3.a97917c0e0f2.bcmap\", \"javascripts/lib/bcmaps/Adobe-Japan1-4.bcmap\": \"javascripts/lib/bcmaps/Adobe-Japan1-4.1d1305c42d75.bcmap\", \"javascripts/lib/bcmaps/Adobe-Japan1-5.bcmap\": \"javascripts/lib/bcmaps/Adobe-Japan1-5.123581eb0976.bcmap\", \"javascripts/lib/bcmaps/Adobe-Japan1-6.bcmap\": \"javascripts/lib/bcmaps/Adobe-Japan1-6.1c541669cdee.bcmap\", \"javascripts/lib/bcmaps/Adobe-Japan1-UCS2.bcmap\": \"javascripts/lib/bcmaps/Adobe-Japan1-UCS2.35f4e7f02523.bcmap\", \"javascripts/lib/bcmaps/Adobe-Korea1-0.bcmap\": \"javascripts/lib/bcmaps/Adobe-Korea1-0.8bd552079ccb.bcmap\", \"javascripts/lib/bcmaps/Adobe-Korea1-1.bcmap\": \"javascripts/lib/bcmaps/Adobe-Korea1-1.84eb56b5caf7.bcmap\", \"javascripts/lib/bcmaps/Adobe-Korea1-2.bcmap\": \"javascripts/lib/bcmaps/Adobe-Korea1-2.1752dd13143d.bcmap\", \"javascripts/lib/bcmaps/Adobe-Korea1-UCS2.bcmap\": \"javascripts/lib/bcmaps/Adobe-Korea1-UCS2.2b666a3cd23b.bcmap\", \"javascripts/lib/bcmaps/B5-H.bcmap\": \"javascripts/lib/bcmaps/B5-H.683aa95fc49a.bcmap\", \"javascripts/lib/bcmaps/B5-V.bcmap\": \"javascripts/lib/bcmaps/B5-V.dd87b4ad5c26.bcmap\", \"javascripts/lib/bcmaps/B5pc-H.bcmap\": \"javascripts/lib/bcmaps/B5pc-H.ad22300d6dba.bcmap\", \"javascripts/lib/bcmaps/B5pc-V.bcmap\": \"javascripts/lib/bcmaps/B5pc-V.f082e890137d.bcmap\", \"javascripts/lib/bcmaps/CNS-EUC-H.bcmap\": \"javascripts/lib/bcmaps/CNS-EUC-H.25edb8902ccd.bcmap\", \"javascripts/lib/bcmaps/CNS-EUC-V.bcmap\": \"javascripts/lib/bcmaps/CNS-EUC-V.dfc3bd3ebe7c.bcmap\", \"javascripts/lib/bcmaps/CNS1-H.bcmap\": \"javascripts/lib/bcmaps/CNS1-H.e2abbde56299.bcmap\", \"javascripts/lib/bcmaps/CNS1-V.bcmap\": \"javascripts/lib/bcmaps/CNS1-V.2793eed7c844.bcmap\", \"javascripts/lib/bcmaps/CNS2-H.bcmap\": \"javascripts/lib/bcmaps/CNS2-H.6ceb8bae07c4.bcmap\", \"javascripts/lib/bcmaps/CNS2-V.bcmap\": \"javascripts/lib/bcmaps/CNS2-V.1a116f3db2e9.bcmap\", \"javascripts/lib/bcmaps/ETHK-B5-H.bcmap\": \"javascripts/lib/bcmaps/ETHK-B5-H.6992841a10b5.bcmap\", \"javascripts/lib/bcmaps/ETHK-B5-V.bcmap\": \"javascripts/lib/bcmaps/ETHK-B5-V.7a10542e0ff8.bcmap\", \"javascripts/lib/bcmaps/ETen-B5-H.bcmap\": \"javascripts/lib/bcmaps/ETen-B5-H.64f3db1a350a.bcmap\", \"javascripts/lib/bcmaps/ETen-B5-V.bcmap\": \"javascripts/lib/bcmaps/ETen-B5-V.20fc6bca6d21.bcmap\", \"javascripts/lib/bcmaps/ETenms-B5-H.bcmap\": \"javascripts/lib/bcmaps/ETenms-B5-H.c00836e71e8c.bcmap\", \"javascripts/lib/bcmaps/ETenms-B5-V.bcmap\": \"javascripts/lib/bcmaps/ETenms-B5-V.fd9fcb08808a.bcmap\", \"javascripts/lib/bcmaps/EUC-H.bcmap\": \"javascripts/lib/bcmaps/EUC-H.a148cb650e78.bcmap\", \"javascripts/lib/bcmaps/EUC-V.bcmap\": \"javascripts/lib/bcmaps/EUC-V.085cdc069606.bcmap\", \"javascripts/lib/bcmaps/Ext-H.bcmap\": \"javascripts/lib/bcmaps/Ext-H.f78457b4f98a.bcmap\", \"javascripts/lib/bcmaps/Ext-RKSJ-H.bcmap\": \"javascripts/lib/bcmaps/Ext-RKSJ-H.bb6a6dfab041.bcmap\", \"javascripts/lib/bcmaps/Ext-RKSJ-V.bcmap\": \"javascripts/lib/bcmaps/Ext-RKSJ-V.4b3106c186de.bcmap\", \"javascripts/lib/bcmaps/Ext-V.bcmap\": \"javascripts/lib/bcmaps/Ext-V.c6bf9c0e52ed.bcmap\", \"javascripts/lib/bcmaps/GB-EUC-H.bcmap\": \"javascripts/lib/bcmaps/GB-EUC-H.1982d7870002.bcmap\", \"javascripts/lib/bcmaps/GB-EUC-V.bcmap\": \"javascripts/lib/bcmaps/GB-EUC-V.4489f113f640.bcmap\", \"javascripts/lib/bcmaps/GB-H.bcmap\": \"javascripts/lib/bcmaps/GB-H.69530bd74ed5.bcmap\", \"javascripts/lib/bcmaps/GB-V.bcmap\": \"javascripts/lib/bcmaps/GB-V.576c153301c9.bcmap\", \"javascripts/lib/bcmaps/GBK-EUC-H.bcmap\": \"javascripts/lib/bcmaps/GBK-EUC-H.546ff998ffca.bcmap\", \"javascripts/lib/bcmaps/GBK-EUC-V.bcmap\": \"javascripts/lib/bcmaps/GBK-EUC-V.e801ec722f7e.bcmap\", \"javascripts/lib/bcmaps/GBK2K-H.bcmap\": \"javascripts/lib/bcmaps/GBK2K-H.ace168da9220.bcmap\", \"javascripts/lib/bcmaps/GBK2K-V.bcmap\": \"javascripts/lib/bcmaps/GBK2K-V.3e25abf6ef78.bcmap\", \"javascripts/lib/bcmaps/GBKp-EUC-H.bcmap\": \"javascripts/lib/bcmaps/GBKp-EUC-H.ae828bc249c7.bcmap\", \"javascripts/lib/bcmaps/GBKp-EUC-V.bcmap\": \"javascripts/lib/bcmaps/GBKp-EUC-V.986a674beebb.bcmap\", \"javascripts/lib/bcmaps/GBT-EUC-H.bcmap\": \"javascripts/lib/bcmaps/GBT-EUC-H.a109d1ca6837.bcmap\", \"javascripts/lib/bcmaps/GBT-EUC-V.bcmap\": \"javascripts/lib/bcmaps/GBT-EUC-V.f5ff779f0b6e.bcmap\", \"javascripts/lib/bcmaps/GBT-H.bcmap\": \"javascripts/lib/bcmaps/GBT-H.4e90c37287e2.bcmap\", \"javascripts/lib/bcmaps/GBT-V.bcmap\": \"javascripts/lib/bcmaps/GBT-V.6b7422f3be63.bcmap\", \"javascripts/lib/bcmaps/GBTpc-EUC-H.bcmap\": \"javascripts/lib/bcmaps/GBTpc-EUC-H.25eeeca5113b.bcmap\", \"javascripts/lib/bcmaps/GBTpc-EUC-V.bcmap\": \"javascripts/lib/bcmaps/GBTpc-EUC-V.e8eba8d9c036.bcmap\", \"javascripts/lib/bcmaps/GBpc-EUC-H.bcmap\": \"javascripts/lib/bcmaps/GBpc-EUC-H.f5693d775aec.bcmap\", \"javascripts/lib/bcmaps/GBpc-EUC-V.bcmap\": \"javascripts/lib/bcmaps/GBpc-EUC-V.b5cde365a486.bcmap\", \"javascripts/lib/bcmaps/H.bcmap\": \"javascripts/lib/bcmaps/H.627aeed8bfcc.bcmap\", \"javascripts/lib/bcmaps/HKdla-B5-H.bcmap\": \"javascripts/lib/bcmaps/HKdla-B5-H.c31304dbfa1f.bcmap\", \"javascripts/lib/bcmaps/HKdla-B5-V.bcmap\": \"javascripts/lib/bcmaps/HKdla-B5-V.09e2c1b09885.bcmap\", \"javascripts/lib/bcmaps/HKdlb-B5-H.bcmap\": \"javascripts/lib/bcmaps/HKdlb-B5-H.3e1ec904aae2.bcmap\", \"javascripts/lib/bcmaps/HKdlb-B5-V.bcmap\": \"javascripts/lib/bcmaps/HKdlb-B5-V.92dc4bf1a456.bcmap\", \"javascripts/lib/bcmaps/HKgccs-B5-H.bcmap\": \"javascripts/lib/bcmaps/HKgccs-B5-H.9261c86d4041.bcmap\", \"javascripts/lib/bcmaps/HKgccs-B5-V.bcmap\": \"javascripts/lib/bcmaps/HKgccs-B5-V.f132983d5f54.bcmap\", \"javascripts/lib/bcmaps/HKm314-B5-H.bcmap\": \"javascripts/lib/bcmaps/HKm314-B5-H.6cef006196f7.bcmap\", \"javascripts/lib/bcmaps/HKm314-B5-V.bcmap\": \"javascripts/lib/bcmaps/HKm314-B5-V.4286ece506e5.bcmap\", \"javascripts/lib/bcmaps/HKm471-B5-H.bcmap\": \"javascripts/lib/bcmaps/HKm471-B5-H.1aae686eacbd.bcmap\", \"javascripts/lib/bcmaps/HKm471-B5-V.bcmap\": \"javascripts/lib/bcmaps/HKm471-B5-V.cc4d2cb9929e.bcmap\", \"javascripts/lib/bcmaps/HKscs-B5-H.bcmap\": \"javascripts/lib/bcmaps/HKscs-B5-H.1bd13e99b26e.bcmap\", \"javascripts/lib/bcmaps/HKscs-B5-V.bcmap\": \"javascripts/lib/bcmaps/HKscs-B5-V.2806aabef1c7.bcmap\", \"javascripts/lib/bcmaps/Hankaku.bcmap\": \"javascripts/lib/bcmaps/Hankaku.417dcb6fd949.bcmap\", \"javascripts/lib/bcmaps/Hiragana.bcmap\": \"javascripts/lib/bcmaps/Hiragana.649cb471527a.bcmap\", \"javascripts/lib/bcmaps/KSC-EUC-H.bcmap\": \"javascripts/lib/bcmaps/KSC-EUC-H.28a11b2394ff.bcmap\", \"javascripts/lib/bcmaps/KSC-EUC-V.bcmap\": \"javascripts/lib/bcmaps/KSC-EUC-V.61f1b5baf1ce.bcmap\", \"javascripts/lib/bcmaps/KSC-H.bcmap\": \"javascripts/lib/bcmaps/KSC-H.858801396e70.bcmap\", \"javascripts/lib/bcmaps/KSC-Johab-H.bcmap\": \"javascripts/lib/bcmaps/KSC-Johab-H.45d61007e376.bcmap\", \"javascripts/lib/bcmaps/KSC-Johab-V.bcmap\": \"javascripts/lib/bcmaps/KSC-Johab-V.7c054594c09a.bcmap\", \"javascripts/lib/bcmaps/KSC-V.bcmap\": \"javascripts/lib/bcmaps/KSC-V.b4ce24d7d1f8.bcmap\", \"javascripts/lib/bcmaps/KSCms-UHC-H.bcmap\": \"javascripts/lib/bcmaps/KSCms-UHC-H.573d3648c770.bcmap\", \"javascripts/lib/bcmaps/KSCms-UHC-HW-H.bcmap\": \"javascripts/lib/bcmaps/KSCms-UHC-HW-H.d2890889e32e.bcmap\", \"javascripts/lib/bcmaps/KSCms-UHC-HW-V.bcmap\": \"javascripts/lib/bcmaps/KSCms-UHC-HW-V.32424d5d8451.bcmap\", \"javascripts/lib/bcmaps/KSCms-UHC-V.bcmap\": \"javascripts/lib/bcmaps/KSCms-UHC-V.8a7816d2df1d.bcmap\", \"javascripts/lib/bcmaps/KSCpc-EUC-H.bcmap\": \"javascripts/lib/bcmaps/KSCpc-EUC-H.6beae596a780.bcmap\", \"javascripts/lib/bcmaps/KSCpc-EUC-V.bcmap\": \"javascripts/lib/bcmaps/KSCpc-EUC-V.65e5a7c51efe.bcmap\", \"javascripts/lib/bcmaps/Katakana.bcmap\": \"javascripts/lib/bcmaps/Katakana.28405011de4a.bcmap\", \"javascripts/lib/bcmaps/LICENSE\": \"javascripts/lib/bcmaps/LICENSE.18b1bb59e2be\", \"javascripts/lib/bcmaps/NWP-H.bcmap\": \"javascripts/lib/bcmaps/NWP-H.b7cce8e1696a.bcmap\", \"javascripts/lib/bcmaps/NWP-V.bcmap\": \"javascripts/lib/bcmaps/NWP-V.562550c483c2.bcmap\", \"javascripts/lib/bcmaps/RKSJ-H.bcmap\": \"javascripts/lib/bcmaps/RKSJ-H.8bcf3f8777b3.bcmap\", \"javascripts/lib/bcmaps/RKSJ-V.bcmap\": \"javascripts/lib/bcmaps/RKSJ-V.4bda602f6d2c.bcmap\", \"javascripts/lib/bcmaps/Roman.bcmap\": \"javascripts/lib/bcmaps/Roman.ccd95559d60a.bcmap\", \"javascripts/lib/bcmaps/UniCNS-UCS2-H.bcmap\": \"javascripts/lib/bcmaps/UniCNS-UCS2-H.94e0d8eda9e3.bcmap\", \"javascripts/lib/bcmaps/UniCNS-UCS2-V.bcmap\": \"javascripts/lib/bcmaps/UniCNS-UCS2-V.2e01733017a1.bcmap\", \"javascripts/lib/bcmaps/UniCNS-UTF16-H.bcmap\": \"javascripts/lib/bcmaps/UniCNS-UTF16-H.8243da01521d.bcmap\", \"javascripts/lib/bcmaps/UniCNS-UTF16-V.bcmap\": \"javascripts/lib/bcmaps/UniCNS-UTF16-V.273d10d22bfd.bcmap\", \"javascripts/lib/bcmaps/UniCNS-UTF32-H.bcmap\": \"javascripts/lib/bcmaps/UniCNS-UTF32-H.ffd5764a6de2.bcmap\", \"javascripts/lib/bcmaps/UniCNS-UTF32-V.bcmap\": \"javascripts/lib/bcmaps/UniCNS-UTF32-V.2db93aee01ee.bcmap\", \"javascripts/lib/bcmaps/UniCNS-UTF8-H.bcmap\": \"javascripts/lib/bcmaps/UniCNS-UTF8-H.edcae260fcd8.bcmap\", \"javascripts/lib/bcmaps/UniCNS-UTF8-V.bcmap\": \"javascripts/lib/bcmaps/UniCNS-UTF8-V.380c81f19a76.bcmap\", \"javascripts/lib/bcmaps/UniGB-UCS2-H.bcmap\": \"javascripts/lib/bcmaps/UniGB-UCS2-H.f19fb20d2b1c.bcmap\", \"javascripts/lib/bcmaps/UniGB-UCS2-V.bcmap\": \"javascripts/lib/bcmaps/UniGB-UCS2-V.e612b97dc2bf.bcmap\", \"javascripts/lib/bcmaps/UniGB-UTF16-H.bcmap\": \"javascripts/lib/bcmaps/UniGB-UTF16-H.197ead1238cf.bcmap\", \"javascripts/lib/bcmaps/UniGB-UTF16-V.bcmap\": \"javascripts/lib/bcmaps/UniGB-UTF16-V.816ee62d9505.bcmap\", \"javascripts/lib/bcmaps/UniGB-UTF32-H.bcmap\": \"javascripts/lib/bcmaps/UniGB-UTF32-H.7e80b8251c61.bcmap\", \"javascripts/lib/bcmaps/UniGB-UTF32-V.bcmap\": \"javascripts/lib/bcmaps/UniGB-UTF32-V.d1716f8249d5.bcmap\", \"javascripts/lib/bcmaps/UniGB-UTF8-H.bcmap\": \"javascripts/lib/bcmaps/UniGB-UTF8-H.efe5b01ff58a.bcmap\", \"javascripts/lib/bcmaps/UniGB-UTF8-V.bcmap\": \"javascripts/lib/bcmaps/UniGB-UTF8-V.c488f7851343.bcmap\", \"javascripts/lib/bcmaps/UniJIS-UCS2-H.bcmap\": \"javascripts/lib/bcmaps/UniJIS-UCS2-H.d3c57acf7d97.bcmap\", \"javascripts/lib/bcmaps/UniJIS-UCS2-HW-H.bcmap\": \"javascripts/lib/bcmaps/UniJIS-UCS2-HW-H.88d9668d4e0f.bcmap\", \"javascripts/lib/bcmaps/UniJIS-UCS2-HW-V.bcmap\": \"javascripts/lib/bcmaps/UniJIS-UCS2-HW-V.86ac1bd54fad.bcmap\", \"javascripts/lib/bcmaps/UniJIS-UCS2-V.bcmap\": \"javascripts/lib/bcmaps/UniJIS-UCS2-V.54bac7377fcb.bcmap\", \"javascripts/lib/bcmaps/UniJIS-UTF16-H.bcmap\": \"javascripts/lib/bcmaps/UniJIS-UTF16-H.84f5a941b571.bcmap\", \"javascripts/lib/bcmaps/UniJIS-UTF16-V.bcmap\": \"javascripts/lib/bcmaps/UniJIS-UTF16-V.db6a81ba21b8.bcmap\", \"javascripts/lib/bcmaps/UniJIS-UTF32-H.bcmap\": \"javascripts/lib/bcmaps/UniJIS-UTF32-H.09e701c16b91.bcmap\", \"javascripts/lib/bcmaps/UniJIS-UTF32-V.bcmap\": \"javascripts/lib/bcmaps/UniJIS-UTF32-V.b5d631a40f70.bcmap\", \"javascripts/lib/bcmaps/UniJIS-UTF8-H.bcmap\": \"javascripts/lib/bcmaps/UniJIS-UTF8-H.48bfd0033258.bcmap\", \"javascripts/lib/bcmaps/UniJIS-UTF8-V.bcmap\": \"javascripts/lib/bcmaps/UniJIS-UTF8-V.029c1bbcf404.bcmap\", \"javascripts/lib/bcmaps/UniJIS2004-UTF16-H.bcmap\": \"javascripts/lib/bcmaps/UniJIS2004-UTF16-H.1f037331a2bf.bcmap\", \"javascripts/lib/bcmaps/UniJIS2004-UTF16-V.bcmap\": \"javascripts/lib/bcmaps/UniJIS2004-UTF16-V.cd2354135bdc.bcmap\", \"javascripts/lib/bcmaps/UniJIS2004-UTF32-H.bcmap\": \"javascripts/lib/bcmaps/UniJIS2004-UTF32-H.d8fe0443a041.bcmap\", \"javascripts/lib/bcmaps/UniJIS2004-UTF32-V.bcmap\": \"javascripts/lib/bcmaps/UniJIS2004-UTF32-V.bae31bac63e6.bcmap\", \"javascripts/lib/bcmaps/UniJIS2004-UTF8-H.bcmap\": \"javascripts/lib/bcmaps/UniJIS2004-UTF8-H.ce0f823592f5.bcmap\", \"javascripts/lib/bcmaps/UniJIS2004-UTF8-V.bcmap\": \"javascripts/lib/bcmaps/UniJIS2004-UTF8-V.8920d1533828.bcmap\", \"javascripts/lib/bcmaps/UniJISPro-UCS2-HW-V.bcmap\": \"javascripts/lib/bcmaps/UniJISPro-UCS2-HW-V.982413ac0838.bcmap\", \"javascripts/lib/bcmaps/UniJISPro-UCS2-V.bcmap\": \"javascripts/lib/bcmaps/UniJISPro-UCS2-V.b3a9a06f3284.bcmap\", \"javascripts/lib/bcmaps/UniJISPro-UTF8-V.bcmap\": \"javascripts/lib/bcmaps/UniJISPro-UTF8-V.870c2e8dbbce.bcmap\", \"javascripts/lib/bcmaps/UniJISX0213-UTF32-H.bcmap\": \"javascripts/lib/bcmaps/UniJISX0213-UTF32-H.1af0093c3e86.bcmap\", \"javascripts/lib/bcmaps/UniJISX0213-UTF32-V.bcmap\": \"javascripts/lib/bcmaps/UniJISX0213-UTF32-V.c7b74503909b.bcmap\", \"javascripts/lib/bcmaps/UniJISX02132004-UTF32-H.bcmap\": \"javascripts/lib/bcmaps/UniJISX02132004-UTF32-H.78f91a094e3b.bcmap\", \"javascripts/lib/bcmaps/UniJISX02132004-UTF32-V.bcmap\": \"javascripts/lib/bcmaps/UniJISX02132004-UTF32-V.34a245178a07.bcmap\", \"javascripts/lib/bcmaps/UniKS-UCS2-H.bcmap\": \"javascripts/lib/bcmaps/UniKS-UCS2-H.1bccd691db02.bcmap\", \"javascripts/lib/bcmaps/UniKS-UCS2-V.bcmap\": \"javascripts/lib/bcmaps/UniKS-UCS2-V.b5f48b86ad0a.bcmap\", \"javascripts/lib/bcmaps/UniKS-UTF16-H.bcmap\": \"javascripts/lib/bcmaps/UniKS-UTF16-H.f3f4d4d46382.bcmap\", \"javascripts/lib/bcmaps/UniKS-UTF16-V.bcmap\": \"javascripts/lib/bcmaps/UniKS-UTF16-V.0d45980df876.bcmap\", \"javascripts/lib/bcmaps/UniKS-UTF32-H.bcmap\": \"javascripts/lib/bcmaps/UniKS-UTF32-H.0c33937aceaa.bcmap\", \"javascripts/lib/bcmaps/UniKS-UTF32-V.bcmap\": \"javascripts/lib/bcmaps/UniKS-UTF32-V.534254835ba6.bcmap\", \"javascripts/lib/bcmaps/UniKS-UTF8-H.bcmap\": \"javascripts/lib/bcmaps/UniKS-UTF8-H.23efe636bda2.bcmap\", \"javascripts/lib/bcmaps/UniKS-UTF8-V.bcmap\": \"javascripts/lib/bcmaps/UniKS-UTF8-V.f7b676cfe90f.bcmap\", \"javascripts/lib/bcmaps/V.bcmap\": \"javascripts/lib/bcmaps/V.fe6a49931909.bcmap\", \"javascripts/lib/bcmaps/WP-Symbol.bcmap\": \"javascripts/lib/bcmaps/WP-Symbol.b24c3ddd810f.bcmap\", \"admin/img/gis/move_vertex_off.svg\": \"admin/img/gis/move_vertex_off.7a23bf31ef8a.svg\", \"admin/img/gis/move_vertex_on.svg\": \"admin/img/gis/move_vertex_on.0047eba25b67.svg\", \"admin/js/admin/DateTimeShortcuts.js\": \"admin/js/admin/DateTimeShortcuts.efa703f6f0b3.js\", \"admin/js/admin/RelatedObjectLookups.js\": \"admin/js/admin/RelatedObjectLookups.ea0683bea064.js\", \"rest_framework/docs/css/base.css\": \"rest_framework/docs/css/base.3208b6cc4466.css\", \"rest_framework/docs/css/highlight.css\": \"rest_framework/docs/css/highlight.e0e4d973c6d7.css\", \"rest_framework/docs/css/jquery.json-view.min.css\": \"rest_framework/docs/css/jquery.json-view.min.a2e6beeb6710.css\", \"rest_framework/docs/img/favicon.ico\": \"rest_framework/docs/img/favicon.5195b4d0f3eb.ico\", \"rest_framework/docs/img/grid.png\": \"rest_framework/docs/img/grid.a4b938cf382b.png\", \"rest_framework/docs/js/api.js\": \"rest_framework/docs/js/api.c9743eab7a4f.js\", \"rest_framework/docs/js/highlight.pack.js\": \"rest_framework/docs/js/highlight.pack.479b5f21dcba.js\", \"rest_framework/docs/js/jquery.json-view.min.js\": \"rest_framework/docs/js/jquery.json-view.min.b7c2d6981377.js\", \"images/assessment/icon-arrow-gray.svg\": \"images/assessment/icon-arrow-gray.c9e65ba1b2c4.svg\", \"images/assessment/icon-arrow.svg\": \"images/assessment/icon-arrow.35d2f158ce5b.svg\", \"images/assessment/icon-bookmark-white.svg\": \"images/assessment/icon-bookmark-white.679924755594.svg\", \"images/assessment/icon-bookmark.svg\": \"images/assessment/icon-bookmark.89c0131eb2dd.svg\", \"images/assessment/icon-close.svg\": \"images/assessment/icon-close.d7aacfec8e3a.svg\", \"images/assessment/icon-comment-white.svg\": \"images/assessment/icon-comment-white.03d59e62d235.svg\", \"images/assessment/icon-comment.svg\": \"images/assessment/icon-comment.cb6d167f98f3.svg\", \"images/assessment/icon-editing-active.svg\": \"images/assessment/icon-editing-active.46975d250d45.svg\", \"images/assessment/icon-grade.svg\": \"images/assessment/icon-grade.844d86caacb2.svg\", \"images/assessment/icon-pause.svg\": \"images/assessment/icon-pause.677f3645142a.svg\", \"images/assessment/icon-speech-white.svg\": \"images/assessment/icon-speech-white.357e99f651d3.svg\", \"images/assessment/icon-speech.svg\": \"images/assessment/icon-speech.ec386105c1be.svg\", \"images/assessment/icon-text-white.svg\": \"images/assessment/icon-text-white.c0527e0a2920.svg\", \"images/assessment/icon-text.svg\": \"images/assessment/icon-text.5a09a048aa3c.svg\", \"images/assessment/icon-timeline.svg\": \"images/assessment/icon-timeline.dc14b584f74c.svg\", \"images/backgrounds/onboarding.jpg\": \"images/backgrounds/onboarding.2caf7d552a42.jpg\", \"images/lms/lms_texture_ba01.jpg\": \"images/lms/lms_texture_ba01.15c09bca1b67.jpg\", \"images/lms/lms_texture_ba02.jpg\": \"images/lms/lms_texture_ba02.fe211108a524.jpg\", \"images/lms/lms_texture_ba03.jpg\": \"images/lms/lms_texture_ba03.ff2fb64d630a.jpg\", \"images/lms/lms_texture_ba04.jpg\": \"images/lms/lms_texture_ba04.19aeace1619f.jpg\", \"images/lms/lms_texture_ba05.jpg\": \"images/lms/lms_texture_ba05.1a0f92fae33a.jpg\", \"images/lms/lms_texture_berlin01.jpg\": \"images/lms/lms_texture_berlin01.bc14354f7992.jpg\", \"images/lms/lms_texture_berlin02.jpg\": \"images/lms/lms_texture_berlin02.9440ee662ab5.jpg\", \"images/lms/lms_texture_berlin03.jpg\": \"images/lms/lms_texture_berlin03.b6ba164ab246.jpg\", \"images/lms/lms_texture_berlin04.jpg\": \"images/lms/lms_texture_berlin04.95887a1cb915.jpg\", \"images/lms/lms_texture_berlin05.jpg\": \"images/lms/lms_texture_berlin05.26ec4cbadf0e.jpg\", \"images/lms/lms_texture_berlin06.jpg\": \"images/lms/lms_texture_berlin06.fca0e2d413e5.jpg\", \"images/lms/lms_texture_berlin07.jpg\": \"images/lms/lms_texture_berlin07.cdbe1e075eeb.jpg\", \"images/lms/lms_texture_berlin08.jpg\": \"images/lms/lms_texture_berlin08.045975702a58.jpg\", \"images/lms/lms_texture_berlin09.jpg\": \"images/lms/lms_texture_berlin09.7240564333f1.jpg\", \"images/lms/lms_texture_berlin10.jpg\": \"images/lms/lms_texture_berlin10.986ca68f5aed.jpg\", \"images/lms/lms_texture_berlin11.jpg\": \"images/lms/lms_texture_berlin11.ffd6b2b5326c.jpg\", \"images/lms/lms_texture_generic_01.jpg\": \"images/lms/lms_texture_generic_01.ddcbd99b3e60.jpg\", \"images/lms/lms_texture_generic_02.jpg\": \"images/lms/lms_texture_generic_02.aee265725b8d.jpg\", \"images/lms/lms_texture_generic_03.jpg\": \"images/lms/lms_texture_generic_03.f4d47cc48e50.jpg\", \"images/lms/lms_texture_generic_04.jpg\": \"images/lms/lms_texture_generic_04.30a98c052f01.jpg\", \"images/lms/lms_texture_generic_05.jpg\": \"images/lms/lms_texture_generic_05.d1285e9c5098.jpg\", \"images/lms/lms_texture_generic_06.jpg\": \"images/lms/lms_texture_generic_06.d285d3207d0b.jpg\", \"images/lms/lms_texture_generic_07.jpg\": \"images/lms/lms_texture_generic_07.9a9fb9784bc3.jpg\", \"images/lms/lms_texture_generic_08.jpg\": \"images/lms/lms_texture_generic_08.3e21d67e7c05.jpg\", \"images/lms/lms_texture_generic_09.jpg\": \"images/lms/lms_texture_generic_09.51ad2543e251.jpg\", \"images/lms/lms_texture_generic_10.jpg\": \"images/lms/lms_texture_generic_10.75e9062520b2.jpg\", \"images/lms/lms_texture_generic_11.jpg\": \"images/lms/lms_texture_generic_11.97eef3492239.jpg\", \"images/lms/lms_texture_generic_12.jpg\": \"images/lms/lms_texture_generic_12.74890ca42652.jpg\", \"images/lms/lms_texture_generic_13.jpg\": \"images/lms/lms_texture_generic_13.c8796a887d44.jpg\", \"images/lms/lms_texture_generic_14.jpg\": \"images/lms/lms_texture_generic_14.36cee3815687.jpg\", \"images/lms/lms_texture_generic_15.jpg\": \"images/lms/lms_texture_generic_15.7928479abc2f.jpg\", \"images/lms/lms_texture_generic_16.jpg\": \"images/lms/lms_texture_generic_16.ddf8b4855462.jpg\", \"images/lms/lms_texture_generic_17.jpg\": \"images/lms/lms_texture_generic_17.e1dbc0eab7ae.jpg\", \"images/lms/lms_texture_generic_18.jpg\": \"images/lms/lms_texture_generic_18.083be79007dc.jpg\", \"images/lms/lms_texture_generic_19.jpg\": \"images/lms/lms_texture_generic_19.926fc29c1173.jpg\", \"images/lms/lms_texture_generic_20.jpg\": \"images/lms/lms_texture_generic_20.851fbd1669e8.jpg\", \"images/lms/lms_texture_generic_21.jpg\": \"images/lms/lms_texture_generic_21.2c9c841b97d0.jpg\", \"images/lms/lms_texture_generic_22.jpg\": \"images/lms/lms_texture_generic_22.2682e0df2470.jpg\", \"images/lms/lms_texture_generic_23.jpg\": \"images/lms/lms_texture_generic_23.926ec2254421.jpg\", \"images/lms/lms_texture_generic_24.jpg\": \"images/lms/lms_texture_generic_24.f8f336420022.jpg\", \"images/lms/lms_texture_generic_25.jpg\": \"images/lms/lms_texture_generic_25.3abc59b1ed15.jpg\", \"images/lms/lms_texture_generic_26.jpg\": \"images/lms/lms_texture_generic_26.6e915a42f0e2.jpg\", \"images/lms/lms_texture_generic_27.jpg\": \"images/lms/lms_texture_generic_27.d3ea94c676d4.jpg\", \"images/lms/lms_texture_generic_28.jpg\": \"images/lms/lms_texture_generic_28.36dd098b1764.jpg\", \"images/lms/lms_texture_generic_29.jpg\": \"images/lms/lms_texture_generic_29.a6fe94be8f00.jpg\", \"images/lms/lms_texture_generic_30.jpg\": \"images/lms/lms_texture_generic_30.f58af1a10eb4.jpg\", \"images/lms/lms_texture_generic_31.jpg\": \"images/lms/lms_texture_generic_31.6633c6c386c9.jpg\", \"images/lms/lms_texture_generic_32.jpg\": \"images/lms/lms_texture_generic_32.bc3295954a88.jpg\", \"images/lms/lms_texture_generic_33.jpg\": \"images/lms/lms_texture_generic_33.1a6675a022fd.jpg\", \"images/lms/lms_texture_generic_34.jpg\": \"images/lms/lms_texture_generic_34.f758a0f1b657.jpg\", \"images/lms/lms_texture_generic_35.jpg\": \"images/lms/lms_texture_generic_35.935b5b7c7f25.jpg\", \"images/lms/lms_texture_generic_36.jpg\": \"images/lms/lms_texture_generic_36.e4f2c70bb63b.jpg\", \"images/lms/lms_texture_generic_37.jpg\": \"images/lms/lms_texture_generic_37.706df4e88fe8.jpg\", \"images/lms/lms_texture_generic_38.jpg\": \"images/lms/lms_texture_generic_38.1a6f9c7d0d06.jpg\", \"images/lms/lms_texture_generic_39.jpg\": \"images/lms/lms_texture_generic_39.586f6b9d381d.jpg\", \"images/lms/lms_texture_generic_40.jpg\": \"images/lms/lms_texture_generic_40.a839a1904abb.jpg\", \"images/lms/lms_texture_generic_41.jpg\": \"images/lms/lms_texture_generic_41.68a60b51ed31.jpg\", \"images/lms/lms_texture_generic_42.jpg\": \"images/lms/lms_texture_generic_42.5dae167edfd3.jpg\", \"images/lms/lms_texture_generic_43.jpg\": \"images/lms/lms_texture_generic_43.40f75e424f75.jpg\", \"images/lms/lms_texture_generic_44.jpg\": \"images/lms/lms_texture_generic_44.462c1c463945.jpg\", \"images/lms/lms_texture_generic_45.jpg\": \"images/lms/lms_texture_generic_45.3337e46e70cc.jpg\", \"images/lms/lms_texture_generic_46.jpg\": \"images/lms/lms_texture_generic_46.369b1244afde.jpg\", \"images/lms/lms_texture_generic_47.jpg\": \"images/lms/lms_texture_generic_47.fc8de510f8c3.jpg\", \"images/lms/lms_texture_hyderabad01.jpg\": \"images/lms/lms_texture_hyderabad01.5f6b0ef22714.jpg\", \"images/lms/lms_texture_hyderabad02.jpg\": \"images/lms/lms_texture_hyderabad02.653b5b43e428.jpg\", \"images/lms/lms_texture_hyderabad03.jpg\": \"images/lms/lms_texture_hyderabad03.14f429105d6a.jpg\", \"images/lms/lms_texture_hyderabad04.jpg\": \"images/lms/lms_texture_hyderabad04.9163d6b4f5ed.jpg\", \"images/lms/lms_texture_hyderabad05.jpg\": \"images/lms/lms_texture_hyderabad05.041ce5724821.jpg\", \"images/lms/lms_texture_hyderabad06.jpg\": \"images/lms/lms_texture_hyderabad06.05c6b4205a85.jpg\", \"images/lms/lms_texture_seoul01.jpg\": \"images/lms/lms_texture_seoul01.8c78657adb09.jpg\", \"images/lms/lms_texture_seoul02.jpg\": \"images/lms/lms_texture_seoul02.8d3e5088008a.jpg\", \"images/lms/lms_texture_seoul03.jpg\": \"images/lms/lms_texture_seoul03.6787b4ee3220.jpg\", \"images/lms/lms_texture_seoul04.jpg\": \"images/lms/lms_texture_seoul04.49337b2aaaf6.jpg\", \"images/lms/lms_texture_seoul05.jpg\": \"images/lms/lms_texture_seoul05.a4e174ef078c.jpg\", \"images/lms/lms_texture_seoul06.jpg\": \"images/lms/lms_texture_seoul06.59d78fce0b4f.jpg\", \"images/lms/lms_texture_sf01.jpg\": \"images/lms/lms_texture_sf01.a439fe240520.jpg\", \"images/lms/lms_texture_sf02.jpg\": \"images/lms/lms_texture_sf02.f473694aa013.jpg\", \"images/lms/lms_texture_sf03.jpg\": \"images/lms/lms_texture_sf03.936446298215.jpg\", \"images/lms/lms_texture_sf04.jpg\": \"images/lms/lms_texture_sf04.f8e78d8437b2.jpg\", \"images/lms/lms_texture_sf05.jpg\": \"images/lms/lms_texture_sf05.832aab8ea5c7.jpg\", \"images/lms/lms_texture_sf06.jpg\": \"images/lms/lms_texture_sf06.a0e84f7a66a1.jpg\", \"images/lms/lms_texture_sf07.jpg\": \"images/lms/lms_texture_sf07.00135d1dbc8d.jpg\", \"images/lms/lms_texture_sf08.jpg\": \"images/lms/lms_texture_sf08.48469c44a891.jpg\", \"images/lms/lms_texture_sf09.jpg\": \"images/lms/lms_texture_sf09.107ba3fd5446.jpg\", \"images/lms/lms_texture_sf10.jpg\": \"images/lms/lms_texture_sf10.34cc03601652.jpg\", \"images/lms/lms_texture_sf11.jpg\": \"images/lms/lms_texture_sf11.82e21d99a5ec.jpg\", \"images/lms/lms_texture_sf12.jpg\": \"images/lms/lms_texture_sf12.d505103957fb.jpg\", \"images/lms/lms_texture_sf13.jpg\": \"images/lms/lms_texture_sf13.06018b88431a.jpg\", \"javascripts/lib/autobahn.js\": \"javascripts/lib/autobahn.fc4c2e54ea3a.js\", \"javascripts/lib/pdf.js\": \"javascripts/lib/pdf.027cb511029b.js\", \"javascripts/lib/pdf.worker.js\": \"javascripts/lib/pdf.worker.4523c8a2cc06.js\", \"javascripts/lib/pdf_viewer.js\": \"javascripts/lib/pdf_viewer.fe19d75b43c6.js\", \"admin/css/autocomplete.css\": \"admin/css/autocomplete.781713f30664.css\", \"admin/css/base.css\": \"admin/css/base.ae33e6383baa.css\", \"admin/css/changelists.css\": \"admin/css/changelists.f6dc691f8d62.css\", \"admin/css/dashboard.css\": \"admin/css/dashboard.7ac78187c567.css\", \"admin/css/fonts.css\": \"admin/css/fonts.168bab448fee.css\", \"admin/css/forms.css\": \"admin/css/forms.31b2f650d92e.css\", \"admin/css/login.css\": \"admin/css/login.252ffabd6548.css\", \"admin/css/responsive.css\": \"admin/css/responsive.3a465780d49f.css\", \"admin/css/responsive_rtl.css\": \"admin/css/responsive_rtl.51c7445ceeff.css\", \"admin/css/rtl.css\": \"admin/css/rtl.30f903442dc5.css\", \"admin/css/widgets.css\": \"admin/css/widgets.5e372b41c483.css\", \"admin/fonts/LICENSE.txt\": \"admin/fonts/LICENSE.d273d63619c9.txt\", \"admin/fonts/README.txt\": \"admin/fonts/README.ab99e6b541ea.txt\", \"admin/fonts/Roboto-Bold-webfont.woff\": \"admin/fonts/Roboto-Bold-webfont.50d75e48e0a3.woff\", \"admin/fonts/Roboto-Light-webfont.woff\": \"admin/fonts/Roboto-Light-webfont.c73eb1ceba33.woff\", \"admin/fonts/Roboto-Regular-webfont.woff\": \"admin/fonts/Roboto-Regular-webfont.35b07eb2f871.woff\", \"admin/img/LICENSE\": \"admin/img/LICENSE.2c54f4e1ca1c\", \"admin/img/README.txt\": \"admin/img/README.a70711a38d87.txt\", \"admin/img/calendar-icons.svg\": \"admin/img/calendar-icons.39b290681a8b.svg\", \"admin/img/icon-addlink.svg\": \"admin/img/icon-addlink.d519b3bab011.svg\", \"admin/img/icon-alert.svg\": \"admin/img/icon-alert.034cc7d8a67f.svg\", \"admin/img/icon-calendar.svg\": \"admin/img/icon-calendar.ac7aea671bea.svg\", \"admin/img/icon-changelink.svg\": \"admin/img/icon-changelink.18d2fd706348.svg\", \"admin/img/icon-clock.svg\": \"admin/img/icon-clock.e1d4dfac3f2b.svg\", \"admin/img/icon-deletelink.svg\": \"admin/img/icon-deletelink.564ef9dc3854.svg\", \"admin/img/icon-no.svg\": \"admin/img/icon-no.439e821418cd.svg\", \"admin/img/icon-unknown-alt.svg\": \"admin/img/icon-unknown-alt.81536e128bb6.svg\", \"admin/img/icon-unknown.svg\": \"admin/img/icon-unknown.a18cb4398978.svg\", \"admin/img/icon-viewlink.svg\": \"admin/img/icon-viewlink.41eb31f7826e.svg\", \"admin/img/icon-yes.svg\": \"admin/img/icon-yes.d2f9f035226a.svg\", \"admin/img/inline-delete.svg\": \"admin/img/inline-delete.fec1b761f254.svg\", \"admin/img/search.svg\": \"admin/img/search.7cf54ff789c6.svg\", \"admin/img/selector-icons.svg\": \"admin/img/selector-icons.b4555096cea2.svg\", \"admin/img/sorting-icons.svg\": \"admin/img/sorting-icons.3a097b59f104.svg\", \"admin/img/tooltag-add.svg\": \"admin/img/tooltag-add.e59d620a9742.svg\", \"admin/img/tooltag-arrowright.svg\": \"admin/img/tooltag-arrowright.bbfb788a849e.svg\", \"admin/js/SelectBox.js\": \"admin/js/SelectBox.99d0cfd2e80c.js\", \"admin/js/SelectFilter2.js\": \"admin/js/SelectFilter2.32ea9335ce47.js\", \"admin/js/actions.js\": \"admin/js/actions.8d83e3af0fbd.js\", \"admin/js/actions.min.js\": \"admin/js/actions.min.5fa8cb0403f1.js\", \"admin/js/autocomplete.js\": \"admin/js/autocomplete.cfd2c4dc8981.js\", \"admin/js/calendar.js\": \"admin/js/calendar.aae57adab5f6.js\", \"admin/js/cancel.js\": \"admin/js/cancel.a2c3149a1c5e.js\", \"admin/js/change_form.js\": \"admin/js/change_form.9e85003a1a38.js\", \"admin/js/collapse.js\": \"admin/js/collapse.c5b851e91226.js\", \"admin/js/collapse.min.js\": \"admin/js/collapse.min.44dfdb427845.js\", \"admin/js/core.js\": \"admin/js/core.a004ed25a257.js\", \"admin/js/inlines.js\": \"admin/js/inlines.12d1af430335.js\", \"admin/js/inlines.min.js\": \"admin/js/inlines.min.4d23f8660b21.js\", \"admin/js/jquery.init.js\": \"admin/js/jquery.init.95b62fa19378.js\", \"admin/js/popup_response.js\": \"admin/js/popup_response.6ce3197f8fc8.js\", \"admin/js/prepopulate.js\": \"admin/js/prepopulate.2f90da7170ec.js\", \"admin/js/prepopulate.min.js\": \"admin/js/prepopulate.min.85fd5e0fb706.js\", \"admin/js/prepopulate_init.js\": \"admin/js/prepopulate_init.0d3b53c37074.js\", \"admin/js/timeparse.js\": \"admin/js/timeparse.51258861a46a.js\", \"admin/js/urlify.js\": \"admin/js/urlify.67bae52223e0.js\", \"django_extensions/css/jquery.autocomplete.css\": \"django_extensions/css/jquery.autocomplete.1a774d452e48.css\", \"django_extensions/img/indicator.gif\": \"django_extensions/img/indicator.03ce3dcc84af.gif\", \"django_extensions/js/jquery.ajaxQueue.js\": \"django_extensions/js/jquery.ajaxQueue.ac504621bdd8.js\", \"django_extensions/js/jquery.autocomplete.js\": \"django_extensions/js/jquery.autocomplete.26e55daaf7c5.js\", \"django_extensions/js/jquery.bgiframe.js\": \"django_extensions/js/jquery.bgiframe.a9cca145411c.js\", \"rest_framework/css/bootstrap-theme.min.css\": \"rest_framework/css/bootstrap-theme.min.66b84a04375e.css\", \"rest_framework/css/bootstrap-tweaks.css\": \"rest_framework/css/bootstrap-tweaks.46ed116b0edd.css\", \"rest_framework/css/bootstrap.min.css\": \"rest_framework/css/bootstrap.min.77017a69879a.css\", \"rest_framework/css/default.css\": \"rest_framework/css/default.789dfb5732d7.css\", \"rest_framework/css/font-awesome-4.0.3.css\": \"rest_framework/css/font-awesome-4.0.3.c1e1ea213abf.css\", \"rest_framework/css/prettify.css\": \"rest_framework/css/prettify.a987f72342ee.css\", \"rest_framework/fonts/fontawesome-webfont.eot\": \"rest_framework/fonts/fontawesome-webfont.8b27bc96115c.eot\", \"rest_framework/fonts/fontawesome-webfont.svg\": \"rest_framework/fonts/fontawesome-webfont.83e37a11f9d7.svg\", \"rest_framework/fonts/fontawesome-webfont.ttf\": \"rest_framework/fonts/fontawesome-webfont.dcb26c7239d8.ttf\", \"rest_framework/fonts/fontawesome-webfont.woff\": \"rest_framework/fonts/fontawesome-webfont.3293616ec0c6.woff\", \"rest_framework/fonts/glyphicons-halflings-regular.eot\": \"rest_framework/fonts/glyphicons-halflings-regular.f4769f9bdb74.eot\", \"rest_framework/fonts/glyphicons-halflings-regular.svg\": \"rest_framework/fonts/glyphicons-halflings-regular.08eda92397ae.svg\", \"rest_framework/fonts/glyphicons-halflings-regular.ttf\": \"rest_framework/fonts/glyphicons-halflings-regular.e18bbf611f2a.ttf\", \"rest_framework/fonts/glyphicons-halflings-regular.woff\": \"rest_framework/fonts/glyphicons-halflings-regular.fa2772327f55.woff\", \"rest_framework/fonts/glyphicons-halflings-regular.woff2\": \"rest_framework/fonts/glyphicons-halflings-regular.448c34a56d69.woff2\", \"rest_framework/img/glyphicons-halflings-white.png\": \"rest_framework/img/glyphicons-halflings-white.9bbc6e960299.png\", \"rest_framework/img/glyphicons-halflings.png\": \"rest_framework/img/glyphicons-halflings.90233c9067e9.png\", \"rest_framework/img/grid.png\": \"rest_framework/img/grid.a4b938cf382b.png\", \"rest_framework/js/ajax-form.js\": \"rest_framework/js/ajax-form.0ea6e6052ab5.js\", \"rest_framework/js/bootstrap.min.js\": \"rest_framework/js/bootstrap.min.2f34b630ffe3.js\", \"rest_framework/js/coreapi-0.1.1.js\": \"rest_framework/js/coreapi-0.1.1.8851fb9336c9.js\", \"rest_framework/js/csrf.js\": \"rest_framework/js/csrf.969930007329.js\", \"rest_framework/js/default.js\": \"rest_framework/js/default.5b08897dbdc3.js\", \"rest_framework/js/jquery-3.5.1.min.js\": \"rest_framework/js/jquery-3.5.1.min.dc5e7f18c8d3.js\", \"rest_framework/js/prettify-min.js\": \"rest_framework/js/prettify-min.709bfcc456c6.js\", \"fonts/minerva-icon-font.json\": \"fonts/minerva-icon-font.3344e8afa2c9.json\", \"fonts/minerva-icon-font.ttf\": \"fonts/minerva-icon-font.38fecdb66cd3.ttf\", \"fonts/museo-sans-100.ttf\": \"fonts/museo-sans-100.595e57c07780.ttf\", \"fonts/museo-sans-300.ttf\": \"fonts/museo-sans-300.e61e02070d90.ttf\", \"fonts/museo-sans-500.ttf\": \"fonts/museo-sans-500.2c0f857ad4f4.ttf\", \"fonts/museo-sans-700.ttf\": \"fonts/museo-sans-700.6c204786fa10.ttf\", \"fonts/museo-sans-900.ttf\": \"fonts/museo-sans-900.922853dd8928.ttf\", \"fonts/skolar-regular-pvt.ttf\": \"fonts/skolar-regular-pvt.9e863eaea5c1.ttf\", \"images/1x1.png\": \"images/1x1.71a50dbba44c.png\", \"images/chosen-sprite.png\": \"images/chosen-sprite.25b9acb1b504.png\", \"images/chosen-sprite@2x.png\": \"images/chosen-sprite@2x.cb0d09c93b99.png\", \"images/cross-button.png\": \"images/cross-button.d17fd9b0829f.png\", \"images/current_tab_triangle.png\": \"images/current_tab_triangle.67d5dd9ab2fa.png\", \"images/default_avatar.svg\": \"images/default_avatar.29df99b2d7bc.svg\", \"images/default_readings.png\": \"images/default_readings.0c7a21456e7c.png\", \"images/diagonal_stripe_poll_result.png\": \"images/diagonal_stripe_poll_result.49b9f088845c.png\", \"images/eraser.cur\": \"images/eraser.78862fc66232.cur\", \"images/google-drive-icon.png\": \"images/google-drive-icon.b7d0eba3888c.png\", \"images/grid.svg\": \"images/grid.72c7abae8de2.svg\", \"images/icon-minerva-doc.png\": \"images/icon-minerva-doc.2ba617a1f86f.png\", \"images/icon-resource-pdf-white.svg\": \"images/icon-resource-pdf-white.513e8aad381f.svg\", \"images/icon-resource-sled-white.svg\": \"images/icon-resource-sled-white.17a3d68298ac.svg\", \"images/icon_alert.svg\": \"images/icon_alert.103542cf3009.svg\", \"images/icon_alert_new.svg\": \"images/icon_alert_new.bfed46db04af.svg\", \"images/icon_alert_red.svg\": \"images/icon_alert_red.1f100c2727e4.svg\", \"images/icon_all_events.svg\": \"images/icon_all_events.47449c8565db.svg\", \"images/icon_all_users.svg\": \"images/icon_all_users.35ec3ba85d56.svg\", \"images/icon_arrow_closed.svg\": \"images/icon_arrow_closed.1aaeb08c2af1.svg\", \"images/icon_arrow_down.svg\": \"images/icon_arrow_down.e217c9692a72.svg\", \"images/icon_arrow_left.svg\": \"images/icon_arrow_left.cd636f125c74.svg\", \"images/icon_arrow_open.svg\": \"images/icon_arrow_open.a2b92db229c0.svg\", \"images/icon_arrow_right.svg\": \"images/icon_arrow_right.efa223650716.svg\", \"images/icon_assess_class.svg\": \"images/icon_assess_class.89f3ee18520c.svg\", \"images/icon_assess_class_secondary.svg\": \"images/icon_assess_class_secondary.d682bd7b1e57.svg\", \"images/icon_assessments.svg\": \"images/icon_assessments.232278ad91c1.svg\", \"images/icon_assessments_blue.svg\": \"images/icon_assessments_blue.8d1049a98e5d.svg\", \"images/icon_assignments.svg\": \"images/icon_assignments.aace2b3a2cc1.svg\", \"images/icon_assignments_blue.svg\": \"images/icon_assignments_blue.e752da8bf820.svg\", \"images/icon_audio.svg\": \"images/icon_audio.aeb4cdaac467.svg\", \"images/icon_audio_mute.svg\": \"images/icon_audio_mute.5df01f12a174.svg\", \"images/icon_audio_orange.svg\": \"images/icon_audio_orange.ff9fafca5712.svg\", \"images/icon_audio_quiet.svg\": \"images/icon_audio_quiet.947f5e983900.svg\", \"images/icon_av_error_red.svg\": \"images/icon_av_error_red.88b36e90d9ad.svg\", \"images/icon_background_blur_disabled.svg\": \"images/icon_background_blur_disabled.fedf38993a32.svg\", \"images/icon_background_blur_disabled_notification.svg\": \"images/icon_background_blur_disabled_notification.120793f09df4.svg\", \"images/icon_background_blur_enabled.svg\": \"images/icon_background_blur_enabled.6a64cc60be69.svg\", \"images/icon_background_blur_enabled_notification.svg\": \"images/icon_background_blur_enabled_notification.360288b39ee4.svg\", \"images/icon_batch_create_users.svg\": \"images/icon_batch_create_users.d257181933b3.svg\", \"images/icon_bell.svg\": \"images/icon_bell.a914fff585ba.svg\", \"images/icon_blocked.svg\": \"images/icon_blocked.027783f73f82.svg\", \"images/icon_blockquote.svg\": \"images/icon_blockquote.8a7b44de5ec7.svg\", \"images/icon_bold.svg\": \"images/icon_bold.d76e9091dfb7.svg\", \"images/icon_bookmark.svg\": \"images/icon_bookmark.98249e798d66.svg\", \"images/icon_breakout.svg\": \"images/icon_breakout.05ad1d12bb4b.svg\", \"images/icon_breakout_dark.svg\": \"images/icon_breakout_dark.af6702e05ec7.svg\", \"images/icon_breakout_listen.svg\": \"images/icon_breakout_listen.8d2a07c20187.svg\", \"images/icon_breakout_listen_white.svg\": \"images/icon_breakout_listen_white.b7652abd32ae.svg\", \"images/icon_breakout_peek.svg\": \"images/icon_breakout_peek.504fd618166c.svg\", \"images/icon_breakout_stop.svg\": \"images/icon_breakout_stop.18d73e0152a2.svg\", \"images/icon_breakout_visit.svg\": \"images/icon_breakout_visit.19e4ed12dbe4.svg\", \"images/icon_breakout_visit_white.svg\": \"images/icon_breakout_visit_white.bb8919944342.svg\", \"images/icon_breakout_white.svg\": \"images/icon_breakout_white.213334bce2ad.svg\", \"images/icon_calendar.svg\": \"images/icon_calendar.67caa5c92b5d.svg\", \"images/icon_camera_disabled.svg\": \"images/icon_camera_disabled.8599f09e4266.svg\", \"images/icon_camera_disabled_notification.svg\": \"images/icon_camera_disabled_notification.02b2c913f1eb.svg\", \"images/icon_camera_enabled.svg\": \"images/icon_camera_enabled.e56f9c072f8d.svg\", \"images/icon_camera_enabled_notification.svg\": \"images/icon_camera_enabled_notification.08ed64a9920a.svg\", \"images/icon_camera_enabled_white.svg\": \"images/icon_camera_enabled_white.a7b91c290c0f.svg\", \"images/icon_chat.svg\": \"images/icon_chat.e8b985cd4da0.svg\", \"images/icon_chat_outline.svg\": \"images/icon_chat_outline.bdcb41d9e450.svg\", \"images/icon_check.svg\": \"images/icon_check.450ecdcb02a3.svg\", \"images/icon_check_circle_white.svg\": \"images/icon_check_circle_white.666532f56e84.svg\", \"images/icon_check_white.svg\": \"images/icon_check_white.b4bebb65fe6f.svg\", \"images/icon_checkcircle.svg\": \"images/icon_checkcircle.1b6a62efaed1.svg\", \"images/icon_clearsignals.svg\": \"images/icon_clearsignals.ddf0942e3487.svg\", \"images/icon_clock.svg\": \"images/icon_clock.17fde98dc190.svg\", \"images/icon_clock_orange.svg\": \"images/icon_clock_orange.9d766547c2f4.svg\", \"images/icon_close.svg\": \"images/icon_close.7440412ce3a5.svg\", \"images/icon_close_hover.svg\": \"images/icon_close_hover.3fb3e72352df.svg\", \"images/icon_close_light.svg\": \"images/icon_close_light.cbb8cad96892.svg\", \"images/icon_close_thin.svg\": \"images/icon_close_thin.5b2b6fa88d0a.svg\", \"images/icon_close_x.svg\": \"images/icon_close_x.ae6e334e2bfb.svg\", \"images/icon_code.svg\": \"images/icon_code.8886954a0908.svg\", \"images/icon_collapse_chevrons.svg\": \"images/icon_collapse_chevrons.5523377dbbc1.svg\", \"images/icon_connection_banner.svg\": \"images/icon_connection_banner.acc4db2cfc3e.svg\", \"images/icon_connection_issue_white.svg\": \"images/icon_connection_issue_white.49d01fd95762.svg\", \"images/icon_control_panel.svg\": \"images/icon_control_panel.9359228cc592.svg\", \"images/icon_courses.svg\": \"images/icon_courses.971c516281ac.svg\", \"images/icon_create_class.svg\": \"images/icon_create_class.faf6f3c3329b.svg\", \"images/icon_create_user.svg\": \"images/icon_create_user.2d17608763fe.svg\", \"images/icon_dashboard.svg\": \"images/icon_dashboard.d08bca687ff1.svg\", \"images/icon_directory.svg\": \"images/icon_directory.431a0d4da8db.svg\", \"images/icon_disengaged.svg\": \"images/icon_disengaged.a176785e2e6b.svg\", \"images/icon_documents.svg\": \"images/icon_documents.ac92cd4b949c.svg\", \"images/icon_download_tiny.svg\": \"images/icon_download_tiny.e099dd485274.svg\", \"images/icon_draw.svg\": \"images/icon_draw.984e1cdb784d.svg\", \"images/icon_eavesdrop.svg\": \"images/icon_eavesdrop.1357d262dbaa.svg\", \"images/icon_email.svg\": \"images/icon_email.edcde613d540.svg\", \"images/icon_email_outline.svg\": \"images/icon_email_outline.b6d8bb0d0392.svg\", \"images/icon_emotion_agree.svg\": \"images/icon_emotion_agree.b60899647c18.svg\", \"images/icon_emotion_agree_circle.svg\": \"images/icon_emotion_agree_circle.ffccac1be838.svg\", \"images/icon_emotion_clap.svg\": \"images/icon_emotion_clap.f861b0805923.svg\", \"images/icon_emotion_clap_circle.svg\": \"images/icon_emotion_clap_circle.6f14f74fee3d.svg\", \"images/icon_emotion_disagree.svg\": \"images/icon_emotion_disagree.7b03391f2431.svg\", \"images/icon_emotion_disagree_circle.svg\": \"images/icon_emotion_disagree_circle.ab413d52992e.svg\", \"images/icon_emotion_dislike.svg\": \"images/icon_emotion_dislike.9b4b851ff574.svg\", \"images/icon_emotion_dislike_circle.svg\": \"images/icon_emotion_dislike_circle.23412861ee8c.svg\", \"images/icon_emotion_hand.svg\": \"images/icon_emotion_hand.851f71f5ac99.svg\", \"images/icon_emotion_hand_circle.svg\": \"images/icon_emotion_hand_circle.95b11986fd18.svg\", \"images/icon_emotion_laugh.svg\": \"images/icon_emotion_laugh.d11459a74dd1.svg\", \"images/icon_emotion_laugh_circle.svg\": \"images/icon_emotion_laugh_circle.d27e15ae5c13.svg\", \"images/icon_emotion_like.svg\": \"images/icon_emotion_like.2c494b628a45.svg\", \"images/icon_emotion_like_circle.svg\": \"images/icon_emotion_like_circle.a0c8a6c11725.svg\", \"images/icon_emotion_love.svg\": \"images/icon_emotion_love.abd067ab119b.svg\", \"images/icon_emotion_love_circle.svg\": \"images/icon_emotion_love_circle.11e596231f06.svg\", \"images/icon_emotion_minus.svg\": \"images/icon_emotion_minus.27f3c0af7eff.svg\", \"images/icon_emotion_plus.svg\": \"images/icon_emotion_plus.843b144508ca.svg\", \"images/icon_emotion_wow.svg\": \"images/icon_emotion_wow.7baca1aa6a49.svg\", \"images/icon_emotion_wow_circle.svg\": \"images/icon_emotion_wow_circle.427451676475.svg\", \"images/icon_empty_absence.svg\": \"images/icon_empty_absence.cffaac54dc38.svg\", \"images/icon_enter_class.svg\": \"images/icon_enter_class.7427699e8737.svg\", \"images/icon_enter_class_secondary.svg\": \"images/icon_enter_class_secondary.49cd3f265f89.svg\", \"images/icon_error.svg\": \"images/icon_error.ea7a0323140c.svg\", \"images/icon_exit.svg\": \"images/icon_exit.d3240ab80df6.svg\", \"images/icon_expand.svg\": \"images/icon_expand.f96ff7762482.svg\", \"images/icon_expand_chevrons.svg\": \"images/icon_expand_chevrons.cabcd346d854.svg\", \"images/icon_eye_not_visible.svg\": \"images/icon_eye_not_visible.4c4e7226426c.svg\", \"images/icon_eye_visible.svg\": \"images/icon_eye_visible.bad40a783312.svg\", \"images/icon_eye_visible_blue.svg\": \"images/icon_eye_visible_blue.2dc5e577c69d.svg\", \"images/icon_fail.svg\": \"images/icon_fail.c0110b23ccf5.svg\", \"images/icon_file_outline.svg\": \"images/icon_file_outline.be23f9da577b.svg\", \"images/icon_flame.svg\": \"images/icon_flame.6a0a7aadc705.svg\", \"images/icon_forum_code_doc.svg\": \"images/icon_forum_code_doc.e62080506d80.svg\", \"images/icon_forum_code_workbook.svg\": \"images/icon_forum_code_workbook.c9ea1bb78cd7.svg\", \"images/icon_forum_doc.svg\": \"images/icon_forum_doc.996d8d1ca60a.svg\", \"images/icon_forum_workbook.svg\": \"images/icon_forum_workbook.a22d94c05dfc.svg\", \"images/icon_forum_workbook_big.svg\": \"images/icon_forum_workbook_big.a000fa3de477.svg\", \"images/icon_gear.svg\": \"images/icon_gear.e9f44f8971bd.svg\", \"images/icon_general-download.svg\": \"images/icon_general-download.b3daab8a4527.svg\", \"images/icon_google.png\": \"images/icon_google.e58eb07ba2cd.png\", \"images/icon_google_drawing.png\": \"images/icon_google_drawing.0964f94ba200.png\", \"images/icon_google_g.svg\": \"images/icon_google_g.d48806156196.svg\", \"images/icon_grade-blind.svg\": \"images/icon_grade-blind.72ba2eaff229.svg\", \"images/icon_grade.svg\": \"images/icon_grade.2cbbba3c02c5.svg\", \"images/icon_grades.svg\": \"images/icon_grades.a07ca276659a.svg\", \"images/icon_grading.svg\": \"images/icon_grading.843af0b4e351.svg\", \"images/icon_greencheck.svg\": \"images/icon_greencheck.2bfb5a9d7ba3.svg\", \"images/icon_hamburger_thin.svg\": \"images/icon_hamburger_thin.8224a08c8a5e.svg\", \"images/icon_hand.svg\": \"images/icon_hand.3d3ffdb308d3.svg\", \"images/icon_hand_raised.svg\": \"images/icon_hand_raised.5b54b57cd74c.svg\", \"images/icon_happy.svg\": \"images/icon_happy.6f37af41a948.svg\", \"images/icon_help.svg\": \"images/icon_help.c69351ebb7af.svg\", \"images/icon_home.svg\": \"images/icon_home.e2701c9b14c1.svg\", \"images/icon_infocircle.svg\": \"images/icon_infocircle.8ac19aabbfb8.svg\", \"images/icon_infocircle_blue.svg\": \"images/icon_infocircle_blue.2a8400376e56.svg\", \"images/icon_italic.svg\": \"images/icon_italic.c5551b4846b1.svg\", \"images/icon_link.svg\": \"images/icon_link.332cff3c2f1e.svg\", \"images/icon_link_blue.svg\": \"images/icon_link_blue.08efba372c11.svg\", \"images/icon_link_break.svg\": \"images/icon_link_break.61170f556b9e.svg\", \"images/icon_loading_circle.svg\": \"images/icon_loading_circle.ad0cefa98b72.svg\", \"images/icon_loading_darkbg.svg\": \"images/icon_loading_darkbg.b7c3edfd5a19.svg\", \"images/icon_loading_lightbg.svg\": \"images/icon_loading_lightbg.e43bac1dd641.svg\", \"images/icon_loading_mediumbg.svg\": \"images/icon_loading_mediumbg.6a86f7f81194.svg\", \"images/icon_lock_blue.svg\": \"images/icon_lock_blue.4b49766db6ab.svg\", \"images/icon_lock_closed.svg\": \"images/icon_lock_closed.e235b0c8de5c.svg\", \"images/icon_lock_open.svg\": \"images/icon_lock_open.23b56251b5f8.svg\", \"images/icon_lock_unlocked.svg\": \"images/icon_lock_unlocked.6d31c9dd75b3.svg\", \"images/icon_lock_white.svg\": \"images/icon_lock_white.2221e05a8daf.svg\", \"images/icon_locked.svg\": \"images/icon_locked.bc743b9e57d6.svg\", \"images/icon_locked_hover.svg\": \"images/icon_locked_hover.d4a60fccb4ee.svg\", \"images/icon_loop.svg\": \"images/icon_loop.c2551193f203.svg\", \"images/icon_maximize.svg\": \"images/icon_maximize.19e0b999bc00.svg\", \"images/icon_meatball_menu_white.svg\": \"images/icon_meatball_menu_white.d7ace7309670.svg\", \"images/icon_message.svg\": \"images/icon_message.9cda6fe94a51.svg\", \"images/icon_mic.svg\": \"images/icon_mic.94992bb399b1.svg\", \"images/icon_mic_muted.svg\": \"images/icon_mic_muted.2dc01e969dbb.svg\", \"images/icon_minerva_symbol_white.svg\": \"images/icon_minerva_symbol_white.66f4f834406a.svg\", \"images/icon_minimize.svg\": \"images/icon_minimize.4630bbf690d0.svg\", \"images/icon_minus_circle.svg\": \"images/icon_minus_circle.0f0d5d7dcfef.svg\", \"images/icon_muted.svg\": \"images/icon_muted.db3a3192c2a8.svg\", \"images/icon_muted_red.svg\": \"images/icon_muted_red.b4f508928920.svg\", \"images/icon_muted_white.svg\": \"images/icon_muted_white.6c019b5532d8.svg\", \"images/icon_newwindow.svg\": \"images/icon_newwindow.778314d9b486.svg\", \"images/icon_next.svg\": \"images/icon_next.c177f2d4c0a0.svg\", \"images/icon_no.svg\": \"images/icon_no.143d006d15c9.svg\", \"images/icon_no_circle.svg\": \"images/icon_no_circle.8bb1a0e361e8.svg\", \"images/icon_no_red.svg\": \"images/icon_no_red.3255116941a4.svg\", \"images/icon_no_white.svg\": \"images/icon_no_white.794cfea6ae4b.svg\", \"images/icon_not_focused.svg\": \"images/icon_not_focused.58c9704f8bc6.svg\", \"images/icon_not_focused_v_2.svg\": \"images/icon_not_focused_v_2.803fa90f63f0.svg\", \"images/icon_notes.svg\": \"images/icon_notes.dfd731920ad6.svg\", \"images/icon_notes_white.svg\": \"images/icon_notes_white.a40c5d02af8b.svg\", \"images/icon_numbers.svg\": \"images/icon_numbers.8c2920d66b03.svg\", \"images/icon_ol.svg\": \"images/icon_ol.aa5445f190b3.svg\", \"images/icon_open_link.svg\": \"images/icon_open_link.280816062b9f.svg\", \"images/icon_open_new_window.svg\": \"images/icon_open_new_window.111de8117caa.svg\", \"images/icon_outcome_index.svg\": \"images/icon_outcome_index.8a150fd5f7bf.svg\", \"images/icon_participants.svg\": \"images/icon_participants.64445f5c6cc4.svg\", \"images/icon_password.svg\": \"images/icon_password.972a529d2685.svg\", \"images/icon_password_outline.svg\": \"images/icon_password_outline.b6d7ffcd1bf6.svg\", \"images/icon_pause.svg\": \"images/icon_pause.c9b440a828d4.svg\", \"images/icon_people.svg\": \"images/icon_people.f3b0ef3ef782.svg\", \"images/icon_pin_down.svg\": \"images/icon_pin_down.fe4e87f924d5.svg\", \"images/icon_pin_up.svg\": \"images/icon_pin_up.a1bb5e5235f3.svg\", \"images/icon_pinned.svg\": \"images/icon_pinned.5d20b25746c5.svg\", \"images/icon_pinned_white.svg\": \"images/icon_pinned_white.b1ebb959fc26.svg\", \"images/icon_play.svg\": \"images/icon_play.047084028e9b.svg\", \"images/icon_plus_circle.svg\": \"images/icon_plus_circle.e5def786d157.svg\", \"images/icon_poll_longform.svg\": \"images/icon_poll_longform.d591368fa12d.svg\", \"images/icon_poll_multi.svg\": \"images/icon_poll_multi.ecf46cbd51fc.svg\", \"images/icon_poll_yesno.svg\": \"images/icon_poll_yesno.79d01dd4357e.svg\", \"images/icon_polls.svg\": \"images/icon_polls.4d25528b9ce5.svg\", \"images/icon_polls_blue.svg\": \"images/icon_polls_blue.d23fd2db291c.svg\", \"images/icon_polls_inverse.svg\": \"images/icon_polls_inverse.7ad51e24c505.svg\", \"images/icon_polls_light.svg\": \"images/icon_polls_light.b9e9de65cbd6.svg\", \"images/icon_preferences.svg\": \"images/icon_preferences.6e016b0548d3.svg\", \"images/icon_previous.svg\": \"images/icon_previous.75a2ec21b88e.svg\", \"images/icon_professor.svg\": \"images/icon_professor.a5e4ae830f8a.svg\", \"images/icon_question.svg\": \"images/icon_question.4a72c9d7f372.svg\", \"images/icon_questionmark_circle.svg\": \"images/icon_questionmark_circle.df725f2b14cc.svg\", \"images/icon_random.svg\": \"images/icon_random.bcccfbc1b8dc.svg\", \"images/icon_readings.svg\": \"images/icon_readings.c7c089c3bf25.svg\", \"images/icon_record.svg\": \"images/icon_record.646f8fa22e69.svg\", \"images/icon_record_start.svg\": \"images/icon_record_start.1fc199572e09.svg\", \"images/icon_record_stop.svg\": \"images/icon_record_stop.76dcdb43607d.svg\", \"images/icon_red_warning.svg\": \"images/icon_red_warning.3700c791a8c0.svg\", \"images/icon_refresh.svg\": \"images/icon_refresh.63677f549111.svg\", \"images/icon_reload.svg\": \"images/icon_reload.91b66c53676a.svg\", \"images/icon_reload_av.svg\": \"images/icon_reload_av.f4d40aab6640.svg\", \"images/icon_reload_av_plain.svg\": \"images/icon_reload_av_plain.948771555bfa.svg\", \"images/icon_replace.svg\": \"images/icon_replace.5f15cc116043.svg\", \"images/icon_replace_user.svg\": \"images/icon_replace_user.cec354e0e8d9.svg\", \"images/icon_replace_user_circle.svg\": \"images/icon_replace_user_circle.4632d05b1caf.svg\", \"images/icon_reset_layout.svg\": \"images/icon_reset_layout.8beccb24be9a.svg\", \"images/icon_resource.svg\": \"images/icon_resource.5d986a4fe301.svg\", \"images/icon_restart.svg\": \"images/icon_restart.308ca79e421a.svg\", \"images/icon_roundarrow_down.svg\": \"images/icon_roundarrow_down.05aaf46e7fd8.svg\", \"images/icon_roundarrow_left.svg\": \"images/icon_roundarrow_left.3ce719461d2e.svg\", \"images/icon_roundarrow_right.svg\": \"images/icon_roundarrow_right.6a9ad385924a.svg\", \"images/icon_roundarrow_up.svg\": \"images/icon_roundarrow_up.beeb39a7256a.svg\", \"images/icon_screenshare_active.svg\": \"images/icon_screenshare_active.47b0b13bd4a0.svg\", \"images/icon_screenshare_loading.svg\": \"images/icon_screenshare_loading.9d4e81bd0f74.svg\", \"images/icon_screenshare_normal.svg\": \"images/icon_screenshare_normal.1f78449a3869.svg\", \"images/icon_screenshare_notification.svg\": \"images/icon_screenshare_notification.3040afca65a7.svg\", \"images/icon_search.svg\": \"images/icon_search.d57d55e79316.svg\", \"images/icon_search_dark.svg\": \"images/icon_search_dark.439c1448339f.svg\", \"images/icon_sections.svg\": \"images/icon_sections.c8f282472e78.svg\", \"images/icon_select.svg\": \"images/icon_select.02020054e71d.svg\", \"images/icon_server_white.svg\": \"images/icon_server_white.fd3dab0cf7ac.svg\", \"images/icon_settings.svg\": \"images/icon_settings.9948d18e17c4.svg\", \"images/icon_share.svg\": \"images/icon_share.cca56a6312b3.svg\", \"images/icon_sound.svg\": \"images/icon_sound.2109092e3690.svg\", \"images/icon_speaker.svg\": \"images/icon_speaker.0b16372a9820.svg\", \"images/icon_speaker_white_outline.svg\": \"images/icon_speaker_white_outline.e827e3f043c6.svg\", \"images/icon_spinner.svg\": \"images/icon_spinner.e43bac1dd641.svg\", \"images/icon_star.svg\": \"images/icon_star.87aa19bf49b9.svg\", \"images/icon_star_circle.svg\": \"images/icon_star_circle.a78a2539908e.svg\", \"images/icon_stop.svg\": \"images/icon_stop.2b0a714be9d6.svg\", \"images/icon_students.svg\": \"images/icon_students.6f95c4462f2a.svg\", \"images/icon_swap.svg\": \"images/icon_swap.7ed0bc939222.svg\", \"images/icon_syllabus.svg\": \"images/icon_syllabus.db572ccabfe9.svg\", \"images/icon_talk_time_avg_bubbles.svg\": \"images/icon_talk_time_avg_bubbles.0c83b3f413c4.svg\", \"images/icon_talk_time_avg_face.svg\": \"images/icon_talk_time_avg_face.4c15706f5113.svg\", \"images/icon_talk_time_high_bubbles.svg\": \"images/icon_talk_time_high_bubbles.e7ecc0c432e7.svg\", \"images/icon_talk_time_high_face.svg\": \"images/icon_talk_time_high_face.9e05ea693029.svg\", \"images/icon_talk_time_low_bubbles.svg\": \"images/icon_talk_time_low_bubbles.8efd7a51699b.svg\", \"images/icon_talk_time_low_face.svg\": \"images/icon_talk_time_low_face.c1c1d1c3dd00.svg\", \"images/icon_thin_down.svg\": \"images/icon_thin_down.c0969cf9af27.svg\", \"images/icon_thin_left.svg\": \"images/icon_thin_left.733bbcd25578.svg\", \"images/icon_thin_right.svg\": \"images/icon_thin_right.c38c901c6e1b.svg\", \"images/icon_thumbs_up.svg\": \"images/icon_thumbs_up.177723b3fe8c.svg\", \"images/icon_time_alarm.svg\": \"images/icon_time_alarm.dcc61a8251a0.svg\", \"images/icon_timer.svg\": \"images/icon_timer.77bf7cbdf5c5.svg\", \"images/icon_toggle_expanded.svg\": \"images/icon_toggle_expanded.b640d7d2824e.svg\", \"images/icon_toolbar_draw.svg\": \"images/icon_toolbar_draw.5c8cd69cef6e.svg\", \"images/icon_toolbar_eraser.svg\": \"images/icon_toolbar_eraser.3e12c68895d2.svg\", \"images/icon_toolbar_left.svg\": \"images/icon_toolbar_left.7f51726f9f92.svg\", \"images/icon_toolbar_pencil.svg\": \"images/icon_toolbar_pencil.fa44b16a9d2c.svg\", \"images/icon_toolbar_redo.svg\": \"images/icon_toolbar_redo.266a20c46410.svg\", \"images/icon_toolbar_right.svg\": \"images/icon_toolbar_right.8a2fac984fa8.svg\", \"images/icon_toolbar_select.svg\": \"images/icon_toolbar_select.bcbe1a5a84d7.svg\", \"images/icon_toolbar_type.svg\": \"images/icon_toolbar_type.8a257a06b233.svg\", \"images/icon_toolbar_undo.svg\": \"images/icon_toolbar_undo.a2aa01cfd348.svg\", \"images/icon_toolbar_zoomin.svg\": \"images/icon_toolbar_zoomin.bddf1adc5f53.svg\", \"images/icon_toolbar_zoomout.svg\": \"images/icon_toolbar_zoomout.848e894f2286.svg\", \"images/icon_ul.svg\": \"images/icon_ul.2deafd3bf3cb.svg\", \"images/icon_underline.svg\": \"images/icon_underline.4d35dd04c519.svg\", \"images/icon_undo.svg\": \"images/icon_undo.f20731751808.svg\", \"images/icon_unlocked.svg\": \"images/icon_unlocked.e7e596ec9911.svg\", \"images/icon_unlocked_hover.svg\": \"images/icon_unlocked_hover.ec3d1eea3a27.svg\", \"images/icon_unmuted.svg\": \"images/icon_unmuted.2aa2da45a13f.svg\", \"images/icon_unmuted_white.svg\": \"images/icon_unmuted_white.154ef1dace6e.svg\", \"images/icon_unpinned.svg\": \"images/icon_unpinned.3b05a6b8aab0.svg\", \"images/icon_unpinned_white.svg\": \"images/icon_unpinned_white.db6af76edf10.svg\", \"images/icon_up.svg\": \"images/icon_up.a4e21b1b0700.svg\", \"images/icon_upload.svg\": \"images/icon_upload.6f68ef40640b.svg\", \"images/icon_upload_notification.svg\": \"images/icon_upload_notification.a46bc28cb4fe.svg\", \"images/icon_upload_tray.svg\": \"images/icon_upload_tray.ae2031f47aef.svg\", \"images/icon_video.svg\": \"images/icon_video.a22415cdcccb.svg\", \"images/icon_video_blue.svg\": \"images/icon_video_blue.c295149ed38a.svg\", \"images/icon_video_red.svg\": \"images/icon_video_red.0c1c938d109b.svg\", \"images/icon_video_white.svg\": \"images/icon_video_white.89f3ee18520c.svg\", \"images/icon_warning.svg\": \"images/icon_warning.b4ba59fbf0e4.svg\", \"images/icon_warning_circle.svg\": \"images/icon_warning_circle.8ac19aabbfb8.svg\", \"images/icon_warning_white.svg\": \"images/icon_warning_white.94357feef137.svg\", \"images/icon_white_stop.svg\": \"images/icon_white_stop.fc3ab89af504.svg\", \"images/icon_yes.svg\": \"images/icon_yes.6b6c94c27ffb.svg\", \"images/icon_yes_circle.svg\": \"images/icon_yes_circle.0647671c18a6.svg\", \"images/icon_yes_green.svg\": \"images/icon_yes_green.9108b2e8d566.svg\", \"images/icon_yes_white.svg\": \"images/icon_yes_white.25bfd38c68eb.svg\", \"images/jupyter.png\": \"images/jupyter.50ebfd93f94d.png\", \"images/latex.png\": \"images/latex.7351007dc5c5.png\", \"images/layout-join.png\": \"images/layout-join.daee9babd045.png\", \"images/layout-split-vertical.png\": \"images/layout-split-vertical.d6b48b96bbcc.png\", \"images/layout-split.png\": \"images/layout-split.10e8cb14aff9.png\", \"images/layout.png\": \"images/layout.a18cf3cf8ba6.png\", \"images/lms_texture_001.jpg\": \"images/lms_texture_001.a884dd44e139.jpg\", \"images/lms_texture_002.jpg\": \"images/lms_texture_002.f76d9829445d.jpg\", \"images/loading-darkbg.svg\": \"images/loading-darkbg.b7c3edfd5a19.svg\", \"images/loading-lightbg.svg\": \"images/loading-lightbg.e43bac1dd641.svg\", \"images/logo_minerva.svg\": \"images/logo_minerva.8a9df6a939ed.svg\", \"images/minerva_head.svg\": \"images/minerva_head.fd1cb6a381e4.svg\", \"images/minerva_mobius.png\": \"images/minerva_mobius.2a2e172e2a98.png\", \"images/minerva_mobius.svg\": \"images/minerva_mobius.f0b10f204e9f.svg\", \"images/mskgi_logo_white.png\": \"images/mskgi_logo_white.de8787c58cb9.png\", \"images/play_button.png\": \"images/play_button.25e2d1d332b0.png\", \"images/sagemath.png\": \"images/sagemath.1af387291fdc.png\", \"images/texture_emp01.jpg\": \"images/texture_emp01.1702e493b474.jpg\", \"images/texture_header01.jpg\": \"images/texture_header01.b3124c94e046.jpg\", \"img/icon-academics.svg\": \"img/icon-academics.6df25a6e3600.svg\", \"ml/selfie_segmentation_landscape.tflite\": \"ml/selfie_segmentation_landscape.b700a32edd89.tflite\", \"ml/tflite-1-0-0.js\": \"ml/tflite-1-0-0.79c4e72a66d6.js\", \"ml/tflite-1-0-0.wasm\": \"ml/tflite-1-0-0.bb2aa3135d25.wasm\", \"ml/tflite-simd-1-0-0.js\": \"ml/tflite-simd-1-0-0.494cf3916bb6.js\", \"ml/tflite-simd-1-0-0.wasm\": \"ml/tflite-simd-1-0-0.90a961f8955e.wasm\", \"ml/twilio-video-processors.js\": \"ml/twilio-video-processors.f906d0ac6eff.js\", \"ml/twilio-video-processors.min.js\": \"ml/twilio-video-processors.min.e6ce7bf23c44.js\", \"sounds/breakout_cue_05.mp3\": \"sounds/breakout_cue_05.620612a92c8b.mp3\", \"sounds/notification.mp3\": \"sounds/notification.a415f04f4ec0.mp3\", \"sounds/soundfx_final-moments-breakout.mp3\": \"sounds/soundfx_final-moments-breakout.726641480ce6.mp3\", \"sounds/soundfx_handraise.mp3\": \"sounds/soundfx_handraise.3802bea13725.mp3\", \"sounds/test_sound.mp3\": \"sounds/test_sound.41a642baf792.mp3\", \"sounds/timer_notification.mp3\": \"sounds/timer_notification.5699e229151c.mp3\", \"stylesheets/assessment.css\": \"stylesheets/assessment.bc0f415011a6.css\", \"stylesheets/basscss.min.css\": \"stylesheets/basscss.min.2647367ad758.css\", \"stylesheets/chronicle-font.css\": \"stylesheets/chronicle-font.b575de3f076c.css\", \"stylesheets/login.css\": \"stylesheets/login.5b02a27101cc.css\", \"stylesheets/spec.css\": \"stylesheets/spec.da9517ac3c31.css\", \"videos/connection_test_video.m4v\": \"videos/connection_test_video.1a1c71ca3d0a.m4v\", \"webpack/001917ed65b4796032d0e04ba69e3f9d.svg\": \"webpack/001917ed65b4796032d0e04ba69e3f9d.3b05a6b8aab0.svg\", \"webpack/024701aec2af6f1fded420388241bb0d.svg\": \"webpack/024701aec2af6f1fded420388241bb0d.beeb39a7256a.svg\", \"webpack/0a8e0c955d9718ea77776f5b5acadb97.svg\": \"webpack/0a8e0c955d9718ea77776f5b5acadb97.bcbe1a5a84d7.svg\", \"webpack/0ab9e60ca98ac16bad947829f8b14e22.svg\": \"webpack/0ab9e60ca98ac16bad947829f8b14e22.6a9ad385924a.svg\", \"webpack/0b60464b83c04ec16788047b500d130d.svg\": \"webpack/0b60464b83c04ec16788047b500d130d.c8f282472e78.svg\", \"webpack/0c605df9a83e004c89e53ad1d982e560.svg\": \"webpack/0c605df9a83e004c89e53ad1d982e560.e9f44f8971bd.svg\", \"webpack/0da2edd2db58b998df558ae13f5ade9f.svg\": \"webpack/0da2edd2db58b998df558ae13f5ade9f.5f15cc116043.svg\", \"webpack/0df8536e1aec95e7b38f9659a23ed7b2.svg\": \"webpack/0df8536e1aec95e7b38f9659a23ed7b2.49d01fd95762.svg\", \"webpack/0ed08611882e8417e2ae15f3f2665878.svg\": \"webpack/0ed08611882e8417e2ae15f3f2665878.2d17608763fe.svg\", \"webpack/10.bundle.js\": \"webpack/10.bundle.965237e2ef58.js\", \"webpack/10b25c25d7e05e92a1e6e18645e24477.svg\": \"webpack/10b25c25d7e05e92a1e6e18645e24477.af6702e05ec7.svg\", \"webpack/11.bundle.js\": \"webpack/11.bundle.bf15a52cba60.js\", \"webpack/112887a30b48c910838909386c342cc0.svg\": \"webpack/112887a30b48c910838909386c342cc0.e5def786d157.svg\", \"webpack/12891b17692701ab740d651a0f9ea8a1.svg\": \"webpack/12891b17692701ab740d651a0f9ea8a1.bc743b9e57d6.svg\", \"webpack/1576063ba283770b12133348effc48f8.svg\": \"webpack/1576063ba283770b12133348effc48f8.c177f2d4c0a0.svg\", \"webpack/16bedca6fbd255ade23159aac3878692.svg\": \"webpack/16bedca6fbd255ade23159aac3878692.120793f09df4.svg\", \"webpack/17694908871fe61128effad3b4009029.svg\": \"webpack/17694908871fe61128effad3b4009029.c0110b23ccf5.svg\", \"webpack/17eb834e57eea45c9d003276acf06585.svg\": \"webpack/17eb834e57eea45c9d003276acf06585.d23fd2db291c.svg\", \"webpack/1cccb8f9db774601e0b437d659a76e25.svg\": \"webpack/1cccb8f9db774601e0b437d659a76e25.d08bca687ff1.svg\", \"webpack/1d105f754291688dcc560afe659fb9af.svg\": \"webpack/1d105f754291688dcc560afe659fb9af.439c1448339f.svg\", \"webpack/2.bundle.js\": \"webpack/2.bundle.d9babd94666f.js\", \"webpack/2017b04ab5cb98c7a6002f0cb3bd6523.svg\": \"webpack/2017b04ab5cb98c7a6002f0cb3bd6523.851f71f5ac99.svg\", \"webpack/20967daf66e4e6aed69dcbac54ca94bf.svg\": \"webpack/20967daf66e4e6aed69dcbac54ca94bf.7440412ce3a5.svg\", \"webpack/214414709b61d54879e30f9f1814bc3b.svg\": \"webpack/214414709b61d54879e30f9f1814bc3b.5d986a4fe301.svg\", \"webpack/21a52049ebf9d76455f903583cc5e617.svg\": \"webpack/21a52049ebf9d76455f903583cc5e617.e7ecc0c432e7.svg\", \"webpack/21e8f686aa2f239e8e5755486cbe3ec5.svg\": \"webpack/21e8f686aa2f239e8e5755486cbe3ec5.733bbcd25578.svg\", \"webpack/23e745ee5af6bcd8c0dca99f246dd224.svg\": \"webpack/23e745ee5af6bcd8c0dca99f246dd224.27f3c0af7eff.svg\", \"webpack/24f17e66dfea5b813fd967ccd0805016.svg\": \"webpack/24f17e66dfea5b813fd967ccd0805016.a000fa3de477.svg\", \"webpack/25cd7880dd687f1d15256625a95adda8.svg\": \"webpack/25cd7880dd687f1d15256625a95adda8.08ed64a9920a.svg\", \"webpack/2657ffe1232c9f82228e1e69020569bf.svg\": \"webpack/2657ffe1232c9f82228e1e69020569bf.bad40a783312.svg\", \"webpack/26cd06795f40eef67e0df76725892468.svg\": \"webpack/26cd06795f40eef67e0df76725892468.ab413d52992e.svg\", \"webpack/2712e0e88dc32e653cedbd3350ebcef7.svg\": \"webpack/2712e0e88dc32e653cedbd3350ebcef7.6a86f7f81194.svg\", \"webpack/296e07a296e94dd82b7d08da44fb090c.svg\": \"webpack/296e07a296e94dd82b7d08da44fb090c.ad0cefa98b72.svg\", \"webpack/2b83961b1c2c8a5836d2df19ab325652.svg\": \"webpack/2b83961b1c2c8a5836d2df19ab325652.3700c791a8c0.svg\", \"webpack/2ba5e0bf75e8b7e83b3d1486eec1b316.svg\": \"webpack/2ba5e0bf75e8b7e83b3d1486eec1b316.360288b39ee4.svg\", \"webpack/2cd727c01b08b49349d2cb7f1f6b0d5a.svg\": \"webpack/2cd727c01b08b49349d2cb7f1f6b0d5a.02020054e71d.svg\", \"webpack/2e2935e901da384c37e5a348b6dcd0cf.svg\": \"webpack/2e2935e901da384c37e5a348b6dcd0cf.2a8400376e56.svg\", \"webpack/2ee62d6d4750ae670cda81690ea83efc.svg\": \"webpack/2ee62d6d4750ae670cda81690ea83efc.7f51726f9f92.svg\", \"webpack/3.bundle.js\": \"webpack/3.bundle.289ded124b1b.js\", \"webpack/30950c742f0c82c24793eaf4587341be.svg\": \"webpack/30950c742f0c82c24793eaf4587341be.faf6f3c3329b.svg\", \"webpack/324a319ddbcd9ff735b30262b0f218b8.svg\": \"webpack/324a319ddbcd9ff735b30262b0f218b8.5c8cd69cef6e.svg\", \"webpack/32607250eed3d8647afb3e92826b0047.svg\": \"webpack/32607250eed3d8647afb3e92826b0047.996d8d1ca60a.svg\", \"webpack/333b2369b6527bd7c4aa761033c0498e.svg\": \"webpack/333b2369b6527bd7c4aa761033c0498e.3255116941a4.svg\", \"webpack/33cb59157d1c4b136a05b493320d3871.svg\": \"webpack/33cb59157d1c4b136a05b493320d3871.a4e21b1b0700.svg\", \"webpack/343e6334bf363641c10491a61a760b7a.svg\": \"webpack/343e6334bf363641c10491a61a760b7a.6d31c9dd75b3.svg\", \"webpack/34c29d2046d1a65a6c5c87c945b9b8d7.svg\": \"webpack/34c29d2046d1a65a6c5c87c945b9b8d7.c69351ebb7af.svg\", \"webpack/36c0d92fe82445134089f0066dfbe5d4.svg\": \"webpack/36c0d92fe82445134089f0066dfbe5d4.9948d18e17c4.svg\", \"webpack/378a2b125deafaf7b4a93021abee305d.svg\": \"webpack/378a2b125deafaf7b4a93021abee305d.a22d94c05dfc.svg\", \"webpack/37c2bcc6211a97614e81453b311b7385.svg\": \"webpack/37c2bcc6211a97614e81453b311b7385.7ad51e24c505.svg\", \"webpack/388b43cdca191a41fe5e024797f14005.svg\": \"webpack/388b43cdca191a41fe5e024797f14005.ffccac1be838.svg\", \"webpack/39c34d27e2d077127fe764083dd9190e.svg\": \"webpack/39c34d27e2d077127fe764083dd9190e.e56f9c072f8d.svg\", \"webpack/3b032c3aca4599ea4a2c242070457cc1.svg\": \"webpack/3b032c3aca4599ea4a2c242070457cc1.ac92cd4b949c.svg\", \"webpack/3c838f70b38180e3e1cba94124d4d22f.svg\": \"webpack/3c838f70b38180e3e1cba94124d4d22f.8599f09e4266.svg\", \"webpack/3df33659253689c64c069483e47848b3.svg\": \"webpack/3df33659253689c64c069483e47848b3.bfed46db04af.svg\", \"webpack/3e53fe722206d7c04c540aec59b4f0c7.svg\": \"webpack/3e53fe722206d7c04c540aec59b4f0c7.154ef1dace6e.svg\", \"webpack/402c0ab585a92799525af18a6b720d41.svg\": \"webpack/402c0ab585a92799525af18a6b720d41.c295149ed38a.svg\", \"webpack/442c32757c66e6cac48ae36291af3ae1.svg\": \"webpack/442c32757c66e6cac48ae36291af3ae1.8efd7a51699b.svg\", \"webpack/44346560d2ebc09034459bc9864b253d.svg\": \"webpack/44346560d2ebc09034459bc9864b253d.2c494b628a45.svg\", \"webpack/4437ca933fa10f4f398559d4d8e45f96.svg\": \"webpack/4437ca933fa10f4f398559d4d8e45f96.d76e9091dfb7.svg\", \"webpack/455b0255fcd2b0e7329fb55212733bb4.svg\": \"webpack/455b0255fcd2b0e7329fb55212733bb4.9d766547c2f4.svg\", \"webpack/482c53418e132f5b29f049bc593b7f49.svg\": \"webpack/482c53418e132f5b29f049bc593b7f49.db6af76edf10.svg\", \"webpack/48359a1e63976e267fcd0bfa6a531f34.svg\": \"webpack/48359a1e63976e267fcd0bfa6a531f34.47b0b13bd4a0.svg\", \"webpack/4b16558a1cb7e18d3fbcb5c7883bb98a.svg\": \"webpack/4b16558a1cb7e18d3fbcb5c7883bb98a.2109092e3690.svg\", \"webpack/4b3f3104a7a07fff3beb437f4350efaf.svg\": \"webpack/4b3f3104a7a07fff3beb437f4350efaf.1b6a62efaed1.svg\", \"webpack/4cf2fdfb21b060f0f18a9072fd6c60f3.svg\": \"webpack/4cf2fdfb21b060f0f18a9072fd6c60f3.bddf1adc5f53.svg\", \"webpack/4d3204f8078bf42b8261329b6af0095f.svg\": \"webpack/4d3204f8078bf42b8261329b6af0095f.dcc61a8251a0.svg\", \"webpack/4d329f41066a789b787d779254dd6e0b.svg\": \"webpack/4d329f41066a789b787d779254dd6e0b.b7c3edfd5a19.svg\", \"webpack/4d33ab7dfeba057b19edc351953f05bf.svg\": \"webpack/4d33ab7dfeba057b19edc351953f05bf.8beccb24be9a.svg\", \"webpack/4d7e9ad2cf38709c0fc7be70d97459dd.svg\": \"webpack/4d7e9ad2cf38709c0fc7be70d97459dd.edcde613d540.svg\", \"webpack/51019a3e03407772ff08a9507f90337b.svg\": \"webpack/51019a3e03407772ff08a9507f90337b.a176785e2e6b.svg\", \"webpack/53380db2fc050f3acb4b135e5d7c7506.svg\": \"webpack/53380db2fc050f3acb4b135e5d7c7506.2221e05a8daf.svg\", \"webpack/55f423b25a82ef12158e9135c9ca789f.svg\": \"webpack/55f423b25a82ef12158e9135c9ca789f.a07ca276659a.svg\", \"webpack/567fbe18988f7ab70865744ed9782a9b.svg\": \"webpack/567fbe18988f7ab70865744ed9782a9b.b60899647c18.svg\", \"webpack/56f7c7359f736e815af761f0521d175d.svg\": \"webpack/56f7c7359f736e815af761f0521d175d.8886954a0908.svg\", \"webpack/5919192b5187eb1d14c0063da8253cf5.svg\": \"webpack/5919192b5187eb1d14c0063da8253cf5.18d73e0152a2.svg\", \"webpack/5a87829f0675409b5f82bbfc67d38ae2.ttf\": \"webpack/5a87829f0675409b5f82bbfc67d38ae2.38fecdb66cd3.ttf\", \"webpack/5ccbc228051cbbeb51ba882d35065782.svg\": \"webpack/5ccbc228051cbbeb51ba882d35065782.0c83b3f413c4.svg\", \"webpack/5e0068a93779939501d3b67f99549dc7.svg\": \"webpack/5e0068a93779939501d3b67f99549dc7.2b0a714be9d6.svg\", \"webpack/5ebc94699ad90446478581774f6b0607.svg\": \"webpack/5ebc94699ad90446478581774f6b0607.427451676475.svg\", \"webpack/61e3d832c18859026f68595302cd4b4d.svg\": \"webpack/61e3d832c18859026f68595302cd4b4d.0b16372a9820.svg\", \"webpack/62c60dd1485c5e5fd3a3b2c659d47ef1.svg\": \"webpack/62c60dd1485c5e5fd3a3b2c659d47ef1.abd067ab119b.svg\", \"webpack/62d49912b945f2c7c33dd190a28761f5.svg\": \"webpack/62d49912b945f2c7c33dd190a28761f5.308ca79e421a.svg\", \"webpack/6306882fbdd9fc77d6006bba7ec92771.svg\": \"webpack/6306882fbdd9fc77d6006bba7ec92771.431a0d4da8db.svg\", \"webpack/6457affd0ba1a360275c027a03cbd63b.svg\": \"webpack/6457affd0ba1a360275c027a03cbd63b.05ad1d12bb4b.svg\", \"webpack/6493245e74d87299dfe3184bf8fca4cb.svg\": \"webpack/6493245e74d87299dfe3184bf8fca4cb.94357feef137.svg\", \"webpack/65d67c374d7fee4cc24711dc2bc8a3a2.svg\": \"webpack/65d67c374d7fee4cc24711dc2bc8a3a2.91b66c53676a.svg\", \"webpack/669b78f8e0babadbea42e7ac7d0427b4.svg\": \"webpack/669b78f8e0babadbea42e7ac7d0427b4.7baca1aa6a49.svg\", \"webpack/6764b830d4a5c480a2e3eda58e8dcf89.svg\": \"webpack/6764b830d4a5c480a2e3eda58e8dcf89.5b2b6fa88d0a.svg\", \"webpack/678a27cecfd5b6c9238bc349b54f8591.svg\": \"webpack/678a27cecfd5b6c9238bc349b54f8591.0647671c18a6.svg\", \"webpack/684b68f0783be54a3f775778b052bf4c.svg\": \"webpack/684b68f0783be54a3f775778b052bf4c.2dc5e577c69d.svg\", \"webpack/693a672aab8cbe624c6a8b18bcd41025.svg\": \"webpack/693a672aab8cbe624c6a8b18bcd41025.f3b0ef3ef782.svg\", \"webpack/694d0cefbb222619e6812ba882a3b669.svg\": \"webpack/694d0cefbb222619e6812ba882a3b669.cabcd346d854.svg\", \"webpack/6d71275eb1bd28d4ede9e75dbe4ba3ca.svg\": \"webpack/6d71275eb1bd28d4ede9e75dbe4ba3ca.f861b0805923.svg\", \"webpack/6db15f9e60e198bd9af93a5db8992b2a.svg\": \"webpack/6db15f9e60e198bd9af93a5db8992b2a.87aa19bf49b9.svg\", \"webpack/6e30ff2518cebfce09204beb227142c4.svg\": \"webpack/6e30ff2518cebfce09204beb227142c4.ff9fafca5712.svg\", \"webpack/6eb4437a43a739cc3310177b51ff447d.svg\": \"webpack/6eb4437a43a739cc3310177b51ff447d.58c9704f8bc6.svg\", \"webpack/6f70582f8cc3439e2073d85f58cf463c.svg\": \"webpack/6f70582f8cc3439e2073d85f58cf463c.a46bc28cb4fe.svg\", \"webpack/6fe4a8b66c1c9734759b439ae98442e8.svg\": \"webpack/6fe4a8b66c1c9734759b439ae98442e8.513e8aad381f.svg\", \"webpack/71e122891656836e784f174c6c3054dd.svg\": \"webpack/71e122891656836e784f174c6c3054dd.89f3ee18520c.svg\", \"webpack/729674a955d76f1cdaafcb57cda85c36.svg\": \"webpack/729674a955d76f1cdaafcb57cda85c36.794cfea6ae4b.svg\", \"webpack/733d73943ae0a175aee1eab3f9997157.svg\": \"webpack/733d73943ae0a175aee1eab3f9997157.c9ea1bb78cd7.svg\", \"webpack/73683f178ef77e1423804a0a7a6ecd3a.svg\": \"webpack/73683f178ef77e1423804a0a7a6ecd3a.9359228cc592.svg\", \"webpack/737071f9e50236abe767dfc8f6888bc3.svg\": \"webpack/737071f9e50236abe767dfc8f6888bc3.db3a3192c2a8.svg\", \"webpack/78abb05435c8a2ee6f64a49d18b25495.svg\": \"webpack/78abb05435c8a2ee6f64a49d18b25495.fd3dab0cf7ac.svg\", \"webpack/7942537aa907ecbe09aaad316368aae9.svg\": \"webpack/7942537aa907ecbe09aaad316368aae9.332cff3c2f1e.svg\", \"webpack/799644ead1a9f82a8e83841a145eff63.svg\": \"webpack/799644ead1a9f82a8e83841a145eff63.b4f508928920.svg\", \"webpack/79b8492606a2bc8200cb689b00a7fdc6.svg\": \"webpack/79b8492606a2bc8200cb689b00a7fdc6.8bb1a0e361e8.svg\", \"webpack/79d63f9fb96d6e5184447e6806b7c078.svg\": \"webpack/79d63f9fb96d6e5184447e6806b7c078.23412861ee8c.svg\", \"webpack/79e62a888ec13ff9b3cf7144ade163b1.svg\": \"webpack/79e62a888ec13ff9b3cf7144ade163b1.25bfd38c68eb.svg\", \"webpack/7aa3415b3560a76d7741c3dfbae68009.svg\": \"webpack/7aa3415b3560a76d7741c3dfbae68009.c9b440a828d4.svg\", \"webpack/7ac63c42634f304566ccdbd8310dc7e2.svg\": \"webpack/7ac63c42634f304566ccdbd8310dc7e2.c38c901c6e1b.svg\", \"webpack/7b4487aa414742cd02a9887f6df3a33d.svg\": \"webpack/7b4487aa414742cd02a9887f6df3a33d.d57d55e79316.svg\", \"webpack/7d9b3e18b0f9d80926d388c380e88a70.svg\": \"webpack/7d9b3e18b0f9d80926d388c380e88a70.a7b91c290c0f.svg\", \"webpack/7e9fea2affcf7b8b2dbcd1109ed09451.svg\": \"webpack/7e9fea2affcf7b8b2dbcd1109ed09451.6c019b5532d8.svg\", \"webpack/7f8a721de713d0506b8c3eb303ac8d44.svg\": \"webpack/7f8a721de713d0506b8c3eb303ac8d44.9d4e81bd0f74.svg\", \"webpack/7fdba2738bc8107736a7c2716d9dfa68.svg\": \"webpack/7fdba2738bc8107736a7c2716d9dfa68.5523377dbbc1.svg\", \"webpack/84264908443b7e7a2804351cf89bafad.svg\": \"webpack/84264908443b7e7a2804351cf89bafad.213334bce2ad.svg\", \"webpack/852e2f3e4af8b7ed04a68b39d02c6e0d.svg\": \"webpack/852e2f3e4af8b7ed04a68b39d02c6e0d.5d20b25746c5.svg\", \"webpack/877869631122501eb8e666573b8f99f8.svg\": \"webpack/877869631122501eb8e666573b8f99f8.8ac19aabbfb8.svg\", \"webpack/87e302070468a1d17ca51d49041672d9.svg\": \"webpack/87e302070468a1d17ca51d49041672d9.e752da8bf820.svg\", \"webpack/8810bde9765149319cc2289ad407a407.svg\": \"webpack/8810bde9765149319cc2289ad407a407.8224a08c8a5e.svg\", \"webpack/8838b0133fd6611b991d875ef9d73240.svg\": \"webpack/8838b0133fd6611b991d875ef9d73240.11e596231f06.svg\", \"webpack/885c30c1d6718e4001e7c888e599057e.svg\": \"webpack/885c30c1d6718e4001e7c888e599057e.acc4db2cfc3e.svg\", \"webpack/896324e5ed3d553017b65fe71d70bfda.svg\": \"webpack/896324e5ed3d553017b65fe71d70bfda.e43bac1dd641.svg\", \"webpack/89def896ff6d192a55f645b1b6f2e1ed.svg\": \"webpack/89def896ff6d192a55f645b1b6f2e1ed.4c15706f5113.svg\", \"webpack/8b57115ccc85e4e62982b88bfc2707ad.svg\": \"webpack/8b57115ccc85e4e62982b88bfc2707ad.67caa5c92b5d.svg\", \"webpack/8ba445564354b5a50ee45923a96b5976.svg\": \"webpack/8ba445564354b5a50ee45923a96b5976.cbb8cad96892.svg\", \"webpack/8bcfbe076848820aee451ada6158f661.svg\": \"webpack/8bcfbe076848820aee451ada6158f661.17fde98dc190.svg\", \"webpack/8d74d250bf43786fbdb13df81ecbd173.svg\": \"webpack/8d74d250bf43786fbdb13df81ecbd173.843b144508ca.svg\", \"webpack/8f91389082409390d04b1c00ce1b5659.svg\": \"webpack/8f91389082409390d04b1c00ce1b5659.e217c9692a72.svg\", \"webpack/8fac2257affbe871cd1a280a3b3c6ade.svg\": \"webpack/8fac2257affbe871cd1a280a3b3c6ade.843af0b4e351.svg\", \"webpack/8fb25a94e82f9dd973a9d5efed6d6a9a.svg\": \"webpack/8fb25a94e82f9dd973a9d5efed6d6a9a.947f5e983900.svg\", \"webpack/9.bundle.js\": \"webpack/9.bundle.bfee766ac2ff.js\", \"webpack/91492e2fe8396599cbf23b4183eba92d.svg\": \"webpack/91492e2fe8396599cbf23b4183eba92d.02b2c913f1eb.svg\", \"webpack/92c308f88e708d44145bb34fe352558c.svg\": \"webpack/92c308f88e708d44145bb34fe352558c.aa5445f190b3.svg\", \"webpack/92ca0778778f4ff997bc8d72cb8c414b.svg\": \"webpack/92ca0778778f4ff997bc8d72cb8c414b.47449c8565db.svg\", \"webpack/92fc1b28793c9cc29d78a27e6e02ff92.svg\": \"webpack/92fc1b28793c9cc29d78a27e6e02ff92.72ba2eaff229.svg\", \"webpack/94e4953063c57b8da28756b9cebd7943.svg\": \"webpack/94e4953063c57b8da28756b9cebd7943.a0c8a6c11725.svg\", \"webpack/96c53dbca5beeec0f29aac1f8b9bf5b9.svg\": \"webpack/96c53dbca5beeec0f29aac1f8b9bf5b9.ecf46cbd51fc.svg\", \"webpack/96e44ee6c1f7a8665659b103a1fd7e78.png\": \"webpack/96e44ee6c1f7a8665659b103a1fd7e78.0964f94ba200.png\", \"webpack/99059f82ffa20fbd993b5bef60b739f4.svg\": \"webpack/99059f82ffa20fbd993b5bef60b739f4.e099dd485274.svg\", \"webpack/9b0f6b1792a19a0feafa6d70cb3483b4.svg\": \"webpack/9b0f6b1792a19a0feafa6d70cb3483b4.504fd618166c.svg\", \"webpack/9b77fde4591c02e852d3eb0b7959f884.svg\": \"webpack/9b77fde4591c02e852d3eb0b7959f884.bcccfbc1b8dc.svg\", \"webpack/9c1401f18673ff3863fe73b9b095dc70.svg\": \"webpack/9c1401f18673ff3863fe73b9b095dc70.08efba372c11.svg\", \"webpack/9ca2ab5c93f4b2d0ae8c37131140401f.svg\": \"webpack/9ca2ab5c93f4b2d0ae8c37131140401f.35ec3ba85d56.svg\", \"webpack/9dcc8df3a297fb6398d4e021b38e1b2f.svg\": \"webpack/9dcc8df3a297fb6398d4e021b38e1b2f.6b6c94c27ffb.svg\", \"webpack/9e9a342dd4db350bcbea98f9979de79c.svg\": \"webpack/9e9a342dd4db350bcbea98f9979de79c.e827e3f043c6.svg\", \"webpack/a08eeec659e411b55fe3e90675f39dbc.svg\": \"webpack/a08eeec659e411b55fe3e90675f39dbc.fedf38993a32.svg\", \"webpack/a14cebf7f5911b5c16234181892407d4.svg\": \"webpack/a14cebf7f5911b5c16234181892407d4.ae2031f47aef.svg\", \"webpack/a225e94e139f473849c6957818df4938.svg\": \"webpack/a225e94e139f473849c6957818df4938.b3daab8a4527.svg\", \"webpack/a25d5e3cca471114c4193f0d0dc42a42.svg\": \"webpack/a25d5e3cca471114c4193f0d0dc42a42.d7ace7309670.svg\", \"webpack/a2b84c56e20e193ec03b259eac440c53.svg\": \"webpack/a2b84c56e20e193ec03b259eac440c53.6a64cc60be69.svg\", \"webpack/a2c9b1edd6c6dc2867df1c992221a66f.svg\": \"webpack/a2c9b1edd6c6dc2867df1c992221a66f.7427699e8737.svg\", \"webpack/a3539850fe64d54b98a61a1f9ad866fb.svg\": \"webpack/a3539850fe64d54b98a61a1f9ad866fb.266a20c46410.svg\", \"webpack/a4517db70bb984c2e792e6a0951c3d48.svg\": \"webpack/a4517db70bb984c2e792e6a0951c3d48.2aa2da45a13f.svg\", \"webpack/a72c1192ad990c82d89c465d4f47dfac.svg\": \"webpack/a72c1192ad990c82d89c465d4f47dfac.db572ccabfe9.svg\", \"webpack/a7faaf19a70802aa527fa30e52a02e92.svg\": \"webpack/a7faaf19a70802aa527fa30e52a02e92.b4ba59fbf0e4.svg\", \"webpack/a828e1b9e944ec4a552c5ad9898a301e.svg\": \"webpack/a828e1b9e944ec4a552c5ad9898a301e.bb8919944342.svg\", \"webpack/a96148123dc5d440b97113446d8599cb.svg\": \"webpack/a96148123dc5d440b97113446d8599cb.8d1049a98e5d.svg\", \"webpack/aa581515c86f4d82df4ebeabeb32353b.svg\": \"webpack/aa581515c86f4d82df4ebeabeb32353b.9b4b851ff574.svg\", \"webpack/aa75030b90c14601563bdfa7a8cc46b4.svg\": \"webpack/aa75030b90c14601563bdfa7a8cc46b4.c5551b4846b1.svg\", \"webpack/ad341d569e801c02a377ae4e3ef268f1.svg\": \"webpack/ad341d569e801c02a377ae4e3ef268f1.e8b985cd4da0.svg\", \"webpack/aec5504dae43630a4b8074c1f21d81c7.svg\": \"webpack/aec5504dae43630a4b8074c1f21d81c7.9cda6fe94a51.svg\", \"webpack/aed051f15b1dff0c24fe85d5d91fdb4a.svg\": \"webpack/aed051f15b1dff0c24fe85d5d91fdb4a.4b49766db6ab.svg\", \"webpack/aed5320d3829ef29f448a0721ff675d6.svg\": \"webpack/aed5320d3829ef29f448a0721ff675d6.2deafd3bf3cb.svg\", \"webpack/b06ec8133b02a3a76de5de777f0fb274.svg\": \"webpack/b06ec8133b02a3a76de5de777f0fb274.6e016b0548d3.svg\", \"webpack/b256ab9a428a3816bee80c1e59b5c1e5.svg\": \"webpack/b256ab9a428a3816bee80c1e59b5c1e5.848e894f2286.svg\", \"webpack/b47ed95c7eb9549cf5d741a15ded2500.svg\": \"webpack/b47ed95c7eb9549cf5d741a15ded2500.f4d40aab6640.svg\", \"webpack/b6f848e3ce146a3cd60f49a011a414c1.svg\": \"webpack/b6f848e3ce146a3cd60f49a011a414c1.88b36e90d9ad.svg\", \"webpack/b8d15a49aca34050f3e817d65622cdfb.svg\": \"webpack/b8d15a49aca34050f3e817d65622cdfb.d11459a74dd1.svg\", \"webpack/ba1f04b76cb23ea2a741e6b6588ed497.svg\": \"webpack/ba1f04b76cb23ea2a741e6b6588ed497.df725f2b14cc.svg\", \"webpack/babf1fcd165c84b2d18700e2ec816990.svg\": \"webpack/babf1fcd165c84b2d18700e2ec816990.143d006d15c9.svg\", \"webpack/bafa490a35de6c52b429e792d7384cfb.svg\": \"webpack/bafa490a35de6c52b429e792d7384cfb.b7652abd32ae.svg\", \"webpack/bca6409234193e5c67bd4e3cf9477973.svg\": \"webpack/bca6409234193e5c67bd4e3cf9477973.9108b2e8d566.svg\", \"webpack/bf02ff1143131e8fc9042da51d1b21d2.svg\": \"webpack/bf02ff1143131e8fc9042da51d1b21d2.ea7a0323140c.svg\", \"webpack/bf03ae098a032b0548d306a6255bce36.svg\": \"webpack/bf03ae098a032b0548d306a6255bce36.d3240ab80df6.svg\", \"webpack/bf504f1b81a4f8ff373e64149c32bb49.svg\": \"webpack/bf504f1b81a4f8ff373e64149c32bb49.d591368fa12d.svg\", \"webpack/boot.bundle.js\": \"webpack/boot.bundle.29013e435880.js\", \"webpack/boot_manifest.json\": \"webpack/boot_manifest.f88ee88aa6ac.json\", \"webpack/c080d18c2ffb3255e7eba8195c82d013.svg\": \"webpack/c080d18c2ffb3255e7eba8195c82d013.95b11986fd18.svg\", \"webpack/c08442d1b769897772be5c85365d93f7.svg\": \"webpack/c08442d1b769897772be5c85365d93f7.b9e9de65cbd6.svg\", \"webpack/c1305e5f6ee500f9e3f45cb4acad7891.svg\": \"webpack/c1305e5f6ee500f9e3f45cb4acad7891.79d01dd4357e.svg\", \"webpack/c223c52b75182640446068a081bbf38a.svg\": \"webpack/c223c52b75182640446068a081bbf38a.77bf7cbdf5c5.svg\", \"webpack/c261b2d22d66567d62c3458b7c5ad9d9.svg\": \"webpack/c261b2d22d66567d62c3458b7c5ad9d9.19e4ed12dbe4.svg\", \"webpack/c33d78568cc8bdc3aeee0727eecb717b.svg\": \"webpack/c33d78568cc8bdc3aeee0727eecb717b.8a257a06b233.svg\", \"webpack/c38623ad65821359e9ad8aedb1ebed42.svg\": \"webpack/c38623ad65821359e9ad8aedb1ebed42.280816062b9f.svg\", \"webpack/c5774ae96dc49cdfbeb1e36210f6d021.svg\": \"webpack/c5774ae96dc49cdfbeb1e36210f6d021.7b03391f2431.svg\", \"webpack/c801235e908e3c6eeeef05e7b86ae325.svg\": \"webpack/c801235e908e3c6eeeef05e7b86ae325.047084028e9b.svg\", \"webpack/c866ab186518480b123ad124339e6655.svg\": \"webpack/c866ab186518480b123ad124339e6655.d27e15ae5c13.svg\", \"webpack/c8fe28fd90fb3e93864a4788b9a80252.svg\": \"webpack/c8fe28fd90fb3e93864a4788b9a80252.4d35dd04c519.svg\", \"webpack/c9d9764f9bf5ddef3fdc272ea2db5185.svg\": \"webpack/c9d9764f9bf5ddef3fdc272ea2db5185.a2aa01cfd348.svg\", \"webpack/c9de36772cf442854fd88a41c5421a0f.svg\": \"webpack/c9de36772cf442854fd88a41c5421a0f.4c4e7226426c.svg\", \"webpack/cd9cf9760807fe07bc9f312c307ec15b.svg\": \"webpack/cd9cf9760807fe07bc9f312c307ec15b.61170f556b9e.svg\", \"webpack/ce3731c080c760b99d0490699a432ad7.svg\": \"webpack/ce3731c080c760b99d0490699a432ad7.450ecdcb02a3.svg\", \"webpack/ce7a14b633c101f3216937bfb7a76498.svg\": \"webpack/ce7a14b633c101f3216937bfb7a76498.cca56a6312b3.svg\", \"webpack/class_grader.bundle.js\": \"webpack/class_grader.bundle.79346b7ab043.js\", \"webpack/class_grader_manifest.json\": \"webpack/class_grader_manifest.76dbfc319c54.json\", \"webpack/d17ffa8cb1bde9b0fd66cb119b61c436.svg\": \"webpack/d17ffa8cb1bde9b0fd66cb119b61c436.a40c5d02af8b.svg\", \"webpack/d354d78c86cd7f26121ceab18ea881ae.svg\": \"webpack/d354d78c86cd7f26121ceab18ea881ae.05aaf46e7fd8.svg\", \"webpack/d3a27d7a953808f39674b868126a2bf2.svg\": \"webpack/d3a27d7a953808f39674b868126a2bf2.2cbbba3c02c5.svg\", \"webpack/d3d185ff24b69a5328822da8bd45f6b6.svg\": \"webpack/d3d185ff24b69a5328822da8bd45f6b6.3ce719461d2e.svg\", \"webpack/d43909c6848b3323766d4da649cbdadb.svg\": \"webpack/d43909c6848b3323766d4da649cbdadb.64445f5c6cc4.svg\", \"webpack/d58ef34b0a9c0ddcd551c4863bf992cd.svg\": \"webpack/d58ef34b0a9c0ddcd551c4863bf992cd.646f8fa22e69.svg\", \"webpack/d5c0dd065c20229b8d311f4514c97685.svg\": \"webpack/d5c0dd065c20229b8d311f4514c97685.e62080506d80.svg\", \"webpack/d5dd243997b244690d05d238dfab6a99.svg\": \"webpack/d5dd243997b244690d05d238dfab6a99.fa44b16a9d2c.svg\", \"webpack/d74169a5f6a8f4cf55815d0fbc7c3247.svg\": \"webpack/d74169a5f6a8f4cf55815d0fbc7c3247.b4bebb65fe6f.svg\", \"webpack/d7654c49e72d80eb1782ab7bbb6edf97.svg\": \"webpack/d7654c49e72d80eb1782ab7bbb6edf97.7ed0bc939222.svg\", \"webpack/d823aee12ba1f6757e794472f414705d.svg\": \"webpack/d823aee12ba1f6757e794472f414705d.e7e596ec9911.svg\", \"webpack/da41cefd245f291a389d332586ffb00a.svg\": \"webpack/da41cefd245f291a389d332586ffb00a.971c516281ac.svg\", \"webpack/dafd7f24b0cdc843deac615ccfbe655c.svg\": \"webpack/dafd7f24b0cdc843deac615ccfbe655c.8d2a07c20187.svg\", \"webpack/dd677e0946894a7ef9225b715d165857.svg\": \"webpack/dd677e0946894a7ef9225b715d165857.b640d7d2824e.svg\", \"webpack/de8a7fcbd6b3f80e5c0a7f84034e6c6f.svg\": \"webpack/de8a7fcbd6b3f80e5c0a7f84034e6c6f.fc3ab89af504.svg\", \"webpack/df01f43a02f40d327cd7736efd63a464.svg\": \"webpack/df01f43a02f40d327cd7736efd63a464.1357d262dbaa.svg\", \"webpack/e1bf231f00925916937acf3e750bf1f5.svg\": \"webpack/e1bf231f00925916937acf3e750bf1f5.8a150fd5f7bf.svg\", \"webpack/e1d568f24975d91ad0dca2e9edf7ae93.svg\": \"webpack/e1d568f24975d91ad0dca2e9edf7ae93.1f78449a3869.svg\", \"webpack/e485f6247fe279e2bcd21ecbafc0e089.svg\": \"webpack/e485f6247fe279e2bcd21ecbafc0e089.4632d05b1caf.svg\", \"webpack/e4b7da61fef4d1127d36444510af3e86.svg\": \"webpack/e4b7da61fef4d1127d36444510af3e86.3d3ffdb308d3.svg\", \"webpack/e52df2a0b412bd9533e3219aa76763f1.svg\": \"webpack/e52df2a0b412bd9533e3219aa76763f1.3040afca65a7.svg\", \"webpack/e766a5dbcde045b1ef7760f2f00b8d20.svg\": \"webpack/e766a5dbcde045b1ef7760f2f00b8d20.2bfb5a9d7ba3.svg\", \"webpack/e7a49bd2231e0d1adca5e312f997fa10.svg\": \"webpack/e7a49bd2231e0d1adca5e312f997fa10.232278ad91c1.svg\", \"webpack/e849df2da7446754af8d2a346868530a.svg\": \"webpack/e849df2da7446754af8d2a346868530a.75a2ec21b88e.svg\", \"webpack/e904286581af409ad9d9d33cc738dd9a.svg\": \"webpack/e904286581af409ad9d9d33cc738dd9a.c1c1d1c3dd00.svg\", \"webpack/e9e47efe4efb28526f6ab8d6166573db.svg\": \"webpack/e9e47efe4efb28526f6ab8d6166573db.6f14f74fee3d.svg\", \"webpack/ea125891ace683c5c17ffce47fcddcbc.svg\": \"webpack/ea125891ace683c5c17ffce47fcddcbc.98249e798d66.svg\", \"webpack/eb76d547168b528cd131544b7d8bf5f9.svg\": \"webpack/eb76d547168b528cd131544b7d8bf5f9.aace2b3a2cc1.svg\", \"webpack/edac3fc262b8327fed4118bb4cd460f2.svg\": \"webpack/edac3fc262b8327fed4118bb4cd460f2.8a2fac984fa8.svg\", \"webpack/ee64316764c04649474a98e17804f690.svg\": \"webpack/ee64316764c04649474a98e17804f690.cec354e0e8d9.svg\", \"webpack/ee6c138b0a3b86b856db82725f53aed4.svg\": \"webpack/ee6c138b0a3b86b856db82725f53aed4.8a7b44de5ec7.svg\", \"webpack/efc5927a9e1d2dc665119181a161c46a.png\": \"webpack/efc5927a9e1d2dc665119181a161c46a.b7d0eba3888c.png\", \"webpack/f1f3f3f50a185baa492793cdea961149.svg\": \"webpack/f1f3f3f50a185baa492793cdea961149.948771555bfa.svg\", \"webpack/f284bd22230242f5f625617b396d4ece.svg\": \"webpack/f284bd22230242f5f625617b396d4ece.5b54b57cd74c.svg\", \"webpack/f2c83994d7905cc7d6b681b86abf21fc.svg\": \"webpack/f2c83994d7905cc7d6b681b86abf21fc.9e05ea693029.svg\", \"webpack/f4539a810574a30b9127f0de7e0c7229.svg\": \"webpack/f4539a810574a30b9127f0de7e0c7229.d682bd7b1e57.svg\", \"webpack/f53526706c8b5d9d534ba34075e5e31a.svg\": \"webpack/f53526706c8b5d9d534ba34075e5e31a.d257181933b3.svg\", \"webpack/f9b8495208043d9814b631ef6a3e6842.svg\": \"webpack/f9b8495208043d9814b631ef6a3e6842.ae6e334e2bfb.svg\", \"webpack/fa134b132a13ae81628874f5149e31f1.svg\": \"webpack/fa134b132a13ae81628874f5149e31f1.4d25528b9ce5.svg\", \"webpack/fa714c9e7d64e009f59c9d434d3599d5.svg\": \"webpack/fa714c9e7d64e009f59c9d434d3599d5.cffaac54dc38.svg\", \"webpack/fb73e566e4d69ab2bbc401d5884631f4.svg\": \"webpack/fb73e566e4d69ab2bbc401d5884631f4.666532f56e84.svg\", \"webpack/fc29920522d79cc81358b8f489745354.svg\": \"webpack/fc29920522d79cc81358b8f489745354.111de8117caa.svg\", \"webpack/fdf90644273684ee755054c23609bb1b.svg\": \"webpack/fdf90644273684ee755054c23609bb1b.b1ebb959fc26.svg\", \"webpack/fdfa7a11e08573b002fb527761b9af39.svg\": \"webpack/fdfa7a11e08573b002fb527761b9af39.3e12c68895d2.svg\", \"webpack/fe47f4a42d951ed00fd99121182d879c.svg\": \"webpack/fe47f4a42d951ed00fd99121182d879c.49cd3f265f89.svg\", \"webpack/login.bundle.js\": \"webpack/login.bundle.b10f548e9899.js\", \"webpack/login_manifest.json\": \"webpack/login_manifest.cd67c262f574.json\", \"webpack/monitoring.bundle.js\": \"webpack/monitoring.bundle.967f543b0271.js\", \"webpack/monitoring_manifest.json\": \"webpack/monitoring_manifest.4bef9d4b41c9.json\", \"webpack/vendors~boot~class_grader~login~monitoring.bundle.js\": \"webpack/vendors~boot~class_grader~login~monitoring.bundle.833e69ee253b.js\", \"webpack/vendors~boot~login~monitoring.bundle.js\": \"webpack/vendors~boot~login~monitoring.bundle.c31f8f10764c.js\", \"webpack/vendors~class_grader.bundle.js\": \"webpack/vendors~class_grader.bundle.7ff418878c14.js\", \"robots.txt\": \"robots.f71d20196d4c.txt\", \"test_cocalc.html\": \"test_cocalc.b1ec4c386cdb.html\"};\n",
      "\n",
      "    window.config = window.config || {};\n",
      "    window.config.staticUrl = (path) => {\n",
      "        const hash = manifest[path] || path;\n",
      "        return `${urlPrefix}${hash}`;\n",
      "    };\n",
      "\n",
      "    // Webpack dynamic url for S3 assets (images, mp3, css, etc.)\n",
      "    window.__webpack_public_path__ = `${urlPrefix}webpack/`;\n",
      "</script>\n",
      "<link href=\"https://cdnjs.cloudflare.com/ajax/libs/cookieconsent2/3.0.3/cookieconsent.min.css\" rel=\"stylesheet\" type=\"text/css\"/>\n",
      "</head>\n",
      "<body class=\"m0\">\n",
      "<div id=\"app\"></div>\n",
      "</body>\n",
      "<!-- set context from django to react  -->\n",
      "<script type=\"text/javascript\">\n",
      "    window.context = {\n",
      "      email: \"\",\n",
      "      enablePassword: 'true',\n",
      "      enableGoogle: 'true',\n",
      "      enableSSO: '',\n",
      "      googleClientId: \"775566971269-u0eu4hjevrjvi7dpb2676eaam29h904t.apps.googleusercontent.com\",\n",
      "      refreshToken: '',\n",
      "      next: \"app/courses/2116/sections/8360/classes/61371/review\",\n",
      "      masquerade: \"\",\n",
      "      errorMessage: \"\",\n",
      "      displayName: \"\",\n",
      "      resetToken: \"\",\n",
      "      forumUrl: \"https://forum.minerva.edu\",\n",
      "      infoEmail: \"info@minerva.edu\",\n",
      "    };\n",
      "  </script>\n",
      "<script crossorigin=\"anonymous\" src=\"https://assets.minerva.edu/static/webpack/vendors~boot~class_grader~login~monitoring.bundle.833e69ee253b.js?v=1\"></script>\n",
      "<script crossorigin=\"anonymous\" src=\"https://assets.minerva.edu/static/webpack/vendors~boot~login~monitoring.bundle.c31f8f10764c.js?v=1\"></script>\n",
      "<script crossorigin=\"anonymous\" src=\"https://assets.minerva.edu/static/webpack/login.bundle.b10f548e9899.js?v=1\"></script>\n",
      "</html>\n",
      "\n"
     ]
    }
   ],
   "source": [
    "from bs4 import BeautifulSoup\n",
    "import requests\n",
    "\n",
    "html_text= requests.get('https://forum.minerva.edu/app/courses/2116/sections/8360/classes/61371/review').text\n",
    "soup = BeautifulSoup(html_text,'lxml')\n",
    "polls = soup.find_all('h3', class_=\"flex-auto\")\n",
    "print(soup)"
   ]
  },
  {
   "cell_type": "code",
   "execution_count": 2,
   "id": "cd2f8553",
   "metadata": {},
   "outputs": [],
   "source": [
    "class HashTable:\n",
    "    '''\n",
    "    This class represents an implementation of a hash table. It includes all the attributes and methods needed to \n",
    "    work with the hash table.\n",
    "    '''\n",
    "    def __init__(self, m, k):\n",
    "        \"\"\"\n",
    "        Creates the hash table instance\n",
    "        \n",
    "        Parameters\n",
    "        ----------\n",
    "        m : int\n",
    "            The number of characters in the input string\n",
    "        hash_table : list\n",
    "            A list of nodes that carries the key and value(s) \n",
    "        q : int\n",
    "            A number that we take the modulo of the hash value by to get the index in the hash table\n",
    "        k : int\n",
    "            the length of te substring to be checked between the two submissions\n",
    "        \"\"\"\n",
    "        self.m = self.get_prime(int(m*1.2))\n",
    "        self.hash_table = [None for _ in range(self.m)]\n",
    "        self.q = self.m\n",
    "        self.k = k\n",
    "        self.base = 7\n",
    "        \n",
    "    \n",
    "    def get_prime(self, n):\n",
    "        \"\"\"\n",
    "        Gets the smallest prime number greater than a given number\n",
    "        \n",
    "        Parameters\n",
    "        ----------\n",
    "        n : int\n",
    "            The number we wish to find the prime number just above it\n",
    "            \n",
    "        Returns\n",
    "        -------\n",
    "        min_prime : int\n",
    "            The smallest integer above the given number\n",
    "        \"\"\"\n",
    "        np=[]\n",
    "        isprime=[]\n",
    "        for i in range (n+1,n+200):\n",
    "            np.append(i)\n",
    "        for j in np:\n",
    "            val_is_prime = True\n",
    "            for x in range(2,j-1):\n",
    "                if j % x == 0:\n",
    "                    val_is_prime = False\n",
    "                    break\n",
    "            if val_is_prime:\n",
    "                isprime.append(j)\n",
    "               \n",
    "        min_prime = min(isprime)\n",
    "        \n",
    "        return min_prime\n",
    "         \n",
    "    def get_index(self, key):\n",
    "        \"\"\"\n",
    "        Gets the index in the hash table of a hash value\n",
    "        \n",
    "        Parameters\n",
    "        ----------\n",
    "        key : int\n",
    "            The hash value we wish to find the index of to be assigned in the hash table\n",
    "        Returns\n",
    "        -------\n",
    "        int\n",
    "            The index in the hash table\n",
    "        \"\"\"\n",
    "        return key % self.m  # Take the module by the size of the table\n",
    "    \n",
    "    def to_int(self, string):\n",
    "        \"\"\"\n",
    "        Calculates and returns the integer representation of a string\n",
    "        \n",
    "        Parameters\n",
    "        ----------\n",
    "        string : string\n",
    "            The string whose int representation is to be calculated\n",
    "        Returns\n",
    "        -------\n",
    "        total : int\n",
    "            The integer representation of the given string\n",
    "        \"\"\"\n",
    "        total = 0\n",
    "        len_str = len(string)\n",
    "        # For every char in the string, get the ascii value and multiply it by the base to the power of where it is located\n",
    "        # and add it to the total\n",
    "        for i in string:\n",
    "            total += ord(i)*self.base**(len_str-1)\n",
    "            len_str -= 1\n",
    "\n",
    "        return total\n",
    "\n",
    "    def to_hash(self, string):\n",
    "        \"\"\"\n",
    "        Calculates the hash value of a string\n",
    "        \n",
    "        Parameters\n",
    "        ----------\n",
    "        string : string\n",
    "            The string whose hash value is to be calculated\n",
    "        Returns\n",
    "        -------\n",
    "        hash_value : int\n",
    "            The hash value of the string\n",
    "        \"\"\"\n",
    "        num = self.to_int(string)  # Get the integer representation of the string\n",
    "        hash_value = num % self.q  # Take the module of the integer representation by a certain pre determnined prime number\n",
    "        \n",
    "        return hash_value\n",
    "    \n",
    "    def hash_djb2(self, string):\n",
    "        \"\"\"\n",
    "        Calculates the djb2 hash value of a string\n",
    "        \n",
    "        Parameters\n",
    "        ----------\n",
    "        string : string\n",
    "            The string whose djb2 hash value is to be calculated\n",
    "        Returns\n",
    "        -------\n",
    "        hash_value : int\n",
    "            The djb2 hash value of the string\n",
    "        \"\"\"\n",
    "        hsh = 5381  # Start by setting the hash value to 5381\n",
    "        for x in string:\n",
    "            # Multiply the hsh value by 33 and add the ascii code of the char. << 5 is the same thing as multiplying by 2^5\n",
    "            # and when we add hsh, it's like multplying by 33. Bitwise shift is done instead of directly multiplying by 33\n",
    "            # because it is much faster since it is a lower level operations\n",
    "            hsh = (( hsh << 5) + hsh) + ord(x)  \n",
    "            \n",
    "        hash_value = hsh & 0xFFFFFFFF\n",
    "            \n",
    "        return hash_value\n",
    "    \n",
    "    def sdbm(self, string):\n",
    "        \"\"\"\n",
    "        Calculates the sdbm hash value of a string\n",
    "        \n",
    "        Parameters\n",
    "        ----------\n",
    "        string : string\n",
    "            The string whose sdbm hash value is to be calculated\n",
    "        Returns\n",
    "        -------\n",
    "        hash_value : int\n",
    "            The sdbm hash value of the string\n",
    "        \"\"\"\n",
    "        hsh = 0  # Initially set the hash value equal to 0\n",
    "        for plain_chr in string:\n",
    "            # << 6 means multiply by 2^6 and << 12 means multiply by 2^12. This is preferred because it's much faster\n",
    "            hsh = ord(plain_chr) + (hsh << 6) + (hsh << 16) - hsh\n",
    "            \n",
    "        return hsh\n",
    "    \n",
    "    def create_table_without_rh(self, wordbank):\n",
    "        \"\"\"\n",
    "        Creates a hash table by without using rolling hashing. It calculates the hash value of each substring from scratch\n",
    "        \n",
    "        Parameters\n",
    "        ----------\n",
    "        wordbank : string\n",
    "            The string we use to create the hash table\n",
    "        \"\"\"\n",
    "        \n",
    "        for i in range(len(wordbank)-self.k+1):\n",
    "            # Iterate through the string and create a substring of length k\n",
    "            substring = wordbank[i:i+self.k]\n",
    "\n",
    "            hash_value = self.to_hash(substring)  # Calculate the hash value of each substring\n",
    "            self.chained_hash_insert(hash_value, i, substring)  # Insert it into the hash table\n",
    "\n",
    "    def create_table_with_rh(self, wordbank):\n",
    "        \"\"\"\n",
    "        Creates a hash table by using rolling hashing\n",
    "        \n",
    "        Parameters\n",
    "        ----------\n",
    "        wordbank : string\n",
    "            The string we use to create the hash table\n",
    "        \"\"\"\n",
    "        for i in range(len(wordbank)-self.k+1):\n",
    "            # Iterate through the string and create a substring of length k\n",
    "            substring = wordbank[i:i+self.k]\n",
    "            if i == 0:  # If it's the first substring, calculate the hash value from scratch\n",
    "                hash_value = self.to_hash(substring)\n",
    "                self.chained_hash_insert(hash_value, i, substring) # Insert it into the hash table\n",
    "            else: \n",
    "                # For the rest of the subsequent substrings, use module arithmetic and use rolling hashing to calculate \n",
    "                # hash value of the subsequent substrings and insert it into the hash table\n",
    "                hash_value = (((hash_value - ord(wordbank[i-1])*self.base**(self.k-1) % self.q)*self.base) % self.q + ord(wordbank[i+self.k-1])) % self.q\n",
    "                self.chained_hash_insert(hash_value, i, substring)\n",
    "\n",
    "    def create_table_djb2(self, wordbank):\n",
    "        \"\"\"\n",
    "        Creates a hash table by using the djb2 algorithm\n",
    "        \n",
    "        Parameters\n",
    "        ----------\n",
    "        wordbank : string\n",
    "            The string we use to create the hash table\n",
    "        \"\"\"\n",
    "        for i in range(len(wordbank)-self.k+1):\n",
    "            substring = wordbank[i:i+self.k]  # Iterate through the string and create a substring of length k\n",
    "            \n",
    "            hash_value = self.hash_djb2(substring)  # Calculate the hash value using the djb2 algorithm\n",
    "            self.chained_hash_insert(hash_value, i, substring)  # Insert it into the hash table\n",
    "        \n",
    "    def create_table_sdbm(self, wordbank):\n",
    "        \"\"\"\n",
    "        Creates a hash table by using the sdbm algorithm\n",
    "        \n",
    "        Parameters\n",
    "        ----------\n",
    "        wordbank : string\n",
    "            The string we use to create the hash table\n",
    "        \"\"\"\n",
    "        for i in range(len(wordbank)-self.k+1):\n",
    "            substring = wordbank[i:i+self.k] # Iterate through the string and create a substring of length k\n",
    "\n",
    "            hash_value = self.sdbm(substring) # Calculate the hash value using the djb2 algorithm\n",
    "            self.chained_hash_insert(hash_value, i, substring) # Insert it into the hash table\n",
    "    \n",
    "    \n",
    "    def chained_hash_insert(self, key, value, substring):\n",
    "        \"\"\"\n",
    "        Inserts the nodes into the hash table\n",
    "        \n",
    "        Parameters\n",
    "        ----------\n",
    "        key : int\n",
    "            The hash value we use as our key in the hash table\n",
    "        value : int\n",
    "            The starting index of the substring we have the hash value of\n",
    "        substring : string\n",
    "            The substring we use to compare in case of a possible collision as a last resort\n",
    "        \"\"\"\n",
    "        #create the node to store our key and value\n",
    "        node = HashTableNode(key, value, substring)\n",
    "        #find the hashed key for the table\n",
    "        hashed_key = self.get_index(key)\n",
    "        if self.hash_table[hashed_key] is not None:\n",
    "            #if there already exists another node, add the current node on top\n",
    "            node.nextNode = self.hash_table[hashed_key]\n",
    "        self.hash_table[hashed_key] = node\n",
    "        \n",
    "        \n",
    "    def chained_hash_search(self, key, substring):\n",
    "        \"\"\"\n",
    "        Searches the hash table for a given key and substring\n",
    "        \n",
    "        Parameters\n",
    "        ----------\n",
    "        key : int\n",
    "            The hash value we use as our key in the hash table\n",
    "        value : int\n",
    "            The starting index of the substring we have the hash value of\n",
    "        substring : string\n",
    "            The substring we use to compare in case of a possible collision as a last resort\n",
    "        \"\"\"\n",
    "        #find the key after hashing\n",
    "        hashed_key = self.get_index(key)\n",
    "        #start traversing from this node\n",
    "        cur = self.hash_table[hashed_key]\n",
    "        #traversing the list to find the value\n",
    "        lst = []\n",
    "        while cur is not None:\n",
    "            if cur.key == key:\n",
    "                if cur.substring == substring:\n",
    "                    lst.append((cur.value, cur.substring))\n",
    "            cur = cur.nextNode\n",
    "        if len(lst) != 0:\n",
    "            return lst\n",
    "        else:\n",
    "            return False\n",
    "    \n",
    "    \n",
    "    def chained_hash_delete(self, key):\n",
    "        \"\"\"\n",
    "        Deletes a given key from the hash table\n",
    "        \n",
    "        Parameters\n",
    "        ----------\n",
    "        key : int\n",
    "            The hash value we use as our key in the hash table\n",
    "        \"\"\"\n",
    "        hashed_key = self.get_index(key)\n",
    "        prev = None\n",
    "        cur = self.hash_table[hashed_key]\n",
    "        while cur is not None:\n",
    "            if cur.key == key:\n",
    "                #if the value is not at the top of the linked list update the previous node's value to be the node's next node\n",
    "                if prev is not None:\n",
    "                    prev.nextNode = cur.nextNode\n",
    "                #if the value is at the top of the linked list we simply need to update the top to be the next node\n",
    "                else:\n",
    "                    self.hash_table[hashed_key] = cur.nextNode\n",
    "                return\n",
    "            prev = cur\n",
    "            cur = cur.nextNode\n",
    "        raise Exception(\"Key-value pair not found!\")\n",
    "        \n",
    "    def get_load_factor(self):\n",
    "        \"\"\"\n",
    "        Calculates and returns the load factor of the hash table\n",
    "        \n",
    "        Returns\n",
    "        -------\n",
    "        load_factor : float\n",
    "            The load factor of the hash tablke\n",
    "        \"\"\"\n",
    "        entries = 0\n",
    "        # Iterate through the hash table and get the number of entries that are not None\n",
    "        for i in self.hash_table:\n",
    "            if i is not None:\n",
    "                entries += 1 \n",
    "        \n",
    "        load_factor = entries/self.m  # Divide the number of entries by the table size\n",
    "        \n",
    "        return load_factor\n",
    "    \n",
    "    \n",
    "class HashTableNode:\n",
    "    '''\n",
    "    This hash table node stores the key and value pairs.\n",
    "    Additionally, it has the attribute next and prev\n",
    "    for us to traverse the linked list and go to the\n",
    "    next node or previous node, respectively.\n",
    "    '''\n",
    "    def __init__(self, key, value, substring, nextNode = None, prev = None):\n",
    "        \"\"\"\n",
    "        Creates the hash table node instance\n",
    "        \n",
    "        Parameters\n",
    "        ----------\n",
    "        key : int\n",
    "            The hash value of a substring to be stored\n",
    "        value : int\n",
    "            The starting index of the substring\n",
    "        substring : string\n",
    "            The substring we calculated the hash value of. We only store this and use it to compare only as a last resort if the hash values of two strings are equal and we need to be sure to if they are the same\n",
    "        nextNode : HashTableNode\n",
    "            The node that is next to the current node in the linked list chain\n",
    "        prev : HashTableNode\n",
    "            The node that is previous to the current node in the linked list chain\n",
    "        \"\"\"\n",
    "        self.key = key\n",
    "        self.value = value\n",
    "        self.substring = substring  \n",
    "        self.nextNode = nextNode\n",
    "        self.prev = prev\n",
    "        \n",
    "    def __str__(self):\n",
    "        return f'{self.key}, {self.value}'\n",
    "def hash_djb2(string):\n",
    "    \"\"\"\n",
    "    Calculates the djb2 hash value of a string\n",
    "\n",
    "    Parameters\n",
    "    ----------\n",
    "    string : string\n",
    "        The string whose djb2 hash value is to be calculated\n",
    "    Returns\n",
    "    -------\n",
    "    hash_value : int\n",
    "        The djb2 hash value of the string\n",
    "    \"\"\"\n",
    "    hsh = 5381  # Start by setting the hash value to 5381\n",
    "    for x in string:\n",
    "        # Multiply the hsh value by 33 and add the ascii code of the char. << 5 is the same thing as multiplying by 2^5\n",
    "        # and when we add hsh, it's like multplying by 33. Bitwise shift is done instead of directly multiplying by 33\n",
    "        # because it is much faster since it is a lower level operations\n",
    "        hsh = (( hsh << 5) + hsh) + ord(x)  \n",
    "\n",
    "    hash_value = hsh & 0xFFFFFFFF\n",
    "\n",
    "    return hash_value\n",
    "\n",
    "def sdbm(string):\n",
    "    \"\"\"\n",
    "    Calculates the sdbm hash value of a string\n",
    "\n",
    "    Parameters\n",
    "    ----------\n",
    "    string : string\n",
    "        The string whose sdbm hash value is to be calculated\n",
    "    Returns\n",
    "    -------\n",
    "    hash_value : int\n",
    "        The sdbm hash value of the string\n",
    "    \"\"\"\n",
    "    hsh = 0  # Initially set the hash value equal to 0\n",
    "    for plain_chr in string:\n",
    "        # << 6 means multiply by 2^6 and << 12 means multiply by 2^12. This is preferred because it's much faster\n",
    "        hsh = ord(plain_chr) + (hsh << 6) + (hsh << 16) - hsh\n",
    "\n",
    "    return hsh\n",
    "\n",
    "\n"
   ]
  },
  {
   "cell_type": "code",
   "execution_count": 3,
   "id": "e310ddce",
   "metadata": {},
   "outputs": [
    {
     "data": {
      "text/plain": [
       "[(0, 0), (42, 39)]"
      ]
     },
     "execution_count": 3,
     "metadata": {},
     "output_type": "execute_result"
    }
   ],
   "source": [
    "def check_plagiarism_with_rh(x,y,k):\n",
    "    \"\"\"\n",
    "    Returns where the similarities between x and y is. The table for x is created using rolling hashing\n",
    "\n",
    "    Parameters\n",
    "    ----------\n",
    "    x : string\n",
    "        first submission\n",
    "    y : string\n",
    "        Second submission\n",
    "    k : int\n",
    "        Length of the substring to be checked\n",
    "    Returns\n",
    "    -------\n",
    "    possible_combos : list\n",
    "        A list of tuples (i,j) where similarities occur between the two submissions where i is the starting index in x and j is the starting index in y\n",
    "    \"\"\"\n",
    "    possible_combos = []\n",
    "    \n",
    "    # Clean the inputs\n",
    "    x = ''.join(x.replace(\"!\", \"\").replace(\"?\", \"\").replace(\".\", \"\").replace(\",\", \"\").replace(\";\", \"\").split()).lower()\n",
    "    y = ''.join(y.replace(\"!\", \"\").replace(\"?\", \"\").replace(\".\", \"\").replace(\",\", \"\").replace(\";\", \"\").split()).lower()\n",
    "    \n",
    "    HT = HashTable(len(x),k) # Initialize the hash table object\n",
    "\n",
    "    HT.create_table_with_rh(x) # Create a hash table for x using rolling hashing\n",
    "    \n",
    "    \n",
    "    for j in range(len(y)-k+1):\n",
    "        # Iterate through y and get substrings of length k\n",
    "        substring = y[j:j+k]\n",
    "        if j == 0: \n",
    "            hash_value = HT.to_hash(substring)  # If the substring is the first, calculate the hash value from scratch\n",
    "            result = HT.chained_hash_search(hash_value, substring)  # Search it in the hash table for x to make a comparison\n",
    "            # If found, get the results and append them to the possible combinations list\n",
    "            if result is not False:\n",
    "                for res in result:\n",
    "                    possible_combos.append((res[0], j))\n",
    "        else:\n",
    "            # Calculate the hash value for the subsequent substrings in y using rolling hashing\n",
    "            hash_value = (((hash_value - ord(y[j-1])*HT.base**(k-1) % HT.q)*HT.base) % HT.q + ord(y[j+k-1])) % HT.q\n",
    "            result = HT.chained_hash_search(hash_value, substring)  # Search it in the hash table for x to make a comparison\n",
    "            # If found, get the results and append them to the possible combinations list\n",
    "            if result is not False:\n",
    "                for res in result:\n",
    "                    possible_combos.append((res[0], j))\n",
    "\n",
    "    return possible_combos\n",
    "# Test1: Randomly generated characters\n",
    "test1x = \"aastuveoaisdfioweaf\"\n",
    "test1y = \"aastoiasdffffkfioveeaf\"\n",
    "\n",
    "# Test2: Repeated characters\n",
    "test2x = 'eeeeeeeeee'\n",
    "test2y = 'eeeeeee'\n",
    "\n",
    "# Test3: Real plagiarized text\n",
    "test3x = \"The legal system is made up of civil courts, criminal courts and specialty courts, such as family law courts and bankruptcy courts. Each court has its own jurisdiction, which refers to the cases that the court is allowed to hear. In some instances, a case can only be heard in one type of court. For example, a bankruptcy case must be heard in a bankruptcy court. In other instances, more than one court could potentially have jurisdiction. For example, a federal criminal court and a state criminal court would each have jurisdiction over a crime that is a federal drug offense but that is also a state offense.\"\n",
    "test3y = \"The legal system is made up of criminal and civil courts and specialty courts like bankruptcy and family law courts. Each court is vested with its own jurisdiction. Jurisdiction refers to the types of cases the court is permitted to rule on. Sometimes, only one type of court can hear a particular case. For instance, bankruptcy cases can be ruled on only in bankruptcy court. In other situations, it is possible for more than one court to have jurisdiction. For instance, both a state and federal criminal court could have authority over a criminal case that is also considered an offense under federal and state drug laws.\"\n",
    "\n",
    "assert check_plagiarism_with_rh(test1x,test1y,3) == [(0, 0), (1, 1), (10, 7), (12, 14), (16, 19)]\n",
    "assert check_plagiarism_with_rh(test2x,test2y,7) == [(3, 0), (2, 0), (1, 0), (0, 0)]\n",
    "assert check_plagiarism_with_rh(test3x,test3y,25) == [(0, 0), (42, 39)]\n",
    "check_plagiarism_with_rh(test3x,test3y,25)"
   ]
  },
  {
   "cell_type": "code",
   "execution_count": 4,
   "id": "cf20702b",
   "metadata": {},
   "outputs": [
    {
     "data": {
      "text/plain": [
       "[(3, 0), (2, 0), (1, 0), (0, 0)]"
      ]
     },
     "execution_count": 4,
     "metadata": {},
     "output_type": "execute_result"
    }
   ],
   "source": [
    "\n",
    "def check_plagiarism_without_rh(x,y,k):\n",
    "    \"\"\"\n",
    "    Returns where the similarities between x and y is. The table for x is not created using rolling hashing\n",
    "\n",
    "    Parameters\n",
    "    ----------\n",
    "    x : string\n",
    "        first submission\n",
    "    y : string\n",
    "        Second submission\n",
    "    k : int\n",
    "        Length of the substring to be checked\n",
    "    Returns\n",
    "    -------\n",
    "    possible_combos : list\n",
    "        A list of tuples (i,j) where similarities occur between the two submissions where i is the starting index in x and j is the starting index in y\n",
    "    \"\"\"\n",
    "    possible_combos = []\n",
    "    \n",
    "    # Clean the inputs\n",
    "    x = ''.join(x.replace(\"!\", \"\").replace(\"?\", \"\").replace(\".\", \"\").replace(\",\", \"\").replace(\";\", \"\").split()).lower()\n",
    "    y = ''.join(y.replace(\"!\", \"\").replace(\"?\", \"\").replace(\".\", \"\").replace(\",\", \"\").replace(\";\", \"\").split()).lower()\n",
    "    \n",
    "    HT = HashTable(len(x),k) # Initialize the hash table object\n",
    "    HT.create_table_without_rh(x)  # Create a hash table for x without using rolling hashing\n",
    "    \n",
    "    for j in range(len(y)-k+1):\n",
    "        # Iterate through y and get substrings of length k\n",
    "        substring = y[j:j+k]\n",
    "        if j == 0:\n",
    "            hash_value = HT.to_hash(substring) # If the substring is the first, calculate the hash value from scratch\n",
    "            result = HT.chained_hash_search(hash_value, substring) # Search it in the hash table for x to make a comparison\n",
    "            # If found, get the results and append them to the possible combinations list\n",
    "            if result is not False:\n",
    "                for res in result:\n",
    "                    possible_combos.append((res[0], j))\n",
    "        else:\n",
    "            # Calculate the hash value for the subsequent substrings in y using rolling hashing\n",
    "            hash_value = (((hash_value - ord(y[j-1])*HT.base**(k-1) % HT.q)*HT.base) % HT.q + ord(y[j+k-1])) % HT.q\n",
    "            result = HT.chained_hash_search(hash_value, substring) # Search it in the hash table for x to make a comparison\n",
    "            # If found, get the results and append them to the possible combinations list\n",
    "            if result is not False:\n",
    "                for res in result:\n",
    "                    possible_combos.append((res[0], j))\n",
    "\n",
    "    return possible_combos\n",
    "def check_plagiarism_djb2(x,y,k):\n",
    "    \"\"\"\n",
    "    Returns where the similarities between x and y is. The table for x is created using the djb2 algorithm\n",
    "\n",
    "    Parameters\n",
    "    ----------\n",
    "    x : string\n",
    "        first submission\n",
    "    y : string\n",
    "        Second submission\n",
    "    k : int\n",
    "        Length of the substring to be checked\n",
    "    Returns\n",
    "    -------\n",
    "    possible_combos : list\n",
    "        A list of tuples (i,j) where similarities occur between the two submissions where i is the starting index in x and j is the starting index in y\n",
    "    \"\"\"\n",
    "    possible_combos = []\n",
    "    \n",
    "    # Clean the inputs\n",
    "    x = ''.join(x.replace(\"!\", \"\").replace(\"?\", \"\").replace(\".\", \"\").replace(\",\", \"\").replace(\";\", \"\").split()).lower()\n",
    "    y = ''.join(y.replace(\"!\", \"\").replace(\"?\", \"\").replace(\".\", \"\").replace(\",\", \"\").replace(\";\", \"\").split()).lower()\n",
    "    \n",
    "    HT = HashTable(len(x),k) # Initialize the hash table object\n",
    "    HT.create_table_djb2(x) # Create a hash table for x using the djb2 algorithm\n",
    "    \n",
    "    for j in range(len(y)-k+1):\n",
    "        # Iterate through y and get substrings of length k\n",
    "        substring = y[j:j+k]\n",
    "\n",
    "        hash_value = hash_djb2(substring)  # Calculate the hash value of each substring in y using the djb2 algorithm\n",
    "        result = HT.chained_hash_search(hash_value, substring) # Search it in the hash table for x to make a comparison\n",
    "        # If found, get the results and append them to the possible combinations list\n",
    "        if result is not False:\n",
    "            for res in result:\n",
    "                possible_combos.append((res[0], j))\n",
    "\n",
    "    return possible_combos\n",
    "def check_plagiarism_sdbm(x,y,k):\n",
    "    \"\"\"\n",
    "    Returns where the similarities between x and y is. The table for x is created using the sdbm algorithm\n",
    "\n",
    "    Parameters\n",
    "    ----------\n",
    "    x : string\n",
    "        first submission\n",
    "    y : string\n",
    "        Second submission\n",
    "    k : int\n",
    "        Length of the substring to be checked\n",
    "    Returns\n",
    "    -------\n",
    "    possible_combos : list\n",
    "        A list of tuples (i,j) where similarities occur between the two submissions where i is the starting index in x and j is the starting index in y\n",
    "    \"\"\"\n",
    "    possible_combos = []\n",
    "    \n",
    "    # Clean the inputs\n",
    "    x = ''.join(x.replace(\"!\", \"\").replace(\"?\", \"\").replace(\".\", \"\").replace(\",\", \"\").replace(\";\", \"\").split()).lower()\n",
    "    y = ''.join(y.replace(\"!\", \"\").replace(\"?\", \"\").replace(\".\", \"\").replace(\",\", \"\").replace(\";\", \"\").split()).lower()\n",
    "    \n",
    "    HT = HashTable(len(x),k)  # Initialize the hash table object\n",
    "    HT.create_table_sdbm(x)  # Create a hash table for x using the sdbm algorithm\n",
    "    \n",
    "    for j in range(len(y)-k+1):\n",
    "        # Iterate through y and get substrings of length k\n",
    "        substring = y[j:j+k]\n",
    "        \n",
    "        hash_value = sdbm(substring)  # Calculate the hash value of each substring in y using the sdbm algorithm\n",
    "        result = HT.chained_hash_search(hash_value, substring)  # Search it in the hash table for x to make a comparison\n",
    "        # If found, get the results and append them to the possible combinations list\n",
    "        if result is not False:\n",
    "            for res in result:\n",
    "                possible_combos.append((res[0], j))\n",
    "\n",
    "    return possible_combos\n",
    "# Test1: Randomly generated characters\n",
    "test1x = \"aastuveoaisdfioweaf\"\n",
    "test1y = \"aastoiasdffffkfioveeaf\"\n",
    "\n",
    "# Test2: Repeated characters\n",
    "test2x = 'eeeeeeeeee'\n",
    "test2y = 'eeeeeee'\n",
    "\n",
    "# Test3: Real plagiarized text\n",
    "test3x = \"The legal system is made up of civil courts, criminal courts and specialty courts, such as family law courts and bankruptcy courts. Each court has its own jurisdiction, which refers to the cases that the court is allowed to hear. In some instances, a case can only be heard in one type of court. For example, a bankruptcy case must be heard in a bankruptcy court. In other instances, more than one court could potentially have jurisdiction. For example, a federal criminal court and a state criminal court would each have jurisdiction over a crime that is a federal drug offense but that is also a state offense.\"\n",
    "test3y = \"The legal system is made up of criminal and civil courts and specialty courts like bankruptcy and family law courts. Each court is vested with its own jurisdiction. Jurisdiction refers to the types of cases the court is permitted to rule on. Sometimes, only one type of court can hear a particular case. For instance, bankruptcy cases can be ruled on only in bankruptcy court. In other situations, it is possible for more than one court to have jurisdiction. For instance, both a state and federal criminal court could have authority over a criminal case that is also considered an offense under federal and state drug laws.\"\n",
    "\n",
    "# Here, I test each of the three additional hash functions I came up with in q2 and amke sure they all give me the same results\n",
    "\n",
    "assert check_plagiarism_without_rh(test1x,test1y,3) == check_plagiarism_djb2(test1x,test1y,3) == check_plagiarism_sdbm(test1x,test1y,3) == [(0, 0), (1, 1), (10, 7), (12, 14), (16, 19)]\n",
    "assert check_plagiarism_without_rh(test2x,test2y,7) == check_plagiarism_djb2(test2x,test2y,7) == check_plagiarism_sdbm(test2x,test2y,7) == [(3, 0), (2, 0), (1, 0), (0, 0)]\n",
    "assert check_plagiarism_without_rh(test3x,test3y,25) == check_plagiarism_djb2(test3x,test3y,25) == check_plagiarism_sdbm(test3x,test3y,25) == [(0, 0), (42, 39)]\n",
    "check_plagiarism_without_rh(test2x,test2y,7)"
   ]
  },
  {
   "cell_type": "code",
   "execution_count": 5,
   "id": "ade60f5d",
   "metadata": {},
   "outputs": [
    {
     "data": {
      "text/html": [
       "<div>\n",
       "<style scoped>\n",
       "    .dataframe tbody tr th:only-of-type {\n",
       "        vertical-align: middle;\n",
       "    }\n",
       "\n",
       "    .dataframe tbody tr th {\n",
       "        vertical-align: top;\n",
       "    }\n",
       "\n",
       "    .dataframe thead th {\n",
       "        text-align: right;\n",
       "    }\n",
       "</style>\n",
       "<table border=\"1\" class=\"dataframe\">\n",
       "  <thead>\n",
       "    <tr style=\"text-align: right;\">\n",
       "      <th></th>\n",
       "      <th>student name</th>\n",
       "      <th>response</th>\n",
       "      <th>similarity</th>\n",
       "      <th>characters</th>\n",
       "      <th>length</th>\n",
       "      <th>score</th>\n",
       "    </tr>\n",
       "  </thead>\n",
       "  <tbody>\n",
       "    <tr>\n",
       "      <th>0</th>\n",
       "      <td>Alina Hordiienko</td>\n",
       "      <td>we would need data on all these parameters (re...</td>\n",
       "      <td>0.210280</td>\n",
       "      <td>481</td>\n",
       "      <td>83</td>\n",
       "      <td>3</td>\n",
       "    </tr>\n",
       "    <tr>\n",
       "      <th>2</th>\n",
       "      <td>Angelina Xu</td>\n",
       "      <td>I think its nice to created a supervised learn...</td>\n",
       "      <td>0.336449</td>\n",
       "      <td>499</td>\n",
       "      <td>87</td>\n",
       "      <td>2</td>\n",
       "    </tr>\n",
       "    <tr>\n",
       "      <th>3</th>\n",
       "      <td>Ava Nelson</td>\n",
       "      <td>For this classification model, we need trainin...</td>\n",
       "      <td>0.401869</td>\n",
       "      <td>598</td>\n",
       "      <td>94</td>\n",
       "      <td>3</td>\n",
       "    </tr>\n",
       "    <tr>\n",
       "      <th>4</th>\n",
       "      <td>Bruno Lomelirubi</td>\n",
       "      <td>Having the information the parameters of each ...</td>\n",
       "      <td>0.275701</td>\n",
       "      <td>563</td>\n",
       "      <td>106</td>\n",
       "      <td>3</td>\n",
       "    </tr>\n",
       "    <tr>\n",
       "      <th>5</th>\n",
       "      <td>Etoile Boots</td>\n",
       "      <td>To predict the whale species based on classifi...</td>\n",
       "      <td>0.353972</td>\n",
       "      <td>595</td>\n",
       "      <td>102</td>\n",
       "      <td>4</td>\n",
       "    </tr>\n",
       "    <tr>\n",
       "      <th>6</th>\n",
       "      <td>Fien Van Den Hondel</td>\n",
       "      <td>We need hyperparameters, which are decision va...</td>\n",
       "      <td>0.325935</td>\n",
       "      <td>577</td>\n",
       "      <td>96</td>\n",
       "      <td>4</td>\n",
       "    </tr>\n",
       "    <tr>\n",
       "      <th>7</th>\n",
       "      <td>Ifeoluwakolopin Are</td>\n",
       "      <td>We would need \"Labeled data\" which may be a da...</td>\n",
       "      <td>0.316589</td>\n",
       "      <td>594</td>\n",
       "      <td>98</td>\n",
       "      <td>4</td>\n",
       "    </tr>\n",
       "    <tr>\n",
       "      <th>8</th>\n",
       "      <td>Illia Lazurenko</td>\n",
       "      <td>Our data will be the data we have already abou...</td>\n",
       "      <td>0.261682</td>\n",
       "      <td>513</td>\n",
       "      <td>90</td>\n",
       "      <td>3</td>\n",
       "    </tr>\n",
       "    <tr>\n",
       "      <th>10</th>\n",
       "      <td>Krystian Nowak</td>\n",
       "      <td>To create such a model, we would need to gathe...</td>\n",
       "      <td>0.303738</td>\n",
       "      <td>564</td>\n",
       "      <td>98</td>\n",
       "      <td>3</td>\n",
       "    </tr>\n",
       "    <tr>\n",
       "      <th>11</th>\n",
       "      <td>Libby Greenlaw</td>\n",
       "      <td>first we would need a representative sample of...</td>\n",
       "      <td>0.228972</td>\n",
       "      <td>583</td>\n",
       "      <td>101</td>\n",
       "      <td>3</td>\n",
       "    </tr>\n",
       "    <tr>\n",
       "      <th>12</th>\n",
       "      <td>Marta Borrell Fijo</td>\n",
       "      <td>We would need training data that we would iden...</td>\n",
       "      <td>0.343458</td>\n",
       "      <td>590</td>\n",
       "      <td>102</td>\n",
       "      <td>2</td>\n",
       "    </tr>\n",
       "    <tr>\n",
       "      <th>13</th>\n",
       "      <td>Mykhailo Chudyk</td>\n",
       "      <td>To develop a classification model, we should h...</td>\n",
       "      <td>0.274533</td>\n",
       "      <td>552</td>\n",
       "      <td>99</td>\n",
       "      <td>4</td>\n",
       "    </tr>\n",
       "    <tr>\n",
       "      <th>14</th>\n",
       "      <td>Praise Ogwuche</td>\n",
       "      <td>To develop a classification model, we need to ...</td>\n",
       "      <td>0.329439</td>\n",
       "      <td>560</td>\n",
       "      <td>96</td>\n",
       "      <td>2</td>\n",
       "    </tr>\n",
       "    <tr>\n",
       "      <th>15</th>\n",
       "      <td>Tara Duckworth</td>\n",
       "      <td>We would need a training and validation datase...</td>\n",
       "      <td>0.292056</td>\n",
       "      <td>570</td>\n",
       "      <td>105</td>\n",
       "      <td>3</td>\n",
       "    </tr>\n",
       "    <tr>\n",
       "      <th>16</th>\n",
       "      <td>Thomas Speggiorin Linck</td>\n",
       "      <td>The first step to assemble a classification is...</td>\n",
       "      <td>0.373832</td>\n",
       "      <td>586</td>\n",
       "      <td>102</td>\n",
       "      <td>4</td>\n",
       "    </tr>\n",
       "    <tr>\n",
       "      <th>18</th>\n",
       "      <td>Yubin Park</td>\n",
       "      <td>Using the training data, we can find patterns ...</td>\n",
       "      <td>0.233645</td>\n",
       "      <td>596</td>\n",
       "      <td>94</td>\n",
       "      <td>3</td>\n",
       "    </tr>\n",
       "    <tr>\n",
       "      <th>19</th>\n",
       "      <td>Yunna Kim</td>\n",
       "      <td>You need will need representative sample data ...</td>\n",
       "      <td>0.364486</td>\n",
       "      <td>600</td>\n",
       "      <td>94</td>\n",
       "      <td>3</td>\n",
       "    </tr>\n",
       "  </tbody>\n",
       "</table>\n",
       "</div>"
      ],
      "text/plain": [
       "               student name  \\\n",
       "0          Alina Hordiienko   \n",
       "2               Angelina Xu   \n",
       "3                Ava Nelson   \n",
       "4          Bruno Lomelirubi   \n",
       "5              Etoile Boots   \n",
       "6       Fien Van Den Hondel   \n",
       "7       Ifeoluwakolopin Are   \n",
       "8           Illia Lazurenko   \n",
       "10           Krystian Nowak   \n",
       "11           Libby Greenlaw   \n",
       "12       Marta Borrell Fijo   \n",
       "13          Mykhailo Chudyk   \n",
       "14           Praise Ogwuche   \n",
       "15           Tara Duckworth   \n",
       "16  Thomas Speggiorin Linck   \n",
       "18               Yubin Park   \n",
       "19                Yunna Kim   \n",
       "\n",
       "                                             response  similarity  characters  \\\n",
       "0   we would need data on all these parameters (re...    0.210280         481   \n",
       "2   I think its nice to created a supervised learn...    0.336449         499   \n",
       "3   For this classification model, we need trainin...    0.401869         598   \n",
       "4   Having the information the parameters of each ...    0.275701         563   \n",
       "5   To predict the whale species based on classifi...    0.353972         595   \n",
       "6   We need hyperparameters, which are decision va...    0.325935         577   \n",
       "7   We would need \"Labeled data\" which may be a da...    0.316589         594   \n",
       "8   Our data will be the data we have already abou...    0.261682         513   \n",
       "10  To create such a model, we would need to gathe...    0.303738         564   \n",
       "11  first we would need a representative sample of...    0.228972         583   \n",
       "12  We would need training data that we would iden...    0.343458         590   \n",
       "13  To develop a classification model, we should h...    0.274533         552   \n",
       "14  To develop a classification model, we need to ...    0.329439         560   \n",
       "15  We would need a training and validation datase...    0.292056         570   \n",
       "16  The first step to assemble a classification is...    0.373832         586   \n",
       "18  Using the training data, we can find patterns ...    0.233645         596   \n",
       "19  You need will need representative sample data ...    0.364486         600   \n",
       "\n",
       "    length score  \n",
       "0       83     3  \n",
       "2       87     2  \n",
       "3       94     3  \n",
       "4      106     3  \n",
       "5      102     4  \n",
       "6       96     4  \n",
       "7       98     4  \n",
       "8       90     3  \n",
       "10      98     3  \n",
       "11     101     3  \n",
       "12     102     2  \n",
       "13      99     4  \n",
       "14      96     2  \n",
       "15     105     3  \n",
       "16     102     4  \n",
       "18      94     3  \n",
       "19      94     3  "
      ]
     },
     "execution_count": 5,
     "metadata": {},
     "output_type": "execute_result"
    }
   ],
   "source": [
    "from bs4 import BeautifulSoup\n",
    "import nltk\n",
    "import pandas as pd\n",
    "import numpy as np\n",
    "from nltk.tokenize import RegexpTokenizer\n",
    "\n",
    "\n",
    "tokenizer = RegexpTokenizer(r'\\w+')\n",
    "column_titles = ['student name', 'response']\n",
    "answers = []\n",
    "sample_answer=\"You would need a historic dataset containing the desired email features described in the question for a large number of emails, as well as whether each email was or was not spam. This 'training data' would act as the supervisor to help build a classification model using a supervised learning algorithm. The model is evaluated based on its ability to correctly classify this data for which it already knows the correct outcomes. Technically, we usually split this data into training, validation, and testing sets, (e.g., using an 80/10/10 split). The first is used during the learning phase as the parameters are adjusted, the second is used during the model selection phase as the hyperparameters are adjusted, and the testing set is used to serve as a proxy for future/unseen/unclassified data for which we don't know whether or not the emails are spam. \"\n",
    "with open('session9.html','r') as html_file:\n",
    "    content = html_file.read()\n",
    "    soup= BeautifulSoup(content,'lxml')\n",
    "    #print(soup.prettify())\n",
    "    polls_html_tags = soup.find_all('pre')\n",
    "    names = soup.find_all('p')\n",
    "    scores = soup.find_all('button', class_=\"hc-button dropdown-button\")\n",
    "    for i in range(len(names)):\n",
    "        #filters out punctuations and separates a sentence into words\n",
    "        #filtered_answer = tokenizer.tokenize(polls_html_tags[i].text)\n",
    "        answers.append([names[i].text,polls_html_tags[i].text])\n",
    "    # for name in names:\n",
    "    #     print(name.text)\n",
    "    # for poll in polls_html_tags:\n",
    "    #     answers.append(poll.text)\n",
    "df=pd.DataFrame(columns=column_titles, data = answers)\n",
    "indexNames = df[df['response'] == 'No response submitted.'].index\n",
    "df.drop(indexNames , inplace=True)\n",
    "score_list= []\n",
    "scores = soup.find_all('button', class_=\"hc-button dropdown-button\")\n",
    "for score in scores:\n",
    "    score_list.append(score.text)\n",
    "df.insert(2,'score', score_list, True)\n",
    "response_length = []\n",
    "for response in df['response']:\n",
    "    response_length.append(len(response.split()))\n",
    "df.insert(2, 'length', response_length)\n",
    "\n",
    "characters = []\n",
    "for response in df['response']:\n",
    "    characters.append(len(response))\n",
    "df.insert(2, 'characters', characters)\n",
    "\n",
    "similarity = []\n",
    "for response in df['response']:\n",
    "    similarity.append(len(check_plagiarism_with_rh(sample_answer,response,4))/len(sample_answer))\n",
    "df.insert(2, 'similarity', similarity)\n",
    "\n",
    "df"
   ]
  },
  {
   "cell_type": "code",
   "execution_count": 6,
   "id": "62f3332f",
   "metadata": {},
   "outputs": [
    {
     "data": {
      "text/plain": [
       "0.2432748538011696"
      ]
     },
     "execution_count": 6,
     "metadata": {},
     "output_type": "execute_result"
    }
   ],
   "source": [
    "\n",
    "ideal=\"You would need a historic dataset containing the desired email features described in the question for a large number of emails, as well as whether each email was or was not spam. This 'training data' would act as the supervisor to help build a classification model using a supervised learning algorithm. The model is evaluated based on its ability to correctly classify this data for which it already knows the correct outcomes. Technically, we usually split this data into training, validation, and testing sets, (e.g., using an 80/10/10 split). The first is used during the learning phase as the parameters are adjusted, the second is used during the model selection phase as the hyperparameters are adjusted, and the testing set is used to serve as a proxy for future/unseen/unclassified data for which we don't know whether or not the emails are spam.\"\n",
    "student1=df['response'][3]\n",
    "len(check_plagiarism_with_rh(ideal,student1,5))/len(ideal)\n",
    "#type(student1)"
   ]
  },
  {
   "cell_type": "code",
   "execution_count": 7,
   "id": "a3417cac",
   "metadata": {},
   "outputs": [
    {
     "data": {
      "text/plain": [
       "count     17.000000\n",
       "mean      96.882353\n",
       "std        6.203652\n",
       "min       83.000000\n",
       "25%       94.000000\n",
       "50%       98.000000\n",
       "75%      102.000000\n",
       "max      106.000000\n",
       "Name: length, dtype: float64"
      ]
     },
     "execution_count": 7,
     "metadata": {},
     "output_type": "execute_result"
    }
   ],
   "source": [
    "df['length'].describe()"
   ]
  },
  {
   "cell_type": "code",
   "execution_count": 9,
   "id": "58339f48",
   "metadata": {},
   "outputs": [
    {
     "data": {
      "image/png": "[encoded data removed]",
      "text/plain": [
       "<Figure size 432x288 with 1 Axes>"
      ]
     },
     "metadata": {
      "needs_background": "light"
     },
     "output_type": "display_data"
    }
   ],
   "source": [
    "import matplotlib.pyplot as plt\n",
    "%matplotlib inline\n",
    "\n",
    "plt.xscale('log')\n",
    "bins = 1.15**(np.arange(0,50))\n",
    "plt.hist(df[df['score']=='2']['length'],bins=bins,alpha=0.8, color = 'red')\n",
    "plt.hist(df[df['score']=='3']['length'],bins=bins,alpha=0.8)\n",
    "plt.hist(df[df['score']=='4']['length'],bins=bins,alpha=0.8)\n",
    "plt.legend(('2','3','4'))\n",
    "plt.show()"
   ]
  },
  {
   "cell_type": "code",
   "execution_count": 10,
   "id": "d4456f12",
   "metadata": {},
   "outputs": [
    {
     "data": {
      "text/plain": [
       "count    17.000000\n",
       "mean      0.307449\n",
       "std       0.054354\n",
       "min       0.210280\n",
       "25%       0.274533\n",
       "50%       0.316589\n",
       "75%       0.343458\n",
       "max       0.401869\n",
       "Name: similarity, dtype: float64"
      ]
     },
     "execution_count": 10,
     "metadata": {},
     "output_type": "execute_result"
    }
   ],
   "source": [
    "df['similarity'].describe()"
   ]
  },
  {
   "cell_type": "code",
   "execution_count": 12,
   "id": "3a18c877",
   "metadata": {},
   "outputs": [
    {
     "data": {
      "image/png": "[encoded data removed]",
      "text/plain": [
       "<Figure size 432x288 with 1 Axes>"
      ]
     },
     "metadata": {
      "needs_background": "light"
     },
     "output_type": "display_data"
    }
   ],
   "source": [
    "%matplotlib inline\n",
    "\n",
    "plt.xscale('log')\n",
    "#bins = 1.15**(np.arange(0,50))\n",
    "plt.hist(df[df['score']=='3']['similarity'],alpha=0.8)\n",
    "plt.hist(df[df['score']=='4']['similarity'],alpha=0.8)\n",
    "plt.legend(('3','4'))\n",
    "plt.show()"
   ]
  },
  {
   "cell_type": "code",
   "execution_count": 13,
   "id": "d0f3d9c2",
   "metadata": {},
   "outputs": [
    {
     "data": {
      "text/plain": [
       "<matplotlib.collections.PathCollection at 0x7f9ca53dbd30>"
      ]
     },
     "execution_count": 13,
     "metadata": {},
     "output_type": "execute_result"
    },
    {
     "data": {
      "image/png": "[encoded data removed]",
      "text/plain": [
       "<Figure size 432x288 with 1 Axes>"
      ]
     },
     "metadata": {
      "needs_background": "light"
     },
     "output_type": "display_data"
    }
   ],
   "source": [
    "plt.scatter(similarity, score_list)"
   ]
  },
  {
   "cell_type": "code",
   "execution_count": 14,
   "id": "f0457fd2",
   "metadata": {},
   "outputs": [
    {
     "data": {
      "image/png": "[encoded data removed]",
      "text/plain": [
       "<Figure size 432x288 with 1 Axes>"
      ]
     },
     "metadata": {
      "needs_background": "light"
     },
     "output_type": "display_data"
    }
   ],
   "source": [
    "df = pd.DataFrame([[5.1, 3.5, 0], [4.9, 3.0, 0], [7.0, 3.2, 1],[6.4, 3.2, 1], [5.9, 3.0, 2]],columns=['length', 'width', 'species'])\n",
    "ax1 = df.plot.scatter(x='length',\n",
    "                  y='width',\n",
    "          c='DarkBlue')"
   ]
  },
  {
   "cell_type": "code",
   "execution_count": 16,
   "id": "5b2f901c",
   "metadata": {},
   "outputs": [
    {
     "ename": "KeyError",
     "evalue": "\"['characters'] not in index\"",
     "output_type": "error",
     "traceback": [
      "\u001b[0;31m---------------------------------------------------------------------------\u001b[0m",
      "\u001b[0;31mKeyError\u001b[0m                                  Traceback (most recent call last)",
      "\u001b[1;32m/Users/haechan/Desktop/auto-pollgrader/Untitled1.ipynb Cell 13'\u001b[0m in \u001b[0;36m<cell line: 1>\u001b[0;34m()\u001b[0m\n\u001b[0;32m----> <a href='vscode-notebook-cell:/Users/haechan/Desktop/auto-pollgrader/Untitled1.ipynb#ch0000012?line=0'>1</a>\u001b[0m X \u001b[39m=\u001b[39m df[[\u001b[39m'\u001b[39;49m\u001b[39mlength\u001b[39;49m\u001b[39m'\u001b[39;49m,\u001b[39m'\u001b[39;49m\u001b[39mcharacters\u001b[39;49m\u001b[39m'\u001b[39;49m]] \u001b[39m# note the double set of brackets\u001b[39;00m\n\u001b[1;32m      <a href='vscode-notebook-cell:/Users/haechan/Desktop/auto-pollgrader/Untitled1.ipynb#ch0000012?line=1'>2</a>\u001b[0m y \u001b[39m=\u001b[39m df[\u001b[39m'\u001b[39m\u001b[39mscore\u001b[39m\u001b[39m'\u001b[39m]\n",
      "File \u001b[0;32m~/Desktop/auto-pollgrader/venv/lib/python3.8/site-packages/pandas/core/frame.py:3511\u001b[0m, in \u001b[0;36mDataFrame.__getitem__\u001b[0;34m(self, key)\u001b[0m\n\u001b[1;32m   <a href='file:///Users/haechan/Desktop/auto-pollgrader/venv/lib/python3.8/site-packages/pandas/core/frame.py?line=3508'>3509</a>\u001b[0m     \u001b[39mif\u001b[39;00m is_iterator(key):\n\u001b[1;32m   <a href='file:///Users/haechan/Desktop/auto-pollgrader/venv/lib/python3.8/site-packages/pandas/core/frame.py?line=3509'>3510</a>\u001b[0m         key \u001b[39m=\u001b[39m \u001b[39mlist\u001b[39m(key)\n\u001b[0;32m-> <a href='file:///Users/haechan/Desktop/auto-pollgrader/venv/lib/python3.8/site-packages/pandas/core/frame.py?line=3510'>3511</a>\u001b[0m     indexer \u001b[39m=\u001b[39m \u001b[39mself\u001b[39;49m\u001b[39m.\u001b[39;49mcolumns\u001b[39m.\u001b[39;49m_get_indexer_strict(key, \u001b[39m\"\u001b[39;49m\u001b[39mcolumns\u001b[39;49m\u001b[39m\"\u001b[39;49m)[\u001b[39m1\u001b[39m]\n\u001b[1;32m   <a href='file:///Users/haechan/Desktop/auto-pollgrader/venv/lib/python3.8/site-packages/pandas/core/frame.py?line=3512'>3513</a>\u001b[0m \u001b[39m# take() does not accept boolean indexers\u001b[39;00m\n\u001b[1;32m   <a href='file:///Users/haechan/Desktop/auto-pollgrader/venv/lib/python3.8/site-packages/pandas/core/frame.py?line=3513'>3514</a>\u001b[0m \u001b[39mif\u001b[39;00m \u001b[39mgetattr\u001b[39m(indexer, \u001b[39m\"\u001b[39m\u001b[39mdtype\u001b[39m\u001b[39m\"\u001b[39m, \u001b[39mNone\u001b[39;00m) \u001b[39m==\u001b[39m \u001b[39mbool\u001b[39m:\n",
      "File \u001b[0;32m~/Desktop/auto-pollgrader/venv/lib/python3.8/site-packages/pandas/core/indexes/base.py:5782\u001b[0m, in \u001b[0;36mIndex._get_indexer_strict\u001b[0;34m(self, key, axis_name)\u001b[0m\n\u001b[1;32m   <a href='file:///Users/haechan/Desktop/auto-pollgrader/venv/lib/python3.8/site-packages/pandas/core/indexes/base.py?line=5778'>5779</a>\u001b[0m \u001b[39melse\u001b[39;00m:\n\u001b[1;32m   <a href='file:///Users/haechan/Desktop/auto-pollgrader/venv/lib/python3.8/site-packages/pandas/core/indexes/base.py?line=5779'>5780</a>\u001b[0m     keyarr, indexer, new_indexer \u001b[39m=\u001b[39m \u001b[39mself\u001b[39m\u001b[39m.\u001b[39m_reindex_non_unique(keyarr)\n\u001b[0;32m-> <a href='file:///Users/haechan/Desktop/auto-pollgrader/venv/lib/python3.8/site-packages/pandas/core/indexes/base.py?line=5781'>5782</a>\u001b[0m \u001b[39mself\u001b[39;49m\u001b[39m.\u001b[39;49m_raise_if_missing(keyarr, indexer, axis_name)\n\u001b[1;32m   <a href='file:///Users/haechan/Desktop/auto-pollgrader/venv/lib/python3.8/site-packages/pandas/core/indexes/base.py?line=5783'>5784</a>\u001b[0m keyarr \u001b[39m=\u001b[39m \u001b[39mself\u001b[39m\u001b[39m.\u001b[39mtake(indexer)\n\u001b[1;32m   <a href='file:///Users/haechan/Desktop/auto-pollgrader/venv/lib/python3.8/site-packages/pandas/core/indexes/base.py?line=5784'>5785</a>\u001b[0m \u001b[39mif\u001b[39;00m \u001b[39misinstance\u001b[39m(key, Index):\n\u001b[1;32m   <a href='file:///Users/haechan/Desktop/auto-pollgrader/venv/lib/python3.8/site-packages/pandas/core/indexes/base.py?line=5785'>5786</a>\u001b[0m     \u001b[39m# GH 42790 - Preserve name from an Index\u001b[39;00m\n",
      "File \u001b[0;32m~/Desktop/auto-pollgrader/venv/lib/python3.8/site-packages/pandas/core/indexes/base.py:5845\u001b[0m, in \u001b[0;36mIndex._raise_if_missing\u001b[0;34m(self, key, indexer, axis_name)\u001b[0m\n\u001b[1;32m   <a href='file:///Users/haechan/Desktop/auto-pollgrader/venv/lib/python3.8/site-packages/pandas/core/indexes/base.py?line=5841'>5842</a>\u001b[0m     \u001b[39mraise\u001b[39;00m \u001b[39mKeyError\u001b[39;00m(\u001b[39mf\u001b[39m\u001b[39m\"\u001b[39m\u001b[39mNone of [\u001b[39m\u001b[39m{\u001b[39;00mkey\u001b[39m}\u001b[39;00m\u001b[39m] are in the [\u001b[39m\u001b[39m{\u001b[39;00maxis_name\u001b[39m}\u001b[39;00m\u001b[39m]\u001b[39m\u001b[39m\"\u001b[39m)\n\u001b[1;32m   <a href='file:///Users/haechan/Desktop/auto-pollgrader/venv/lib/python3.8/site-packages/pandas/core/indexes/base.py?line=5843'>5844</a>\u001b[0m not_found \u001b[39m=\u001b[39m \u001b[39mlist\u001b[39m(ensure_index(key)[missing_mask\u001b[39m.\u001b[39mnonzero()[\u001b[39m0\u001b[39m]]\u001b[39m.\u001b[39munique())\n\u001b[0;32m-> <a href='file:///Users/haechan/Desktop/auto-pollgrader/venv/lib/python3.8/site-packages/pandas/core/indexes/base.py?line=5844'>5845</a>\u001b[0m \u001b[39mraise\u001b[39;00m \u001b[39mKeyError\u001b[39;00m(\u001b[39mf\u001b[39m\u001b[39m\"\u001b[39m\u001b[39m{\u001b[39;00mnot_found\u001b[39m}\u001b[39;00m\u001b[39m not in index\u001b[39m\u001b[39m\"\u001b[39m)\n",
      "\u001b[0;31mKeyError\u001b[0m: \"['characters'] not in index\""
     ]
    }
   ],
   "source": [
    "X = df[['length','characters']] # note the double set of brackets\n",
    "y = df['score']\n"
   ]
  },
  {
   "cell_type": "code",
   "execution_count": 32,
   "id": "b82e0e21",
   "metadata": {},
   "outputs": [
    {
     "ename": "NameError",
     "evalue": "name 'X' is not defined",
     "output_type": "error",
     "traceback": [
      "\u001b[0;31m---------------------------------------------------------------------------\u001b[0m",
      "\u001b[0;31mNameError\u001b[0m                                 Traceback (most recent call last)",
      "\u001b[0;32m<ipython-input-32-a5266de02054>\u001b[0m in \u001b[0;36m<module>\u001b[0;34m\u001b[0m\n\u001b[1;32m      1\u001b[0m \u001b[0;32mfrom\u001b[0m \u001b[0msklearn\u001b[0m\u001b[0;34m.\u001b[0m\u001b[0mmodel_selection\u001b[0m \u001b[0;32mimport\u001b[0m \u001b[0mtrain_test_split\u001b[0m\u001b[0;34m\u001b[0m\u001b[0;34m\u001b[0m\u001b[0m\n\u001b[1;32m      2\u001b[0m \u001b[0;34m\u001b[0m\u001b[0m\n\u001b[0;32m----> 3\u001b[0;31m \u001b[0mX_train\u001b[0m\u001b[0;34m,\u001b[0m \u001b[0mX_test\u001b[0m\u001b[0;34m,\u001b[0m \u001b[0my_train\u001b[0m\u001b[0;34m,\u001b[0m \u001b[0my_test\u001b[0m \u001b[0;34m=\u001b[0m \u001b[0mtrain_test_split\u001b[0m\u001b[0;34m(\u001b[0m\u001b[0mX\u001b[0m\u001b[0;34m,\u001b[0m \u001b[0my\u001b[0m\u001b[0;34m,\u001b[0m \u001b[0mtest_size\u001b[0m\u001b[0;34m=\u001b[0m\u001b[0;36m0.43\u001b[0m\u001b[0;34m,\u001b[0m \u001b[0mrandom_state\u001b[0m\u001b[0;34m=\u001b[0m\u001b[0;36m42\u001b[0m\u001b[0;34m)\u001b[0m\u001b[0;34m\u001b[0m\u001b[0;34m\u001b[0m\u001b[0m\n\u001b[0m\u001b[1;32m      4\u001b[0m \u001b[0;34m\u001b[0m\u001b[0m\n\u001b[1;32m      5\u001b[0m \u001b[0mprint\u001b[0m\u001b[0;34m(\u001b[0m\u001b[0;34m'Training Data Shape:'\u001b[0m\u001b[0;34m,\u001b[0m \u001b[0mX_train\u001b[0m\u001b[0;34m.\u001b[0m\u001b[0mshape\u001b[0m\u001b[0;34m)\u001b[0m\u001b[0;34m\u001b[0m\u001b[0;34m\u001b[0m\u001b[0m\n",
      "\u001b[0;31mNameError\u001b[0m: name 'X' is not defined"
     ]
    }
   ],
   "source": [
    "from sklearn.model_selection import train_test_split\n",
    "\n",
    "X_train, X_test, y_train, y_test = train_test_split(X, y, test_size=0.43, random_state=42)\n",
    "\n",
    "print('Training Data Shape:', X_train.shape)\n",
    "print('Testing Data Shape: ', X_test.shape)"
   ]
  },
  {
   "cell_type": "code",
   "execution_count": 130,
   "id": "b1282959",
   "metadata": {},
   "outputs": [
    {
     "data": {
      "text/plain": [
       "LogisticRegression()"
      ]
     },
     "execution_count": 130,
     "metadata": {},
     "output_type": "execute_result"
    }
   ],
   "source": [
    "from sklearn.linear_model import LogisticRegression\n",
    "\n",
    "lr_model = LogisticRegression(solver='lbfgs')\n",
    "\n",
    "lr_model.fit(X_train, y_train)"
   ]
  },
  {
   "cell_type": "code",
   "execution_count": 114,
   "id": "fb16bd6e",
   "metadata": {},
   "outputs": [
    {
     "name": "stdout",
     "output_type": "stream",
     "text": [
      "[[0 1 0]\n",
      " [0 4 0]\n",
      " [0 3 0]]\n"
     ]
    }
   ],
   "source": [
    "from sklearn import metrics\n",
    "\n",
    "# Create a prediction set:\n",
    "predictions = lr_model.predict(X_test)\n",
    "\n",
    "# Print a confusion matrix\n",
    "print(metrics.confusion_matrix(y_test,predictions))"
   ]
  },
  {
   "cell_type": "code",
   "execution_count": 115,
   "id": "670e225b",
   "metadata": {},
   "outputs": [
    {
     "data": {
      "text/html": [
       "<div>\n",
       "<style scoped>\n",
       "    .dataframe tbody tr th:only-of-type {\n",
       "        vertical-align: middle;\n",
       "    }\n",
       "\n",
       "    .dataframe tbody tr th {\n",
       "        vertical-align: top;\n",
       "    }\n",
       "\n",
       "    .dataframe thead th {\n",
       "        text-align: right;\n",
       "    }\n",
       "</style>\n",
       "<table border=\"1\" class=\"dataframe\">\n",
       "  <thead>\n",
       "    <tr style=\"text-align: right;\">\n",
       "      <th></th>\n",
       "      <th>0</th>\n",
       "      <th>3</th>\n",
       "      <th>4</th>\n",
       "    </tr>\n",
       "  </thead>\n",
       "  <tbody>\n",
       "    <tr>\n",
       "      <th>0</th>\n",
       "      <td>0</td>\n",
       "      <td>1</td>\n",
       "      <td>0</td>\n",
       "    </tr>\n",
       "    <tr>\n",
       "      <th>3</th>\n",
       "      <td>0</td>\n",
       "      <td>4</td>\n",
       "      <td>0</td>\n",
       "    </tr>\n",
       "    <tr>\n",
       "      <th>4</th>\n",
       "      <td>0</td>\n",
       "      <td>3</td>\n",
       "      <td>0</td>\n",
       "    </tr>\n",
       "  </tbody>\n",
       "</table>\n",
       "</div>"
      ],
      "text/plain": [
       "   0  3  4\n",
       "0  0  1  0\n",
       "3  0  4  0\n",
       "4  0  3  0"
      ]
     },
     "execution_count": 115,
     "metadata": {},
     "output_type": "execute_result"
    }
   ],
   "source": [
    "# You can make the confusion matrix less confusing by adding labels:\n",
    "df = pd.DataFrame(metrics.confusion_matrix(y_test,predictions), index=['0','3','4'], columns=['0','3','4'])\n",
    "df"
   ]
  },
  {
   "cell_type": "code",
   "execution_count": 116,
   "id": "29c0e14f",
   "metadata": {},
   "outputs": [
    {
     "name": "stdout",
     "output_type": "stream",
     "text": [
      "              precision    recall  f1-score   support\n",
      "\n",
      "           2       0.00      0.00      0.00         1\n",
      "           3       0.50      1.00      0.67         4\n",
      "           4       0.00      0.00      0.00         3\n",
      "\n",
      "    accuracy                           0.50         8\n",
      "   macro avg       0.17      0.33      0.22         8\n",
      "weighted avg       0.25      0.50      0.33         8\n",
      "\n"
     ]
    },
    {
     "name": "stderr",
     "output_type": "stream",
     "text": [
      "/Users/haechan/opt/anaconda3/lib/python3.8/site-packages/sklearn/metrics/_classification.py:1245: UndefinedMetricWarning: Precision and F-score are ill-defined and being set to 0.0 in labels with no predicted samples. Use `zero_division` parameter to control this behavior.\n",
      "  _warn_prf(average, modifier, msg_start, len(result))\n",
      "/Users/haechan/opt/anaconda3/lib/python3.8/site-packages/sklearn/metrics/_classification.py:1245: UndefinedMetricWarning: Precision and F-score are ill-defined and being set to 0.0 in labels with no predicted samples. Use `zero_division` parameter to control this behavior.\n",
      "  _warn_prf(average, modifier, msg_start, len(result))\n",
      "/Users/haechan/opt/anaconda3/lib/python3.8/site-packages/sklearn/metrics/_classification.py:1245: UndefinedMetricWarning: Precision and F-score are ill-defined and being set to 0.0 in labels with no predicted samples. Use `zero_division` parameter to control this behavior.\n",
      "  _warn_prf(average, modifier, msg_start, len(result))\n"
     ]
    }
   ],
   "source": [
    "print(metrics.classification_report(y_test,predictions))"
   ]
  },
  {
   "cell_type": "code",
   "execution_count": 117,
   "id": "26234ba0",
   "metadata": {},
   "outputs": [
    {
     "name": "stdout",
     "output_type": "stream",
     "text": [
      "0.5\n"
     ]
    }
   ],
   "source": [
    "print(metrics.accuracy_score(y_test,predictions))"
   ]
  },
  {
   "cell_type": "code",
   "execution_count": 118,
   "id": "da7b8e23",
   "metadata": {},
   "outputs": [
    {
     "data": {
      "text/plain": [
       "MultinomialNB()"
      ]
     },
     "execution_count": 118,
     "metadata": {},
     "output_type": "execute_result"
    }
   ],
   "source": [
    "from sklearn.naive_bayes import MultinomialNB\n",
    "\n",
    "nb_model = MultinomialNB()\n",
    "\n",
    "nb_model.fit(X_train, y_train)"
   ]
  },
  {
   "cell_type": "code",
   "execution_count": 119,
   "id": "6fed0671",
   "metadata": {},
   "outputs": [
    {
     "name": "stdout",
     "output_type": "stream",
     "text": [
      "[[0 1 0]\n",
      " [0 4 0]\n",
      " [0 3 0]]\n"
     ]
    }
   ],
   "source": [
    "predictions = nb_model.predict(X_test)\n",
    "print(metrics.confusion_matrix(y_test,predictions))"
   ]
  },
  {
   "cell_type": "code",
   "execution_count": 120,
   "id": "547d4487",
   "metadata": {},
   "outputs": [
    {
     "name": "stdout",
     "output_type": "stream",
     "text": [
      "              precision    recall  f1-score   support\n",
      "\n",
      "           2       0.00      0.00      0.00         1\n",
      "           3       0.50      1.00      0.67         4\n",
      "           4       0.00      0.00      0.00         3\n",
      "\n",
      "    accuracy                           0.50         8\n",
      "   macro avg       0.17      0.33      0.22         8\n",
      "weighted avg       0.25      0.50      0.33         8\n",
      "\n"
     ]
    },
    {
     "name": "stderr",
     "output_type": "stream",
     "text": [
      "/Users/haechan/opt/anaconda3/lib/python3.8/site-packages/sklearn/metrics/_classification.py:1245: UndefinedMetricWarning: Precision and F-score are ill-defined and being set to 0.0 in labels with no predicted samples. Use `zero_division` parameter to control this behavior.\n",
      "  _warn_prf(average, modifier, msg_start, len(result))\n",
      "/Users/haechan/opt/anaconda3/lib/python3.8/site-packages/sklearn/metrics/_classification.py:1245: UndefinedMetricWarning: Precision and F-score are ill-defined and being set to 0.0 in labels with no predicted samples. Use `zero_division` parameter to control this behavior.\n",
      "  _warn_prf(average, modifier, msg_start, len(result))\n",
      "/Users/haechan/opt/anaconda3/lib/python3.8/site-packages/sklearn/metrics/_classification.py:1245: UndefinedMetricWarning: Precision and F-score are ill-defined and being set to 0.0 in labels with no predicted samples. Use `zero_division` parameter to control this behavior.\n",
      "  _warn_prf(average, modifier, msg_start, len(result))\n"
     ]
    }
   ],
   "source": [
    "print(metrics.classification_report(y_test,predictions))"
   ]
  },
  {
   "cell_type": "code",
   "execution_count": 63,
   "id": "3c8d4e48",
   "metadata": {},
   "outputs": [
    {
     "name": "stdout",
     "output_type": "stream",
     "text": [
      "0.3333333333333333\n"
     ]
    }
   ],
   "source": [
    "print(metrics.accuracy_score(y_test,predictions))"
   ]
  },
  {
   "cell_type": "code",
   "execution_count": 64,
   "id": "4eb621c6",
   "metadata": {},
   "outputs": [
    {
     "data": {
      "text/plain": [
       "SVC(gamma='auto')"
      ]
     },
     "execution_count": 64,
     "metadata": {},
     "output_type": "execute_result"
    }
   ],
   "source": [
    "from sklearn.svm import SVC\n",
    "svc_model = SVC(gamma='auto')\n",
    "svc_model.fit(X_train,y_train)"
   ]
  },
  {
   "cell_type": "code",
   "execution_count": 65,
   "id": "da3f2ec6",
   "metadata": {},
   "outputs": [
    {
     "name": "stdout",
     "output_type": "stream",
     "text": [
      "[[0 1 0]\n",
      " [0 2 0]\n",
      " [0 3 0]]\n"
     ]
    }
   ],
   "source": [
    "predictions = svc_model.predict(X_test)\n",
    "print(metrics.confusion_matrix(y_test,predictions))"
   ]
  },
  {
   "cell_type": "code",
   "execution_count": 66,
   "id": "7b3730f4",
   "metadata": {},
   "outputs": [
    {
     "name": "stdout",
     "output_type": "stream",
     "text": [
      "              precision    recall  f1-score   support\n",
      "\n",
      "           2       0.00      0.00      0.00         1\n",
      "           3       0.33      1.00      0.50         2\n",
      "           4       0.00      0.00      0.00         3\n",
      "\n",
      "    accuracy                           0.33         6\n",
      "   macro avg       0.11      0.33      0.17         6\n",
      "weighted avg       0.11      0.33      0.17         6\n",
      "\n"
     ]
    },
    {
     "name": "stderr",
     "output_type": "stream",
     "text": [
      "/Users/haechan/opt/anaconda3/lib/python3.8/site-packages/sklearn/metrics/_classification.py:1245: UndefinedMetricWarning: Precision and F-score are ill-defined and being set to 0.0 in labels with no predicted samples. Use `zero_division` parameter to control this behavior.\n",
      "  _warn_prf(average, modifier, msg_start, len(result))\n",
      "/Users/haechan/opt/anaconda3/lib/python3.8/site-packages/sklearn/metrics/_classification.py:1245: UndefinedMetricWarning: Precision and F-score are ill-defined and being set to 0.0 in labels with no predicted samples. Use `zero_division` parameter to control this behavior.\n",
      "  _warn_prf(average, modifier, msg_start, len(result))\n",
      "/Users/haechan/opt/anaconda3/lib/python3.8/site-packages/sklearn/metrics/_classification.py:1245: UndefinedMetricWarning: Precision and F-score are ill-defined and being set to 0.0 in labels with no predicted samples. Use `zero_division` parameter to control this behavior.\n",
      "  _warn_prf(average, modifier, msg_start, len(result))\n"
     ]
    }
   ],
   "source": [
    "print(metrics.classification_report(y_test,predictions))"
   ]
  },
  {
   "cell_type": "code",
   "execution_count": 67,
   "id": "c22fb7ba",
   "metadata": {},
   "outputs": [
    {
     "name": "stdout",
     "output_type": "stream",
     "text": [
      "0.3333333333333333\n"
     ]
    }
   ],
   "source": [
    "print(metrics.accuracy_score(y_test,predictions))"
   ]
  },
  {
   "cell_type": "code",
   "execution_count": 2,
   "id": "69464f4e",
   "metadata": {},
   "outputs": [
    {
     "name": "stdout",
     "output_type": "stream",
     "text": [
      "hi\n"
     ]
    }
   ],
   "source": [
    "print('hi')"
   ]
  },
  {
   "cell_type": "code",
   "execution_count": null,
   "id": "1f14f7fd",
   "metadata": {},
   "outputs": [],
   "source": []
  }
 ],
 "metadata": {
  "kernelspec": {
   "display_name": "Python 3",
   "language": "python",
   "name": "python3"
  },
  "language_info": {
   "codemirror_mode": {
    "name": "ipython",
    "version": 3
   },
   "file_extension": ".py",
   "mimetype": "text/x-python",
   "name": "python",
   "nbconvert_exporter": "python",
   "pygments_lexer": "ipython3",
   "version": "3.8.9"
  }
 },
 "nbformat": 4,
 "nbformat_minor": 5
}
