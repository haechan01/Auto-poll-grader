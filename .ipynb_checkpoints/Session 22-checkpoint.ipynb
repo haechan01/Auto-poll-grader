{
 "cells": [
  {
   "cell_type": "code",
   "execution_count": 1,
   "id": "a6fb5291",
   "metadata": {},
   "outputs": [
    {
     "ename": "FileNotFoundError",
     "evalue": "[Errno 2] No such file or directory: 'home.html'",
     "output_type": "error",
     "traceback": [
      "\u001b[0;31m---------------------------------------------------------------------------\u001b[0m",
      "\u001b[0;31mFileNotFoundError\u001b[0m                         Traceback (most recent call last)",
      "\u001b[0;32m<ipython-input-1-200ff231b688>\u001b[0m in \u001b[0;36m<module>\u001b[0;34m\u001b[0m\n\u001b[1;32m     10\u001b[0m \u001b[0manswers\u001b[0m \u001b[0;34m=\u001b[0m \u001b[0;34m[\u001b[0m\u001b[0;34m]\u001b[0m\u001b[0;34m\u001b[0m\u001b[0;34m\u001b[0m\u001b[0m\n\u001b[1;32m     11\u001b[0m \u001b[0;34m\u001b[0m\u001b[0m\n\u001b[0;32m---> 12\u001b[0;31m \u001b[0;32mwith\u001b[0m \u001b[0mopen\u001b[0m\u001b[0;34m(\u001b[0m\u001b[0;34m'home.html'\u001b[0m\u001b[0;34m,\u001b[0m\u001b[0;34m'r'\u001b[0m\u001b[0;34m)\u001b[0m \u001b[0;32mas\u001b[0m \u001b[0mhtml_file\u001b[0m\u001b[0;34m:\u001b[0m\u001b[0;34m\u001b[0m\u001b[0;34m\u001b[0m\u001b[0m\n\u001b[0m\u001b[1;32m     13\u001b[0m     \u001b[0mcontent\u001b[0m \u001b[0;34m=\u001b[0m \u001b[0mhtml_file\u001b[0m\u001b[0;34m.\u001b[0m\u001b[0mread\u001b[0m\u001b[0;34m(\u001b[0m\u001b[0;34m)\u001b[0m\u001b[0;34m\u001b[0m\u001b[0;34m\u001b[0m\u001b[0m\n\u001b[1;32m     14\u001b[0m     \u001b[0msoup\u001b[0m\u001b[0;34m=\u001b[0m \u001b[0mBeautifulSoup\u001b[0m\u001b[0;34m(\u001b[0m\u001b[0mcontent\u001b[0m\u001b[0;34m,\u001b[0m\u001b[0;34m'lxml'\u001b[0m\u001b[0;34m)\u001b[0m\u001b[0;34m\u001b[0m\u001b[0;34m\u001b[0m\u001b[0m\n",
      "\u001b[0;31mFileNotFoundError\u001b[0m: [Errno 2] No such file or directory: 'home.html'"
     ]
    }
   ],
   "source": [
    "from bs4 import BeautifulSoup\n",
    "import nltk\n",
    "import pandas as pd\n",
    "import numpy as np\n",
    "from nltk.tokenize import RegexpTokenizer\n",
    "\n",
    "\n",
    "tokenizer = RegexpTokenizer(r'\\w+')\n",
    "column_titles = ['student name', 'response']\n",
    "answers = []\n",
    "\n",
    "with open('home.html','r') as html_file:\n",
    "    content = html_file.read()\n",
    "    soup= BeautifulSoup(content,'lxml')\n",
    "    #print(soup.prettify())\n",
    "    polls_html_tags = soup.find_all('pre')\n",
    "    names = soup.find_all('p')\n",
    "    for i in range(len(names)):\n",
    "        #filters out punctuations and separates a sentence into words\n",
    "        #filtered_answer = tokenizer.tokenize(polls_html_tags[i].text)\n",
    "        answers.append([names[i].text,polls_html_tags[i].text.split()])\n",
    "    # for name in names:\n",
    "    #     print(name.text)\n",
    "    # for poll in polls_html_tags:\n",
    "    #     answers.append(poll.text)\n",
    "\n",
    "df=pd.DataFrame(columns=column_titles, data = answers)\n",
    "\n",
    "#print(answers[0][1])\n",
    "#def poll_grader(poll,keywords )\n",
    "\n",
    "keywords1 = ['0.7/0.5']\n",
    "keywords2 = ['']\n",
    "n_keywords1 = ['%']\n",
    "\n",
    "\n",
    "\n",
    "class Poll:\n",
    "    def __init__(self, name, answer):\n",
    "        self.name = name\n",
    "        self.answer = answer\n",
    "\n",
    "class poll_grader:\n",
    "    def __init__(self, polls):\n",
    "        self.polls = polls\n",
    "\n",
    "    def calculation_check(answers):\n",
    "        for i in range(len(answers)):\n",
    "            for keyword in keywords1:\n",
    "                if keyword in answers[i][1]:\n",
    "                    print(answers[i][0]) \n",
    "\n",
    "\n",
    "\n",
    "\n",
    "df"
   ]
  },
  {
   "cell_type": "code",
   "execution_count": null,
   "id": "9ef998b5",
   "metadata": {},
   "outputs": [],
   "source": []
  }
 ],
 "metadata": {
  "kernelspec": {
   "display_name": "Python 3",
   "language": "python",
   "name": "python3"
  },
  "language_info": {
   "codemirror_mode": {
    "name": "ipython",
    "version": 3
   },
   "file_extension": ".py",
   "mimetype": "text/x-python",
   "name": "python",
   "nbconvert_exporter": "python",
   "pygments_lexer": "ipython3",
   "version": "3.8.8"
  }
 },
 "nbformat": 4,
 "nbformat_minor": 5
}
